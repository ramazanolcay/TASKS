{
  "nbformat": 4,
  "nbformat_minor": 0,
  "metadata": {
    "colab": {
      "provenance": [],
      "collapsed_sections": []
    },
    "kernelspec": {
      "name": "python3",
      "display_name": "Python 3"
    },
    "language_info": {
      "name": "python"
    }
  },
  "cells": [
    {
      "cell_type": "markdown",
      "source": [
        "Ödev 1\n",
        "\n",
        "    a) Json-Dictionary arasındaki fark nedir? "
      ],
      "metadata": {
        "id": "i4otQ7StOGNV"
      }
    },
    {
      "cell_type": "markdown",
      "source": [
        "Herhangi bir veriyi iletmek için, bu verinin belirli bir formatta olması gerekir. Dictionary kendi başına soyut bir nesnedir. Bir dosyada bir dictionary depolamak veya bir ağ bağlantısı üzerinden göndermek istiyorsanız, o dictionary'i bir dizi byte'ye çevirmeniz ve ardından diğer uçta bu baytları ayrıştırmanız ve yeniden dictionary oluşturmanız gerekir. Bu işleme serileştirme denir. JSON, veri yapılarının bayt dizilerine nasıl dönüştürüleceği ve bunun tersi için bir dizi kuraldır. JSON, farklı diller arasında kullanılan ortak bir biçim olarak kullanılır.[1]"
      ],
      "metadata": {
        "id": "7TeRS56JQhBI"
      }
    },
    {
      "cell_type": "markdown",
      "source": [
        "    b) Dumps Ne işe yarıyor? "
      ],
      "metadata": {
        "id": "UtanPZ2wRz73"
      }
    },
    {
      "cell_type": "markdown",
      "source": [
        "Python’daki dictionary türündeki veriyi JSON formatına çevirmek için kullanılır.[2]"
      ],
      "metadata": {
        "id": "rJZ2orQKR4mo"
      }
    },
    {
      "cell_type": "markdown",
      "source": [
        "    c) Neden encode kullandık? "
      ],
      "metadata": {
        "id": "aKGpvRmzSfG6"
      }
    },
    {
      "cell_type": "markdown",
      "source": [
        "Bu dizilerin verimli bir şekilde saklanması için kod noktaları dizisi bir dizi bayta dönüştürülür. İşlem encoding olarak bilinir.[3]"
      ],
      "metadata": {
        "id": "q8jhR5l_SsG_"
      }
    },
    {
      "cell_type": "markdown",
      "source": [
        "    d) Neden data.encode.utf-8 şeklinde kullanmadık?"
      ],
      "metadata": {
        "id": "5pdGMHIveuOv"
      }
    },
    {
      "cell_type": "markdown",
      "source": [
        "utf-8 bir fonkisyon olmayıp endoding dönüşüm tipleri arasında bir yöntem olduğu için encoding() fonksiyonuna parametre olarak verdik."
      ],
      "metadata": {
        "id": "JME2H94Dey6G"
      }
    },
    {
      "cell_type": "markdown",
      "source": [
        "Ödev 2\n",
        "\n",
        "     Json dumps nedir json load nedir json loads nedir?"
      ],
      "metadata": {
        "id": "pduL1M6kfO0X"
      }
    },
    {
      "cell_type": "markdown",
      "source": [
        "JSON modülünde 4 ana fonksiyon bulunuyor. Bunlardan ikisi Python ile JSON oluşturmaya yararken diğer ikisi JSON verilerini çözmeye yarar. JSON oluşturan fonksiyonlar şu ikisidir:\n",
        "\n",
        "-json.dump\n",
        "\n",
        "-json.dumps\n",
        "\n",
        "JSON verilerini çözen iki fonksiyon ise şunlardır:\n",
        "\n",
        "-json.load\n",
        "\n",
        "-json.loads\n",
        "\n",
        "[4]"
      ],
      "metadata": {
        "id": "S8UCDWDGfUPe"
      }
    },
    {
      "cell_type": "markdown",
      "source": [
        "Ödev 3\n",
        "\n",
        "    Dockera girdikten sonra spesific bir container hangi networkta çalışıyor ve default ip nasıl bulunacak? Bir satırlık kod olarak yazılacak."
      ],
      "metadata": {
        "id": "M3XB_ygmfurV"
      }
    },
    {
      "cell_type": "markdown",
      "source": [
        "Bridge network, docker installation ile birlikte gelen ve her yeni bir container’ın oluşturulması ile default olarak dahil olduğu bir network’dur. Yani herhangi bir container çalıştırdığınızda özellikle belirtmedi iseniz bridge network’üne dahil olacaktır.[5]\n",
        "\n",
        "Default ip aşağıdaki kod ile bulunabilir.\n",
        "\n",
        "    docker inspect -f '{{range.NetworkSettings.Networks}}{{.IPAddress}}{{end}}' cokunz-kafka-1\n",
        "\n",
        "![image.png](data:image/png;base64,iVBORw0KGgoAAAANSUhEUgAAA3gAAAAyCAYAAAAORXnZAAAWlElEQVR4nO3df2gc553H8feUi50/Yqn+gbETSbFs2aKKQy0ioyuyg/GJ6HQLoSrE/kfIBqWKECg5E0IgKUuzJIEQjK4RGFnXQCL2/qgDEfjYEwqqKYndZrF8VmkjUC17HUlNVCP/kvtHZI7O/TGzu7M/Z/aXJW8+Lwix9pl55pl5ZnefZ5/v84yx7pHHTIBNX/bxt6PXERERERERkYfTD1a7ACIiIiIiIlIc6uCJiIiIiIiUCXXwREREREREyoQ6eCIiIiIiImVCHTwREREREZEyoQ6eiIiIiIhImVAHT0REREREpEyogyciIiIiIlIm1METEREREREpE+rgiYiIiIiIlAl18ERERERERMqEOngiIiIiIiJl4p9WuwAiIsVmUgGdVdYfX13FuLySU7qIPHzMxjp4ah1wD4LzGDmmx7bT58eqKPf6K9b5iXhhrHvkMRNg05d9LB79P979xE9vjXOTKU40n2LE/sukKmWbSDBA0+CC54Oa9R1cGmmnNo/9u04OM8CHbH41nCHf7XyQUN5mzoS7IdDD0ZDnIpZMtvJ/H/3k9XNc+JdqWp7bzR8KzMvkHv/x2Ri+37az570NRSlffuWIvkcS3zsSZ27cysu+LWyy/7711VUGc/iSNQ81QFXmL0HzUAOwgPG75cz7Z0l/GJkbt4JvCyzEz8t6rQJCsxi3V7mALkzWw/O7YD5zgyu2TYXjxQfcwI6XYW01wr4P9e85rwLf/6X4/Eh77wIsL8HZG5A2PfUei+dz37VezcY6qF6GszfSf066pK+WtVh/+ch0fYtS/izff6UQbde0fZ5be/9BKWb50vVRnhnkgZx/MduPaUfwJhydoa6TwwyE+6D5FB9HDzz3IZtfyK+DYvr6uOXfx0Sghyb7GE39HXSx4OlEPh4e4+WRZ+gi/FA2nB/28kv5a+oPMP7sZdpeGGWyBPmbrOdfD26Br67yViENueUsnYAK4E8Zvhxd0h9u96FiK+bG5bwb9Gu20Rdt2C4vYJzNv+4e1kavN+Vb/zn5+h48/Sgmy+nPIUt6qT4/DFbg7LSVR5oGvBn9x4VpjAjx7TqrMZ0N+Y2VwBIsbIEd6+F2GY4ersH6K6oCzi8mw/efFMakinffbodggM0JHbmq0h/b18ct/zaGglPQWXh+rnPwPh4eI8I+fD6gfj9tNTBxLs/OHVW8e3wfkWAgYTRtcnDUe2dn5iLjc/t4ub/0F7skHvLym74+bob76FrtgqxhBgu8+UIPmzV6l8F6tlTc5y/X9QVVEvMrVsOv3GystBpmX69ux9xgBePsNMYaGr1LUK71/330xyVgA7GhBIAdFTB/1+oEVFfGO4YiUgRPUFezyPhnD3aU0qSZM3440eznjWvFyTO3OXgz33AVaD3eQVMoj1/36/fT5uHCRcMqW+fGUkYRDBZ446Mpeo/vp2lwIa8Rhq6TwwwciP89kRS+mZCeVIam/gDjO0JsOvcMt/z7gNQQ02z5u5U/9/zjw7imr49bhy9xgm4GDsBEIMDscT+9NYsMdfl5cyb7/unKnnwNjNApThweZiAcoN6RZy5+fvoMpw87XohUx/4ZDbN8JfaFtpOXdjfxn47Nzb1XuDJ6mbrY/o20PLeb3ycdJ57XFn7VcZgTf05zfHvfaHjoT14/x4WdP8IY/yvme9a7bPbX3kM+m/oDjHdus/9KH95c99GH4O+mFYDEuoHM90/6/XO7fyE1/CC6DQllb2c83G7/O7WMq8343XRJ8jUb66DyBnxdCS12nSeFAFrhMdG/4mEysRGmPy1AS3SDxDCqjGFajmMk5G+Hb+XUkbh+Fw5WYl6+kf4cM+Qfn/8BsAU6t9iNx/sQmoeD6cPnnCM+qWFmiWFEXq5vLN+kUDRuf2clPL0VM5L5muR3frOwI3u6cTs5j6RzK0X9Q8KIjidlWv+xa1jo9XmImayH6nXwpxW4swIVFbDxBjhGa1OuT9LvIdnSc/78S/P55FY/a73+Mr4/PLy/U/aHlOtfDIV8/2X6/p8k3RSszGGC8W2t9sEbM9H2Sbw9Yvr6uHX8W9peGOWih/aPW/szp/NMKp+X9u9q5m8Q5mhzcaduuXbwjvW0Uzs3Rm/IKsCRrse5NGI3/s7nOJesbju1LDJTaEMxdJah435e843mPK+uqT/AQM0Ybc3pb5jYHDn7QnedHGb8ExJvsAPd3KoZo635FBfrO7g00sM7n1kV7Ja/p/K75O8718PmVx3l/aSD6RdGuWjv+3IwQNv1Hsb9fggEGDrup+25Kt6cWci6/yQw8mpP0vxFH7O/SDyXkVd7mO4PMD4yTF2Ocxt/fvoMpznID3ZvB6Jz8KLHsztkkYP84DlH+pVJsDt55s8mMd+7xtjrR9jzaebjxPKikZbd8Q5c8vF/fvoMFz4jcQ7g4S8waxtp2X2E3++9wpXRiwyE4h3EbCYH/WwejA61p9+m1e9jqKuHozP29X+7g1H7+nu5f1r93UwEetgcsjuU/j66QtaHiNv9my5EOsYue6lCNM3aan7ZEu8o1/ka+GcA7vHfwXn+t2hHWm81Cu/kmV5VBRVLEJyHjVvBV4153dHA/3oa43f2OR1qgOe3Yp51NKZbtkJo2tr+UAMctNINgEPxEMN0c45ioVvBZUf+xPf3ZBmWt1oNvyRZ8788C5ezzBtZBirXA2lGXpe/gzQhlGZjXWqIWYbrm9BIjebFEgSj5VjGDC1Z88w6t2AupM5RKeT8uO2SDvE8aquhJcPlL6T+G+vsa1NIeGS51n8O1ydD58dbeoGfH8X04y1WJyPaAdpYac39jADcheXEMM2U+m2sg/jvp67pQPbPP5fPJ7f6Wev1l+38YrK8vz1d34LPL3/Zvv/NNFOwmvoDjMemaKXZFpe2bhrZ2j9e2p+ezjND+bK2n+1rEyvnyDC9QLST5uX83drXD1raEM1W/zA3w9Z/AzWJvWdjZpSm5h42BabgQDc3w8P8xlfcQlk92R42Z7goBguMfr5I6+Hm/A5Q00hHferLJs34DiwyNBzvtH48PEYkZfspTkTLNvMNV9lGXZ0jOUP+3sufOf/JQX9Ch+rjc1Mp+34QHe2bG+P9pDex+/4W6wbuhkD6kZvJQT+busbY5R9m0mO4qbn3Cq8d3sKvBren32DvIr7anbz0Ujz99+/9iDGu8dOfWX/3tF2DcwfxZencwd8dHcV4x83kW36adPzhwUZma+c5ste5/05eiu7358e4whJ79ng6RU8mHNc07fV3uX+cI3YXB0NMsI36em/377HD++D8h6uy4JARmeet4DS/DC4wy32+DE3zVnCat4rUuTOpwOxsgM5KCKYuPuCWHncv3ri9/R2wDn5on8Pl2cRfm7++l7r7BUfejnSTCuuXXTvE0GAF5u/bjeZo+n34o6PT8scl+4ve0yVwlGsFfpw4TFRw/nfvx/M61IB5yM6/ch3cXYk3Pp2drss3SAkxy3J9Lc6OQmJD0Lh9AyM4DRfuQVUVZmcDZm2Rzq9Y8qz/mGKUt0zrH/BUXuP2DauDcrABs7M6JYwxXXrxPj8K1NJg3dedDVZnyHkNdlTAwl0MHPePHaZpbtyaWr/O8rukx6WvH8/3j1v9rNH683x+md7fnq9vfudXDFm//+v301YzxQnHoI3VvrCnaMU84egI5t5xcW3/4N7+zC5z+bK1f43QKTY397Cp+UMmWGSoq4fNzemm2uSX/2pwXWQlEyN0Ku0IgjurMUqBo3gXB0NMhH28Ux/O6QaYHPTThjX61AuJw7/1j7OLbY6ee9RiYibnL8XONXlYNWv+XsufJf+U4XWAuW89n7/X/ff391g3sIeOQG3n83QNeq3/CqYzjYTtuUtdyouP8ZcI7MEalWuohbGhDB1EW92LX/AKabbb+3d2s0T76BleSUjYkrjduSdiIaEG2/HtPpL1eMXk9f5JFP0BIPv9a1JFfQ1MfFS6FVxNKujsrEqox9kL0/zXAwjBMViG4LT1RdtZh5kUOuOWHmM3oJz7RMVWKnTyONndYBlzAXiyAiLL8XCreXv/jY8C68DXkPSFfj8lL1eRG/D0VhJGWwrN/84KVD9q7VtxD6jEZMWeF7cCP0w372slNUQpw/WNlekp+wejLIsgGJF5iNi/kLdUY0bmi3v9SsC1/rF+QDCpi59DPiG6ULb17/X6xFcPnU77Hk+fXqTPj0JlCFlMd79wZwWecl73FZcRH7d0MtePh/vHrX7WdP0V5fPDw/XN+/wK4/r9X7c9sV0IwF+ZnSPh+7y2s5teStuOyNT+jE3fcryW3F/JVr5C28+F5u+l/MVU8HPwLl5bxHOnLXSJCX93LFywEAZhQue7eTklr6Sy1D/OLhYZn41vEQujs4dZx09+4wg1LXy+Ufb83cqfmUkzZ0YSV/exYpy9lcvr/mZ9B0PPXqYty0qpWUP9slqmYS/gIdzR8nf2JH3q7N59D8g8J2721+3svjKD+d45Bv6SHFqZOB9vLfJy/8Sk3N/u9++unVVAaSYQGyzzX8HSzI/z7LYduvRD0n/ZuqVnYFJhde6c86Vqq+HpHMtXVYUZXSFrYSFp/pH70udeGKxgzq+HHcmdzwLyv7MCFeutX7Pnb0DlLqi9YeV5h6RRmKj1qfPN3Hx1Fe5shZY6zDsuZb2zYh0j9gt7ca5fSWWtf0cYaHQk69B3iaNiHpRz/Xu6Pj9cD8vLmd/f2dJL9PlRsOgiQ0/twnwqKa0WO+TQrp+M5XJLd+N+/7jVz9quv8zn520UzeP1LeT8CpTb9/8T1NUkvhIJBnjm2vPc8gd4Z7b4c/OztT+9zFPLVL5C28/FyL8U8+yycV1F082xw/tg7jKjHirZIMz7wUVqO/0JYZ3WYxLiTJr5TXiYm5900JQlv4+Hx6Dz+fi+MxcZn9tG23PxkEFrDmH68hksMDPneMHev7cnz9BPt/yTpJQ/R9aqO/vcN8xhf+smbWQ8S9xz18lhaynXrhx/ebDDHX0+K6zB/NkkF15ciqd/+gRjXOP06fgvHj2nv6A90sjbn4LBBs78dgt1L15kYG9y5omMT5to+TW8Mnouvu2ftxGKLPFKf26/2KwWt/sH7Pv7fMj6kHG5f6OhwbWdPbyTJQT04rVF1zBRsTt8Ld6ftxgLAQpNYwTt/5wNm9t3YXldSmhdSj4bt9ohXC6hO9eXodqRl8f84/M/kl6PLnKyYz1cX7HCk57cChX2r9aRu8AGOOTI/1BV4hwij4zIPHwF+Oows4VzPbkh3hAq9Py8pufJtf6TGOlGv1D9x7bJcH1Wm+f6ydWOCutaBh33T3Daaqs/WREPp7RXUDVrqx2L5uCe7sbr/WNzq581V385nl/q/gVe3xJz/f4PXWKCfQycjLcfjp20FjtMnupjhE7RFoTekUBKXtGpR2Z9B5dybJ96aX96ka18CcfKs/1c6vyLJacRvPTDj7mtcBMLQfMPc9NehCISDGTtyGU0c5HxOT8+H4yE7BUqX/iQurCfm9FfSJPKl7JKz9xY7JcCa/8AfOLnZrg7r3PMlr9b+d1YHWQf453R81tkKDhF67MeCuZx/2MnreHjxDC/+KiQ6etj4EB+Kw8ZbOffOhq5MjrGP17EWsHy9Z1c6HWk7z7I/1z5gn9csXdKWuXyD+8dpoVzXHCGWWZYRfMP7x3mpZ1nOD16hj2vH8H36Qb+/bl2+Gwsnn+aY+QrdQUqGAgPM0B0lSn3PLzcP62O945zoSMv929KCGhSOjhWSo1ts/ZW0VwNBsuYX913/IJ+H766l34Sfcb9t6aGAMXClFYwz16F53fFR3gS0nMs7+0bmMtbrAUFwHP+RmQe88kGRzmjq1iuwPIGqF6Cy1gNoha7AR89v+ACdDpGqPINMcQO56q0y3Fh2hrVSQmPdeZf2PlFf7XPfP5pVsDsbMCMpbucj2v9k2YFviXI85l/5Vb/RqS41+dBS11B1b5OsQedu6hcB/N3U6/l1/egpRKYh9AS+OzPp+UluEAswsCILVKUPt2Nl/vHrX7Wcv25nZ/7/oVd3wch+/d/mCPNcCbcHW8/ZGn7Tg76ObHDaidYi+0t8MYvxmgbie4/xYnAFAM5jJC5tT9zPdfE8hXWfi51/m7tx3zaX8a6Rx4zATZ92cffjl7PPYdV5lyGdTVWqSnUw15+eXDij0koXcx2OYgvZ51lLkuW9JKVKzavwrlsfgV0VmVcKl7Kh+r/wbFCp1cyP8w+S/pa/fz4Pin3+ivk/ES8KjhEc9WFLjFR085rRV7J84F52MsvssbEQn+eTB9q45ZeMukWodj4qPX/O2rclz3V/4Pz5AZY/i5z4zhL+pr9/Pg+Kff6K+D8RLx66EfwRL4vNILnXWxkBNKOjrill6xcySFKsOYe9Culo/ovrfjD2hMfsO41PbbdGv38KHflXn/FOj8RL9TBExERERERKRMPf4imiIiIiIiIAOrgiYiIiIiIlA118ERERERERMqEOngiIiIiIiJlIu2DzuMP3Et8oHXaB53bJgLWyn4mzZwJWw8rBBIexOxVpuNbaUn55/EQwISHSef4oPam/gDjndviL+RxfiIiIiIiIqWQMoJn+vq4Fe6Bz6dSNjZmRmlq7mGz479NXWNEWGR2Ntox64aAndb8IRMHupnsT14XOrNsx4/mvysYiB2/LQi9b3fQ5DH/rpPDDNSM0dbcw6bmAEO0M36y2XP5Jgf98XO3z+83eoadiIiIiIisAQkdPJNmzvjhRLOfN655y+BYTzu150O8OQMGC7z5QvwZXQZhQueh9tn9njpg7sd/groauHptIfbKxWuLULOdBo/5+w4sMvQLa8TOYIE3PpqCAz7eqfeQQYq/MjsHu3Z678CKiIiIiIiUSkIHzyDM0aSQyGzM+g5ePgAT54oTouh2fIMw7wcXafUHeKc+2iHcRyR41luZfc/QyiIzdjinSRXvHt8HbKOuLo8C1++nrWaR8c8W3LcVEREREREpsbRz8Lza/1wjtXNj9IbSp1sjZhAJXvQ8x83N5KCfTdf6uDUyTC/W3L+mDMdPa+5bponPJ7waCDB03E8u/TvnHL5IMJDT/D8REREREZFSyXsVTZNmXuvcxsRH6Rcoic6Xa2WKDwaLN8LV1B/gln8bQ109bApM0eofzmmOH0BDf4BbI42Md/VwJJfOoW3k1egcvADjz/q5mcMcPhERERERkVLJu4O3v99H69wY72foIB076ae3ZpGhLu8hn25incqAtWqmETrFpsAUtZ093ufQ1bQz8Oxl2pqjK29a8/ryEZ/D9wxd+WUhIiIiIiJSNHl18KIdrcjn6UMvm/oDDBzI/fEFruofZ5e9YmfM7LdEvO5vb5sw6lj/OLuYIpTHSF6MHfYpIiIiIiKymvIbwfM9kzH00npOHFk7d2Z9B5PhYW6G+3Ib+Zr5hqtso7cnHhJ5rKedWsfCKdnyN2ZG+eA8tB63HqtgUsW7b7dTe/5S4rP2PJYvtshLho6uiIiIiIjIg5SwyEr8AePx1wbCwww4HiYeX7kykBJ6GR3ZA+i1F0GJij4IPRv344c50gxnwt3cDHfbW6Q+DD2bj18NUP+Jn/Fwu/VCDg8qT1e+nBd5ERERERERKRFj3SOPmQCbvuzjb0evr3Z5REREREREJE95L7IiIiIiIiIia4s6eCIiIiIiImVCHTwREREREZEyoQ6eiIiIiIhImVAHT0REREREpEyogyciIiIiIlIm1METEREREREpE/8PzQVMPW30vVYAAAAASUVORK5CYII=)"
      ],
      "metadata": {
        "id": "hoRxVCOGgK3m"
      }
    },
    {
      "cell_type": "markdown",
      "source": [
        "Ödev 4 \n",
        "\n",
        "    Kod json.dumps değil de json.dump ile deneyerek yazılacak."
      ],
      "metadata": {
        "id": "XIiE4LIRkFsu"
      }
    },
    {
      "cell_type": "markdown",
      "source": [
        "![image.png](data:image/png;base64,iVBORw0KGgoAAAANSUhEUgAAA4kAAABzCAYAAAA1z0e3AAAgAElEQVR4nO2dPY7bPNeGb394l2LjwQBZgbwCG1OkmXo6ubWLdCnTpZBbu5s6TYqBvAJ7BQGCQNqLvkKiTNMkJVL/9n0FB57YokQdHlI84s+ZAchACCGEEEIIIYQA+L+hM0AIIYQQQgghZDzQSSSEEEIIIYQQUkInkZAxkBRS9R0hhBBCCCEdQyeREEIIIYQQQkjJDNy4hhBCCCGEEEJIwXRHEqMEyDIgjuzHxVl+nCxx2E8eqwiQu+gZAHEbkfRdMFC+UFyfUx0fC5YpAaZrBwmGbxddEO37WHU9NX0KppjvMT/rm/aR6vbFyDCwfFogQIQMGRK0ocUQmebfSPwSheGcRF3DVLuRCoHtPP9z9Tqth4XMRfr7r/KpI8b1oSJLArRiuTJ7AHPAy24D3OfVlkfT8bZru1zD1lmTH96yHYlzm/IQFr/H0nfyQ1+XTpem6n5054mgtwNV1LSuZdrE3nzK1JbOdr26aXzsAJpzq6Irz77S+NCkbhNC3HF91k+GB+mL+Tx3Etjb61H4ZA9SPmQwJjqSeAT2af7n6fO2AVZZz4BZIZtTL7lrDdt9ycwBbNHuG8lfxedXx3QRgDOAlfK9yKOu4246/qA5vs41XDrT5+Jzg/r6roOL3nx0UIc/yv99y1Slyt5878fVdnzT6OjKDsZIW3ZACGmHIducRn0kh77YmPmA+Rky1pkAtXiQ8nkwjphJ/8btlwzvJG6kBkqW9dGebrcojtv1k8++UDv2OjbIV5MK2QAo2oGys9uUC4AT8oazruMZIm9UUaRdSnlcIh/BUDlLx8v3JI7d4nbEI5CusVfSmK5hQjiTewAV5uaEq95cdbBTjtOl2eP+geBTpoC7vbneD+BnOz5pdNS1A1UPQtYjSOOCrx0QQtqjzrN+CjxCXyzBfbu7LH6bw/6y0fQsHos6JlI+AWIknN7SMgGihlNkh3cSnx3R2VYfGKl6oIUjgIX0/7ampf0uPr/XPP5QfO6Rd2hlJ+WCvNGU2ymRzxPuO8A7XDv536Tv36Q0apsnrlGnMx0i7ySnmvM0xUVvPjowIRxo2z25lqkOm7353o+r7fimUenSDsZMG3ZACKlPG8960g1r3L8gvMDtpTPxJkCCM1aY4yvdxBYJ8B2vmGOLDInnG+FpOYl9bkITBECc3F4riYGw5VfvC+RvnUQH91L8f2FMYWZTfKrTJmTEvPs6rxaOyB9gtvMJRDG4dLbFeX8YfhfnmWt+89GPIMDVwWhyHhtipKaKJjpQ+Sg+3y3HuJRpFTp787kfH9vxSaPShx10jajPAfTrakzNo48duK4z9c0bNMdmsNeBPvPmi7qW2PYyL8T9mqe6a3rVdDHcRozF2mmTHlx0Ldb6intV01W90HS1Axd88iZ0W7VWXTdFsc1n/dC49sWCSDpG7VslFWl76ovZmNr60T7LpxEBQmQ4Yw7ghA3Wiq8eIobY1CUq/s7KEccASfmNvikJEZXHXI+MrA1igBCJkuqjnLR0izi77oztbnZjypvtfi5YY4E9UgBznJEg9HIVbUtvu5M4y5BlGUKPNLLEYf30YVwvTRDdX0eWKBhIZxCbIBnyLVlOUPF7VldnxbFRzbxVHafmJXG8Z/keqtKariVqmE5HdXUt9BJL30VSGnHNyJLGVwc6iTTXa6tM69qb7/242o5vGh87qKv/odOI8tdvmtbMDuRjTf905/DJm9pG6f6p5VWVpq28uYpsb4nhGrEmnS1PtvKypdNdR2f/cjnXeYZU5U0cHzvqwMcOfMvHJW+R4fsmdXhMUreP5NoXE32qOM6QGPpVuvRD9sVEXTA9z4TNDF1mQ5ZPIwmy6FqQWaA9Jszi/OLFp5Aki+5uMs7Cm7RxlliMJ4HOdiJrmvy6uuN1+Rf3p6ZRpXSGKvRlz5v+flQ92nStl+FHEg8ZtLub6l5c9LIJTQB8FHP29svbdZLimtuPca7lqVqULNYiAfWnUYjXOq8Vx4m3oXXfuH0pPl0XhV9wHcGaIzdjlzflUZFOt2avTS7IR2r0r59yfHWgo2qaqUzdMq1C1Z/v/bjajm8aGR87OEDfjNpeE/aVRpS/vK5G1HHTBjV17UAecXVZZ+qTNzEarltjapqWJ9Koa5RFO7GFuX3w0Zsr80Jk3cmj8Lq8qfev3o+Kuj5XTfevRj5DXMt5CX298NX1CnYdmK7jYge+VOVNvp+d9L3pXEC7a9zHiG9fbLUqdL25T79SK1zPfTF5BD1DXhdOqB7pldMkcB+574JeyqcJIWKci+Z3gyV2FY/hFVZIsccMy2JcbIsVgA2WWBZN9gIv5fEREqwwL88vNolZYlM0IHOcldHHABG2mjQzzLAZeHsZkbcUJyxv8rbEqdDIh6WLcMQay6JZ2+KMuPZkmeGdxLERfi86j+/ATjHb47rYKWoOvA3dCniyhvui6iG3zNd1bo7IOwui1q6Qb5ZSNR1L7FbW1/qzn8VnU71VdfBES/fTetQtYyvTPunbDvpAdGbkzqnYxdTWyaljB2/SsbZ1pqY+RN28hbh21nVrTHWINHvcl+VRytsb9PjqzZUNbnVny5tYV63es5girEOs8dWV0RHVdh4h7xSnuJ0SKdNU12re5PuRH6c+dtAUl/IRzx21RybqENex2dkvbzcmPP4o7GCh2MEI+mIruL30nOPaH5nq4rq65eNNhASHYiuAJRY41qrWKd6VZueEjSFtgNfC2VPPf8ERi8LRBFY3hfS9eM+20eTpz8Ddlu9Fl+Uda1yUJnGN98JNfLUW0AXH0sle4VBzGuzwTqJpd9Oh3sS9FD2D7Vk/wrlta0HEhBhyy/z/DN9fcHV4xW6bIsSCaZ1LimunuK3NfWwIG66z6YwNkw6A68YrJ7jVmTGWaV/42oFp11FbB7yvNL8139VZ81THDsRI4y/D71VOVd28iTzojjchXh2LkCyq2EbyXfLWhBT6uilGwXX1QbcmMYN5PZ743uelx3dcX5rY7rmJrl1eyPjYQRNcy0est1ZH4EU7b6onBEj39w6fib77Ykfc724q+hW2Naa6NMB1VH5KuJSPFxGScrRuiUXttz4n/FSOTfHD0OUJ8FZc4dNw/gs+i2J6Kd2qsJgGcBrhNICgaJjnOEM3K/7ssFD7UjrJc2xrOIrDO4lj478JO4HyS4Q263mdLfNFI/pi+F1F7PBW1RETv9u2Cxe7bcpThExv8Xa4btjRx5s+4Yzo9NaGDsSDyDU8QhthEFR7870fV9vxTSPTtx2MFRc7MLUpQ8beGvqFQxfEyOt13UeRKDffaZjiFXnV9R5R1z6IpQRyux4U/0/BWHRtMXRf7IL8WaWWdZ00gmd+tmjZKRupdDkjL7GsRvk7qfCXX1rbrUvsJJs3VnssKt/d0UlU+Vc8aU0jnEI6fdviiZgW08WW2lVb5ouORt11bkJ9VbYvfq+j7iOuU4FszoPY/fOA7tcOiBqo01tTHYhRsA38aBoGQbU33/txtR3fNCp92sGYqWsHJh0NqTthB6bR17HFLKsiwHVdm+6edG173Xpn4heuUyRtPadH03UTPovPN+XTZco/sTOWvpioE1+sR93CsCYWdlgUa/ya7LhZzcLSDXyZ1KbCfwqDOt2sk7z/Zx+ZzXdGve4kW+0gAnQS7/lbtAhfJ/YKSA4y38WDqmrLfDHFxmWdm2lthyBWjmsLefMbXTB44NohMk3D+6ocZ8MWDsNXB6Iz6TrNVKZJOAyTvfncj4/t+KRRqWMHz0CVHYhOkmmtmfj+0/B7XURd0j3ZxUZDKuJV8RDTppuim1Ypv3hxqdeiU+pbF8TaUtPUOqA/XfvYQRfYpr2K3tWr8jm+mWrTZSx9sTqzmWTEqLJLmqcj30glb3IOOFcEpXDjUjRV5jV61zWLv0q3SjhiC20wC1MIDMF/d+8QgnKNY3MuRaO88m7g842CDsWi8uVdqBEzdBJVjsUTYXUA4mj8IwwB8gen6ORWdS5c4iSqiE6gLq28c6pYFyjrTuRTTisevlvcrw2LoY+5FxfnUMtFnF+kqdr1Uh511HWKhBOywv39ytep8ypG5F+3NtFHB8B19z/XaaYqtjLVUWVvPvfjYzs+aXRU2cGzYLMDuUzV32NcXxY0XYsl0ss7pYqYfKanrbC9Fcaxq6AJ1TbluiDXH9FuqdPbxM6LJgdJlN8B945iHmKsmh1QvN7X14W+dO1jBypiPWfdNcd1y0dG6EreKbkTQiAp1uF1Fq9uhAzdFxMxR8UmSnUGLENcn43WNE9apjdcsPPccbOKY/FQvx+plEfTbtcsinWK+S6h15WKUXm8jr+l+/ZNmnueX6ONYNSC38Ud5dvNuOlJ3iiozk6y97QQ78RDnOMkhvZ4OVmWIYtbSINrrCCXNL3oTLtm1RzTSRWfOImq2OIGAeZ4U+KfGkerKiaYah9VOtDpwRa/T+TXFkutbt4iw/fquUyxt1yv46oH1zL1tTfX+/G1Hdc0XdmBTg99p2kjLptJN75l2iTuo+7exW9qfLyqGI5Zx3oziW+sP9s/W2w2W12oGydR/l5nC666roqdasqDjx2YbLVOnFeX8jGlbxq30XgdJVZgqzbbU79K3EMSafIQFLH5Ek3d7qEvVmUHpuecT5qxlqlv+bQkQRmcUY11eI2TGCrHXuMC6uMRBsaAj/mxsSYfofH4sPjtPuah+ToitqOaJlRiPurThnf5s8d91KUJpDT2OIpm4UiijuMaWG6A0wQmlqe4xpKqGlXyiZOoUrVlvthARlWdiEWmjrztDMeLe1Lf4q6LPOiKRlzDZXRNrEvTxXlbG/KWGvJmw7ZTn6sOmsY3VHEJh1HH3lzvR+BqO75pdNjs4Fmw2YFvmbqyxv3U6qo6rYbEGQtiOrOurRJ6073S1cUCFMfbRrtNdeGE+5kINuTNOtTr9aVrHzsQiE2pAP/p+CJmou2Vu9jABuh2w5rLrgj3UPAy1uHyDhiyL1a3X+WT5pnLVEO+4+YJKX639ijJz7kvogheSbHHBgttER2LOIqpdPQJS8wsubrg/S5NPmK3bnmD5jUW2GB/cy07F/zAZxFfsv5Osvd08maA8qAi3rrVHaXqWqreKlOmV6YU2gGF0rVUjXLWETES2uWINHA78tT1tSj9CMuUMg0ZPAOUqcmYHLOmD3nK+MqUQjugULqWpk5i2DB97XyG2XVG20BLXSgsU8pTyv9AiCtNN0tpCzEtrumuimQ8ZUqGhXZASDUhrjFquwp7EUTAWd6pJwWWrKCThmVKJgbXJJLpcsTzxOUihAyD67vXujtqkmkR4FrGwkHco/uwF2kK7DfAbNHdukfSLyxTMhFmyJs8QgghhKi4PiFP4IjsFAiQhytIgVqRtcXxKNL8BOMiEkIeGjqJhBBCCCGEEEJKON2UEEIIIYQQQkgJnURCCCGEEEIIISV0EgkhhBBCCCGElNBJJIQQQgghhBBSQieRPAxRDETB0LnokQBIknzTPTINns5GxwzrDyGEEGLkKZ3EMAayDEgYzwpRkuti6h3XMAa2K+D1zT3tVHUQfgfmc+BMO26Fru2g0kYDIMmKtikqvory/4/NPoMQiJNr3gbNo6feWH8IIYQQM8/nJAbAt1X+53wFhMPmhrRAEAGHFYATsNgNnZucKO5+lOK4BjYnAKtr55iMk1o2egGS4s/kb/HV3+7y5GujQQScD8Bq3km2EAQaBzQB4siQV0+9sf4QQgghZp7PSbwAP0/5n+mJsXAnTwB8bPM/N2MJYB0Aryugoz70Dcd1Hrt7vh3XSBORaMlG/17ayQ6ARjb6vbiX0waYzW5l1zCPQQSczxoHdA6stsDZw6m16Y31hxBCCNHzfE4i8o7BbAYsxuJUEG+ij7yje9o8r8O/3uSf2w+urxojjWz0D5B2kCdvQmAFACdg3UGFMzmgy02hhznwvc70Dwe9sf4QQggh9zylk0gehBDYzgGkwI9n9RAB4AjsU9TvQJP+cLTRf4Vn8++P8kMKqF89HAGwALQO6OUIvO/NSRvpjfWHEEII0ZI9ssQZsswksSVtgCyKkSXy8QmyOKxOI18jSZBFujRBce4iD6FyrSRGFrSsC/UaskSBJm+JPg9Rcp8mFvcSIIuT6z0AyILoep0b/TXUQRhrztmWDgoJwuv9WMs0tNiZYkO6e6p9HZOI69ts2lcCTdl0ZdeBRg8xslBTNs51roEdOOmgoY26lItTPW1oo33YmdCvrrx17U5r0uV9USgUCoUyTRk8A52Kl5MYmDuQxg5faE+TRIZrxPed4lpOrItU3E9rTmJyfy9RdH+tsCUdxOr52tQBbp3byjJt0AF3uk4NW6+lj5Zsp027tupBl8a1znnagbMOui4T33rqaaPWNrTl9urmhVKU5yPQvHjqQjotKwqFQqFQpieDZ6B/qXhrXL79Vzp/QTFqceckSp1IdaQkrBpF06QLpM5cGx2WSOpgBYozGOvezvs6iVIn+6bDX9zbXboKHSSZJm9qHmt2Gp11gPwedKNYleVToT9VvK9To1zash3RYZfzpi0fX7sO9WlEOrUuetU5Tztw1oGnjTqLRz31sdE+ncSyPmjO38lobF19USgUCoXyfDJ4BvqXCiex7BTW7JQIh8g0olA6TPL15E6uJl1rHZaa99qWkyjuRXYSQ1M6SQc6XVv16jI9zEcHFSLStOEkel9HkdanNob17Prmd0+7Lp23mqOmXnXOxw58dOBjoz7Sk5PY6z1BP/Va6LjtKfiydDo1mEKhUCiUiQk3rtGw+5l/rg5AlgCRKT5Xwdtr/vn5S//75Vex095Cc54UeO8wtl/4Nf88/e7uGjI/lXtJ9zV2dDRs6iFinc3/u/8teCmS/qvOUxMdmIKGb1uOb9HGdf4Uuli8tJSn4jzz7X2+sgw4by2JHe36v+I+Vfsx4VPnfOygiQ5cbPRRiTU6y7K8XdW1qXIMxnQPLGdFLEPkZeATAqMubdcfQgghZMrQSdRxBGZL4FTseLfdAueiYxNbdr8zxuOSgj2T6RDG3QYN7/s6rnzROOedIHa19NjBs+s615sOyE08ydMGWOyAC4qQRVIIjA8GvieEEEI6h06iiQuwXlxjdO1PyAM6H4Ak1id5Mb3iFp1g0hq2UcZWCIBvq/xPXdDwfVvB61q8jnBokr/tZE2MrOjyJcui6Ui4cOjmwBfHpF3XuSY66NxGJ8DapLNF7gDKBG95PEltDMYj8FOMKHakz7brDyGEEDJl6CTW4HIEdut8dDEFMF8B8oDi32LI4vVNn150ftLP+45R19imUAVRxXRGTac9CNufamnCOj3wj2UKr3qohw7KDqthKmxb/dQurnMXK84T4eSsvrZzPhsizt3XmnHqfOqcjx000oGDjTZi4HraF396mrbbVv0hhBBCpgydRA1xAsQRECg9u8AwzHEsnJj5FkiU9YthfF23ZFo/1SSfWZaPbJo6oWJt1nwLRKIDHgBRbFlPJU3V+yZN7QqL9UJd8EW+gSJ/h2KE7bduUaPD6JOPDoRzgDnwJuUtCIEkq5gaKuXto2I9a6PrKHwt9GWcgilRx3ZwBE4AsMqPCzv0dH595p+rQz6l+8Ycwrw+3mTNo8551YUmOmgwQup0fnjUUwcb7YuyLqz0NiCmona1xtOl/hBCCCHPwOC75/QuFTv0VW35btuJs3aaJjsTaq5n25FP7Nqn27Je/OYSI1AXKkCNMabb9bEqBIZObDuOuuxG6KMDmx0kFbuOGq+nKe8m16lr0762UxWL8C5vDew60uxoKZdT4zrnaQfOOvC0UR9xrae+NupjZz5itYGqvDWRHnZtpVAoFAplSsKRRA3rZb4GUV0Olp6AzVKzXgbAZZevXTyl9dM04bK7Xis96acqCo7rfIdAOWunDTBb28+/2d+mSU/5boO/e9iFR1xrZ3mrL0aTVt+qR0J8dLBe6stzuQR+VujguC70V2NNYZPrCKJv+WednTtdbAdHYGGoD22zW+R1SNVZegI2P+6P96lzPnbQRAcuNupDk3rqYqN9YbSBFNhv9GsZ28Cl/hBCCCHPwuCeau/Ct8bjkBbiCbrGtHxICTseZaE0EtroyIX1h0KhUCiUO3nKkUTGL3scdu/5KMrqcLuZ0DMRF+vP9u/9b4xEqqGNjhvWH0IIIeSeh3YSg+h+Axp5A4S2N5IhA3AB3vf5nwdDaJJHJoyBFfLA47apuWRAntxGxwzrDyGEEGJm8OHMrsS2qYO8oQplIGlhuqkQsQlH8kRTiMuNR57onqcsz2ijYxbWHwqFQqFQrDJ4BjqVML7dmTBJkEVcGzQOadFJBPK1X7bdUB9OAmRxzHVUU5Kns9ExC+sPhUKhUChGmRV/EEIIIYQQQgghj70mkRBCCCGEEEKIG3QSCSGEEEIIIYSU0EkkhBBCCCGEEFJCJ5EQQgghhBBCSAmdREIIIYQQQgghJXQSCSGEEEIIIYSU0EkkhBBCCCGEEFJCJ5EQQgghhBBCSAmdREIIIYQQQgghJXQSCSGEEEIIIYSU0EkkhBBCCCGEEFJCJ5EQQgghhBBCSAmdREIIIYQQQgghJXQSCSGEEEIIIYSU0EkkhBBCCCGEEFJCJ5EQQgghhBBCSAmdREIIIYQQQgghJXQSCSGEEEIIIYSU0EkkhBBCCCGEEFJCJ5EQQgghhBBCSAmdREIIIYQQQgghJXQSCSGEEEIIIYSU0EkkhBBCCCGEEFJCJ5EQQgghhBBCSAmdREIIIYQQQgghJXQSCSGEEEIIIYSU0EkkhBBCCCGEEFJCJ5EQQgghhBBCSAmdREIIIYQQQgghJXQSCSGEEEIIIYSU0EkkhBBCCCGEEFJCJ5EQJwJEcYwosB0SIUki2A4hhBBCCCFkrNBJJD0QIEoyZFlid64mQBifsV2t8PpmvpHw+xbz+RbnOOwxZ26EUYIsy5DE43Nmx5w30h/TsYPHad9c6Kt8pmMHZsI4Q5YpMuLnA3kURNuUIXN8cR2EEeIkUey2zTbOP2+kP26cxAhAVlOmUqAhqu+FkDoEUYLDCsBpg8XuYjzuuJ5hcwKwOiAZZa8xxNftHAAwX73C4u8OwJjz5kEQIorFgzYGu4V1eTA7eDhcyyevB+4zLGgHZMz42nVfXPA3cU8VRAnOhy1W83n7WSrxyxvpF44kElKHIMLHdg7ghM36WHn4cb3BCcB8+zHC0YUjfu9TAEB6+sQvs787AGPOW33yt7AZsvMB21WXD9pH5THs4HFxLJ/gBa+rOdxrwmPYwXE9w2xWyOY0dHZIW3jb9QAkf1Gv+oT4XryYOW2WV7udzTCbLWB5P95D3sgQGAfZAiDLgCypP8A4OgmLe4hHkJfnlSCLkizLsiSLgqHz0iT/WRaHDunCOE+URFkw+D1QepMgygpzybIkzsJQ/D/OwqHzRulApt6+9SCiTrAtvD4X4nD4vFCayQTsOrh2Xuql6dE+nfNG6V04kkhIFeF3bOcA0j1+VA8iXjn+wD4FMN/iO+cZPg+XX/g8pflb2MUaxz9DZ4gQQgghxB2zl4/qkcQI1SN1WSHym5ak+A7IR/sS6bhEOVYV3fGR5diq/JnSiHNG0rVM5/JJo+rQ5X58riMf393ocJCFcXIdScmHU8rPmzft1rdwurfzYRaLt05BlMWJGKzJ30KVb6Wy5HbET1wnDrX5S+LQbm/lizUPfbT+Vs5TB9J93FAnX0GYRWqZJkkWh0FraZzzZi3TxFqmQRhlcZJoLlheuN0Rv6C7kcRcb0UdKXQuKdxcRoGmHiRxFtnK1FC3kyTJksZ1299Gx6AD8dl4JLFJW3V37zXup8t6qj1Yg8ZGmrZVtXTg3YYE2jak2nYUvXQyeuKeN9/649SO9vWs96nbrnbQwK5v7rm4qSSqYTN9Sl37bNivokxGzD/WcRLFMZnhd5OTlkjfZwbRnS+xHK/LZxMnMbZcTz2fT5qm9+NyHd31Wp/6Jk+z07ea7TiJSZzd9gOSLIrUhlvzgIrVdPLhpgaxuKZ3B79pesP5XHUAz45XRZnqH9DuafydRLcyvXYubEzPSYyj2KjzO31XlI+209J53fa30dHqoImtuLZVofnefe+ncT3t20l01UFHbUhlp79DJ9Enbz71x7kd7etZ71O3Xe2gDSfxJo9DL0MQfZQayHpo1K+iTEjMP9ZdkygcPZ2hm34zjRwG0m/qaJo8ailXPluaEGYnzHRvaprI8FvTNCLP6sipfLzJGXW5jk6H7Y8kXtftJXGYBTcdxrBoRFpyErPr9zcPqzjMAl065aEhv+EKyvVihg7ezduyJnppa72Spw5UqdlRKQ9THqxB8cbZ1pF0SeOcN2uZCg2pD9+r7m7fjgfXTmkXD7XOncRSCdKb8iALtes9rrYRR8FtO1p2slW76aNuN7fR0emgka3o7NrQVklpbt/eS/ef3Xf0e6mnteyhhev46MCrDUEWRHGWxFEWBoreLGm89eYoPnlzrz8e7Whfz3qfuu1pB83sekwjiQ2dRK3eKvpVlCmJ+ce6TmJoOc70vTySWPe6tryY0jRxEk3TXkXedY5d3TRVujWN0PrkrRexPvgMncIGDw7RsF4fHKIRtzuJuqkz4hzaxrqFB3qj6ap34qkDr/uSN+yp+yDzSeORN7lTeFduHvbW5QYEPTiJ2qk9unsqEpg6Jtq60Evd9rXREeugka3Ub6us7Zf0u95R7rie1rKH5tfx0oFPG2IVkWY4J9Enb871x6cd7etZ71O3m9jBBDaucRbX6aYObRVletLKxjVHACmAOW7jJ0bF56cl7Q/Nd2IrXHlb4UD6Tncn54o8ngDMNLKwpEmkvMgsirS63+qmeSs+Tbq5INcpoI9J6ZO3Lgm/rgAAp98uO7v4csJPZR/mdP8DlVdO9/hxvNfMpQjWM//vy91vwUtuIek//91H/vzLS3Lx0mYsDE8dOHHB7me+XfvqcEaWxIiisCIelE+aBqR7vNfdk/vyFwlQbCQk50ZlMvAAAAaYSURBVChA+H2btzcT3Yo7+X28z/dlh8VshtliV/4m7Hm+PSPL7gN8n7f3m7n3W7f9eSgd1G6rAry9zgGk+DTEh7j8+syfJYsXqR72XE87xVcHBS5tiLiiNtD4GRrT6R3fvNWtP/22o27POZ+6LZ3Y2Q4IvPpVZDq0trupcHbepO9ei89fLZz/Uc3sr+U3xhklg3NcY7bc4JSmwHyF7faAc5YhSxLEoaFL6ZOmF474UcRcWx3ONx2owwoAUuydtq+dHl/+G0EvdmAeUwcJ/pr6t6JTrzLaeuqLhw48COOsh0DjfvSTt/G2o49ZtwkZjtacROEICscwQD7qd0I7o1piHMc0IlhnZHCMvFh+m9q9PCJtvA0TD67E2IMZOZcj1osFZrMZlps99qcUmM+xOpyRxIbYHj5pOuc64nBKU+n7FOlpj82yo0DBI0KMap82MyVI8q0sHlgRj6mDBYwTFYIX87NklPXUF08duBBE+JYPKmsCjS+xT+3JO6W3vI23HX3Muk3IcLTmJF6QO3BiyqkYUfztcS7xaDop5weAlVfuxocYQXw1/C6c7BT9Tx31wTalMog+7FNd5v/djRQHIjZhD1inkv35Z56m5ESKBjNWR8PluMNuvcBsuc+nmK++oqor6ZOmEwqbOm0WZcc4lwUW6x00M2YeDvHSY/W1fglMuW7r6F0HLXLfVl2Q384cr2/6Fip4e82fJZ+/rM+S0dRTZ9rTQRXiPPopdl/wX4NzN6W3vDVpRztuD3zqNumGqSxTIHZacxKBq0P4HbnzkwKVa6TUBiMCcFDOJxBOYwJM5OFlRuhljvx+5EdbiOsaS9t6Th8i5Gs4257KKtZ8zLcfiMRUpSBEFCfmdQDlFKAVvkVCAwHCKMH50MXrgP/w5WYJRYAoToopMido27Jy/cX9w60eIfK20jIVarSEiJMEcRQiUPpegVEZPmn6QaxXWX2NEATBXf6eguPvvB1dHZDEEerMKpxG3XagLx00on5bdfydPxnn2zOSm3WFAcIyf+p6vZ7rqbSO7aODtY9+OnBHOCGYv+LqjwYIwhhJdsBqBC8/us6bVzvaV3vgUbcb4W3XeX3OsgxJNPUHkUe/ikwK4642dXc3lUUObWEKCK8epxNT2qp0dzt3VRyfaa7RNLZi3TTyDqY60Z3L5zom/XW6Hb9MHN4G7JV1YIy3FGu2lb+POXi/g1Z1CIx77DvYNdqdtPWd7Dx1UGuba3PICGOKO510k8YYC8tl98wqO0iSLI7aCAB83TnSTQ/+dc7pXBXx5Cq3yb/Rma6e+tRtXxsdgQ4s7ZuzeLZV9rh1unAWPdXTWjak1mG/6zjrwGsHXlvekizR7iDaTG/1xSdvHvXHsx3t5VnvU7cb7sRc365NOhw6TqIiHrubGhTA8BcPIK2OJAK3I18+G9akAJYAdobfFwD2uO78OWUuyO/1pHyfAtgAWHdwTVE+dUZ5XTmul9icUqls0nxtxNp8pcvuHZv9bZr0tMFytsbvznfuEdeyr6EQb6lX3yLHN+ABom9TnnJxxHq5wf6mTIHr2pMZ7ovWJ01PXHb4eRK5SpGmSisyn2O1PeA8ubVYjhzXWGjLyJZEU7f3GywXP/DPkGbYul1BWzqoaN/aw95WXXYLLDd7ZY0YyjViY6inx/USm/0JarVrC3cd+JDr7X4t3gbL5QI/B7XrnvLm2Y721h541O1ml/Ow68svfBY6bH9X8qGp168i06FVr1MOeG87brB4fpTnk8axjOSYYg7pygBUDxRDacIix0rTlUcQ1QyGTZGkxRiBlMeMu0Z5KGE7SgHAtupJpPWRxG3xqYt/SMg0uWD3nm/msDrENdfDhogPKwAp9u+7SWw+9NiIHfnyUV1deVx+/XuIGQqEENINbEcJeSZacxIDXDdDaSvsBSGj4bLD+z4FsMKhxnTEMD5gBSDdv3PKxchYfbvf0CAIQsQfRSDo9B8eYCNaQgjpDLajhDwHjYYi1Y1k6m5yw+mmlN6kxWkR5QxSy6LuML5Oxxn83ilXMe4wIBNnIadNOginm7YqnMJFGbuwHaUAbKueRFqdbnoCA8CTx+a4XmKfpvj8YV5qfvzxidNpg+VgO7QQLcc1ZoYNDdK02Ihltn6KeImEEOIF21FCnoYZcm+REEIIIYQQQghpb00iIYQQQgghhJDpQyeREEIIIYQQQkgJnURCCCGEEEIIISV0EgkhhBBCCCGElNBJJIQQQgghhBBSQieREEIIIYQQQkjJ/wOX1GkCHc723AAAAABJRU5ErkJggg==)\n",
        "\n",
        "dump fonksiyonu çıktıyı illaki bir dosya içine aktarır. Yani size al bu senin istediğin JSON çıktısı demez. Bunu diyen dumps fonksiyonudur. dumps fonksiyonu str tipinde bir değer döndürürken dump fonksiyonu hiçbir değer döndürmez.[4]"
      ],
      "metadata": {
        "id": "Q-c17R31kLOc"
      }
    },
    {
      "cell_type": "markdown",
      "source": [
        "Ödev 5\n",
        "    \n",
        "    Neden UTF-8 kullanıyoruz?"
      ],
      "metadata": {
        "id": "xaXAN4xIsPJ2"
      }
    },
    {
      "cell_type": "markdown",
      "source": [
        "UTF-8 en çok kullanılan encoding çeşitidir ve Python default olarak bu türe bağlıdır.[6]"
      ],
      "metadata": {
        "id": "a22DtSNlsR1U"
      }
    },
    {
      "cell_type": "markdown",
      "source": [
        "Ödev 6\n",
        "    \n",
        "    192.168.0.1 nedir ve 127.00.01 arasındaki fark nedir?"
      ],
      "metadata": {
        "id": "1Ka3Ot98s3g1"
      }
    },
    {
      "cell_type": "markdown",
      "source": [
        "Modemlerimizin İnternette tek bir adresi vardır. Dünyadaki bir sunucuya bağlantı yaptığımızda, modemimiz bu tek IP adresini kullanarak bağlantıyı kurar ve yanıt geldiğinde adresi bağlantıyı yapan bilgisayarın yerel ağ adresine yeniden yazar. Modemler ile bu bağı kurmamızı sağlayan modem ip adresi ise genellikle 192.168.1.1 veya 192.168.0.1' dir.[7]\n",
        "\n",
        "127.00.01 ise bilgisayarımızın yerel ip addresidir (localhost). Bilgisayarınıza bir web sunucusu veya yazılımı kurduğunuz anda yazılım bilgisayarınızla tıpkı modemle yapılan iletişim gibi bu IP adresi üzerinden iletişime geçecektir.[8]"
      ],
      "metadata": {
        "id": "nBgetSKGs9CM"
      }
    },
    {
      "cell_type": "markdown",
      "source": [
        "**Referanslar**\n",
        "\n",
        "\n",
        "[1] https://www.reddit.com/r/learnprogramming/comments/4va31v/comment/d5wqo5p/?utm_source=reddit&utm_medium=web2x&context=3 (son erişim tarihi: 21.10.2022)\n",
        "\n",
        "[2] https://medium.com/@ibrahimirdem/pythonda-json-veri-okuma-ve-oluşturma-ade3e33f6184 (son erişim tarihi: 21.10.2022)\n",
        "\n",
        "[3] https://www.programiz.com/python-programming/methods/string/encode (son erişim tarihi: 21.10.2022)\n",
        "\n",
        "[4] https://python-istihza.yazbel.com/standart_moduller/json.html (son erişim tarihi: 21.10.2022)\n",
        "\n",
        "[5] https://alicanakkus.github.io/blog/docker/docker-network (son erişim tarihi: 21.10.2022)\n",
        "\n",
        "[6] https://docs.python.org/3/howto/unicode.html  (son erişim tarihi: 21.10.2022)\n",
        "\n",
        "[7] https://qr.ae/pG05yF (son erişim tarihi: 21.10.2022)\n",
        "\n",
        "[8] https://wmaraci.com/nedir/127-0-0-1 (son erişim tarihi: 21.10.2022)"
      ],
      "metadata": {
        "id": "r8r48nMGRb8A"
      }
    }
  ]
}
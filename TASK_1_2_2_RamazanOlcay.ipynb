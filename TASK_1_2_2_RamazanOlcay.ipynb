{
  "nbformat": 4,
  "nbformat_minor": 0,
  "metadata": {
    "colab": {
      "provenance": [],
      "collapsed_sections": []
    },
    "kernelspec": {
      "name": "python3",
      "display_name": "Python 3"
    },
    "language_info": {
      "name": "python"
    }
  },
  "cells": [
    {
      "cell_type": "code",
      "source": [
        "mylist = list()\n",
        "mylist.append(2)\n",
        "mylist.append(3)\n",
        "counter = 2"
      ],
      "metadata": {
        "id": "pgtjtlB-_-DY"
      },
      "execution_count": null,
      "outputs": []
    },
    {
      "cell_type": "code",
      "source": [
        "def isPrime(mynum):\n",
        "  mychecklist = list()\n",
        "  if (mynum%2) ==0:\n",
        "          mychecklist.append(True)\n",
        "  else:\n",
        "    for i in range(3,int(mynum/2)+1,2):\n",
        "        mychecklist.append(((mynum%i) == 0))\n",
        "  return any(mychecklist)"
      ],
      "metadata": {
        "id": "EGtnChxNEHuo"
      },
      "execution_count": null,
      "outputs": []
    },
    {
      "cell_type": "code",
      "source": [
        "for i in range(5,99999999):\n",
        "  if counter<100:\n",
        "      if isPrime(i) == False:\n",
        "          mylist.append(i)\n",
        "          counter += 1\n",
        "  elif counter >= 100:\n",
        "    print(f\"First {len(mylist)} prime numbers are:\")\n",
        "    print(mylist)\n",
        "    break"
      ],
      "metadata": {
        "colab": {
          "base_uri": "https://localhost:8080/"
        },
        "id": "cw8C_5KyOgJ4",
        "outputId": "95ad7850-6b95-451e-addb-af3de74ab388"
      },
      "execution_count": null,
      "outputs": [
        {
          "output_type": "stream",
          "name": "stdout",
          "text": [
            "First 100 prime numbers are:\n",
            "[2, 3, 5, 7, 11, 13, 17, 19, 23, 29, 31, 37, 41, 43, 47, 53, 59, 61, 67, 71, 73, 79, 83, 89, 97, 101, 103, 107, 109, 113, 127, 131, 137, 139, 149, 151, 157, 163, 167, 173, 179, 181, 191, 193, 197, 199, 211, 223, 227, 229, 233, 239, 241, 251, 257, 263, 269, 271, 277, 281, 283, 293, 307, 311, 313, 317, 331, 337, 347, 349, 353, 359, 367, 373, 379, 383, 389, 397, 401, 409, 419, 421, 431, 433, 439, 443, 449, 457, 461, 463, 467, 479, 487, 491, 499, 503, 509, 521, 523, 541]\n"
          ]
        }
      ]
    }
  ]
}
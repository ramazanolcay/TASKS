{
  "nbformat": 4,
  "nbformat_minor": 0,
  "metadata": {
    "colab": {
      "provenance": [],
      "collapsed_sections": [
        "lxzrF92QkNNR",
        "G1eUNM5tkQhz",
        "7uA_G-H2kX3K",
        "pFA3hWyYkcqv"
      ]
    },
    "kernelspec": {
      "name": "python3",
      "display_name": "Python 3"
    },
    "language_info": {
      "name": "python"
    }
  },
  "cells": [
    {
      "cell_type": "markdown",
      "source": [
        "#1) zar\n",
        "1 2 3 4 5 6\n",
        "\n",
        "10000 \n",
        "\n",
        "1 2 3 4 5 6\n",
        "olasılıkları "
      ],
      "metadata": {
        "id": "lxzrF92QkNNR"
      }
    },
    {
      "cell_type": "code",
      "source": [
        "import pandas as pd\n",
        "import numpy as np\n",
        "import random"
      ],
      "metadata": {
        "id": "6AbZsfouwvzM"
      },
      "execution_count": 5,
      "outputs": []
    },
    {
      "cell_type": "code",
      "source": [
        "a = list()\n",
        "\n",
        "for i in range(10000):\n",
        "  a.append(random.randint(1, 6))"
      ],
      "metadata": {
        "id": "E5j4o9utw5EM"
      },
      "execution_count": 6,
      "outputs": []
    },
    {
      "cell_type": "code",
      "source": [
        "a = pd.DataFrame(data=a, columns = [\"Number\"])"
      ],
      "metadata": {
        "id": "XcU1I_Uj0g30"
      },
      "execution_count": 7,
      "outputs": []
    },
    {
      "cell_type": "code",
      "source": [
        "total_len = len(a)"
      ],
      "metadata": {
        "id": "qbRSiRCx0xPL"
      },
      "execution_count": 8,
      "outputs": []
    },
    {
      "cell_type": "code",
      "source": [
        "one = len(a.loc[a[\"Number\"]==1]) / total_len\n",
        "two = len(a.loc[a[\"Number\"]==2]) / total_len\n",
        "three = len(a.loc[a[\"Number\"]==3]) / total_len\n",
        "four = len(a.loc[a[\"Number\"]==4]) / total_len\n",
        "five = len(a.loc[a[\"Number\"]==5]) / total_len\n",
        "six = len(a.loc[a[\"Number\"]==6]) / total_len"
      ],
      "metadata": {
        "id": "euVZGYkx0nSP"
      },
      "execution_count": 10,
      "outputs": []
    },
    {
      "cell_type": "code",
      "source": [
        "my_list = [one,two,three,four,five,six]"
      ],
      "metadata": {
        "id": "aQDnfB7C04LD"
      },
      "execution_count": 11,
      "outputs": []
    },
    {
      "cell_type": "code",
      "source": [
        "for i in my_list:\n",
        "  print( i)\n",
        "\n",
        "print(\"Total: \",sum(my_list))"
      ],
      "metadata": {
        "colab": {
          "base_uri": "https://localhost:8080/"
        },
        "id": "7K7-q-wN1Q6r",
        "outputId": "17f53e67-534c-458d-e36e-1bb75f0b0cab"
      },
      "execution_count": 15,
      "outputs": [
        {
          "output_type": "stream",
          "name": "stdout",
          "text": [
            "0.1582\n",
            "0.1619\n",
            "0.1697\n",
            "0.169\n",
            "0.1709\n",
            "0.1703\n",
            "Total:  1.0\n"
          ]
        }
      ]
    },
    {
      "cell_type": "markdown",
      "source": [
        "#2) Hamburger Pizza Lahmacun \n",
        "\n",
        "   365 \n",
        "\n",
        "\n",
        "   Markov Chain Olasılıkları\n",
        "   H-H\n",
        "   H-P\n",
        "   H-L\n",
        "\n",
        "   Pizza\n",
        "   Lahmacun"
      ],
      "metadata": {
        "id": "G1eUNM5tkQhz"
      }
    },
    {
      "cell_type": "code",
      "source": [
        "my_list_food = list()"
      ],
      "metadata": {
        "id": "DBhr_ciB1ZiE"
      },
      "execution_count": 56,
      "outputs": []
    },
    {
      "cell_type": "code",
      "source": [
        "for i in range(365):\n",
        "  my_list_food.append(random.randint(1, 3))"
      ],
      "metadata": {
        "id": "PlnMEgLQ2f0a"
      },
      "execution_count": 57,
      "outputs": []
    },
    {
      "cell_type": "code",
      "source": [
        "my_list = list()"
      ],
      "metadata": {
        "id": "C9Ogr38T2-Em"
      },
      "execution_count": 58,
      "outputs": []
    },
    {
      "cell_type": "code",
      "source": [
        "for i in range(365):\n",
        "  if my_list_food[i] == 1:\n",
        "    my_list.append(\"H\")\n",
        "  elif my_list_food[i] == 2:\n",
        "    my_list.append(\"P\")\n",
        "  else:\n",
        "    my_list.append(\"L\")"
      ],
      "metadata": {
        "id": "XJtyzgH13bBc"
      },
      "execution_count": 59,
      "outputs": []
    },
    {
      "cell_type": "code",
      "source": [
        "h_h = 0\n",
        "h_l = 0\n",
        "h_p = 0\n",
        "l_l = 0\n",
        "l_h = 0\n",
        "l_p = 0\n",
        "p_p = 0\n",
        "p_l = 0\n",
        "p_h = 0"
      ],
      "metadata": {
        "id": "XOS3W8E43vFQ"
      },
      "execution_count": 60,
      "outputs": []
    },
    {
      "cell_type": "code",
      "source": [
        "for i,j in zip(range(365),range(1,365)):\n",
        "  if my_list[i] == \"H\":\n",
        "    if my_list[j] == \"H\":\n",
        "      h_h +=1\n",
        "    elif my_list[j] == \"P\":\n",
        "      h_p +=1\n",
        "    else:\n",
        "      h_l +=1\n",
        "  \n",
        "  elif my_list[i] == \"P\":\n",
        "    if my_list[j] == \"P\":\n",
        "      p_p +=1\n",
        "    elif my_list[j] == \"H\":\n",
        "      p_h +=1\n",
        "    else:\n",
        "      p_l +=1\n",
        "\n",
        "  else:\n",
        "    if my_list[j] == \"L\":\n",
        "      l_l +=1\n",
        "    elif my_list[j] == \"P\":\n",
        "      l_p +=1\n",
        "    else:\n",
        "      l_h +=1"
      ],
      "metadata": {
        "id": "FVSBh9kN4JlF"
      },
      "execution_count": 61,
      "outputs": []
    },
    {
      "cell_type": "code",
      "source": [
        "from collections import Counter\n",
        "\n",
        "a = dict(Counter(my_list))\n",
        "a"
      ],
      "metadata": {
        "colab": {
          "base_uri": "https://localhost:8080/"
        },
        "id": "S-7gjUXe74OS",
        "outputId": "02bb6feb-2903-468b-d062-e43149697d22"
      },
      "execution_count": 62,
      "outputs": [
        {
          "output_type": "execute_result",
          "data": {
            "text/plain": [
              "{'L': 132, 'H': 122, 'P': 111}"
            ]
          },
          "metadata": {},
          "execution_count": 62
        }
      ]
    },
    {
      "cell_type": "code",
      "source": [
        "print(h_h/a[\"H\"])\n",
        "print(h_l/a[\"H\"])\n",
        "print(h_p/a[\"H\"])\n",
        "print(l_l/a[\"L\"])\n",
        "print(l_p/a[\"L\"])\n",
        "print(l_h/a[\"L\"])\n",
        "print(p_p/a[\"P\"])\n",
        "print(p_l/a[\"P\"])\n",
        "print(p_h/a[\"P\"])"
      ],
      "metadata": {
        "colab": {
          "base_uri": "https://localhost:8080/"
        },
        "id": "irVeSy-86Ycx",
        "outputId": "a1ad47a5-c2ef-4e7f-9d1f-01d99cc48a65"
      },
      "execution_count": 63,
      "outputs": [
        {
          "output_type": "stream",
          "name": "stdout",
          "text": [
            "0.3442622950819672\n",
            "0.36065573770491804\n",
            "0.29508196721311475\n",
            "0.3712121212121212\n",
            "0.2727272727272727\n",
            "0.3560606060606061\n",
            "0.35135135135135137\n",
            "0.34234234234234234\n",
            "0.2972972972972973\n"
          ]
        }
      ]
    },
    {
      "cell_type": "code",
      "source": [
        "print((l_l+l_h+l_p)/a[\"L\"])"
      ],
      "metadata": {
        "colab": {
          "base_uri": "https://localhost:8080/"
        },
        "id": "4loEQRIR6zql",
        "outputId": "adcb659a-f196-43c0-cfda-46d7548fa3ba"
      },
      "execution_count": 64,
      "outputs": [
        {
          "output_type": "stream",
          "name": "stdout",
          "text": [
            "1.0\n"
          ]
        }
      ]
    },
    {
      "cell_type": "code",
      "source": [
        "print((p_p+p_l+p_h)/a[\"P\"])"
      ],
      "metadata": {
        "colab": {
          "base_uri": "https://localhost:8080/"
        },
        "id": "JnpxWS-j8Pqh",
        "outputId": "94c87290-9c0a-47ef-ec0d-d7808fec021e"
      },
      "execution_count": 65,
      "outputs": [
        {
          "output_type": "stream",
          "name": "stdout",
          "text": [
            "0.990990990990991\n"
          ]
        }
      ]
    },
    {
      "cell_type": "code",
      "source": [
        "print((h_h+h_l+h_p)/a[\"H\"])"
      ],
      "metadata": {
        "colab": {
          "base_uri": "https://localhost:8080/"
        },
        "id": "fnZO8ktJ8QJ2",
        "outputId": "59899feb-8fe6-40b2-978b-90d43f381e5e"
      },
      "execution_count": 66,
      "outputs": [
        {
          "output_type": "stream",
          "name": "stdout",
          "text": [
            "1.0\n"
          ]
        }
      ]
    },
    {
      "cell_type": "markdown",
      "source": [
        "#3) 2 yıllık altın fiyatı oluşturunuz rastgele Yine markov chain artış azalış sabit kalma 3 durum."
      ],
      "metadata": {
        "id": "7uA_G-H2kX3K"
      }
    },
    {
      "cell_type": "code",
      "source": [
        "my_list = list()"
      ],
      "metadata": {
        "id": "HNi2jXmB9uF-"
      },
      "execution_count": 85,
      "outputs": []
    },
    {
      "cell_type": "code",
      "source": [
        "for i in range(365*2):\n",
        "  my_list.append(random.randint(800, 1000))"
      ],
      "metadata": {
        "id": "rsakZMjj9Qh-"
      },
      "execution_count": 86,
      "outputs": []
    },
    {
      "cell_type": "code",
      "source": [
        "c_c = 0\n",
        "c_d = 0\n",
        "c_i = 0\n",
        "i_c = 0\n",
        "i_i = 0\n",
        "i_d = 0\n",
        "d_i = 0\n",
        "d_d = 0\n",
        "d_c = 0"
      ],
      "metadata": {
        "id": "u9FvTjxM9yrU"
      },
      "execution_count": 87,
      "outputs": []
    },
    {
      "cell_type": "code",
      "source": [
        "my_list2 = list()"
      ],
      "metadata": {
        "id": "cQABHRY-_7yw"
      },
      "execution_count": 88,
      "outputs": []
    },
    {
      "cell_type": "code",
      "source": [
        "for i,j in zip(range(365*2),range(1,(365*2))):\n",
        "  if my_list[i] == my_list[j]:\n",
        "    my_list2.append(\"C\")\n",
        "  elif my_list[i] > my_list[j]:\n",
        "    my_list2.append(\"D\")\n",
        "  else:\n",
        "    my_list2.append(\"I\")"
      ],
      "metadata": {
        "id": "kLf6M5Q7-INn"
      },
      "execution_count": 89,
      "outputs": []
    },
    {
      "cell_type": "code",
      "source": [
        "for i,j in zip(range(len(my_list2)),range(1,len(my_list2))):\n",
        "  if my_list2[i] == \"C\":\n",
        "    if my_list2[j] == \"I\":\n",
        "      c_i +=1\n",
        "    elif my_list2[j] == \"D\":\n",
        "      c_d +=1\n",
        "    else:\n",
        "      c_c +=1\n",
        "  \n",
        "  elif my_list2[i] == \"I\":\n",
        "    if my_list2[j] == \"I\":\n",
        "      i_i +=1\n",
        "    elif my_list2[j] == \"D\":\n",
        "      i_d +=1\n",
        "    else:\n",
        "      i_c +=1\n",
        "\n",
        "  else:\n",
        "    if my_list2[j] == \"C\":\n",
        "      d_c +=1\n",
        "    elif my_list2[j] == \"I\":\n",
        "      d_i +=1\n",
        "    else:\n",
        "      d_d +=1"
      ],
      "metadata": {
        "id": "olB7u4--AJiw"
      },
      "execution_count": 90,
      "outputs": []
    },
    {
      "cell_type": "code",
      "source": [
        "a = dict(Counter(my_list2))\n",
        "a"
      ],
      "metadata": {
        "colab": {
          "base_uri": "https://localhost:8080/"
        },
        "id": "mm3YaxnaAsG7",
        "outputId": "80b6c85e-ba14-4260-91b3-297dacab3796"
      },
      "execution_count": 91,
      "outputs": [
        {
          "output_type": "execute_result",
          "data": {
            "text/plain": [
              "{'D': 356, 'I': 369, 'C': 4}"
            ]
          },
          "metadata": {},
          "execution_count": 91
        }
      ]
    },
    {
      "cell_type": "code",
      "source": [
        "print(i_i/a[\"I\"])\n",
        "print(i_d/a[\"I\"])\n",
        "print(i_c/a[\"I\"])\n",
        "print(d_d/a[\"D\"])\n",
        "print(d_i/a[\"D\"])\n",
        "print(d_c/a[\"D\"])\n",
        "print(c_c/a[\"C\"])\n",
        "print(c_i/a[\"C\"])\n",
        "print(c_d/a[\"C\"])"
      ],
      "metadata": {
        "colab": {
          "base_uri": "https://localhost:8080/"
        },
        "id": "qFJuzcfzA7n-",
        "outputId": "6c5d7536-3824-49fe-cd99-6b97c573a58b"
      },
      "execution_count": 92,
      "outputs": [
        {
          "output_type": "stream",
          "name": "stdout",
          "text": [
            "0.3224932249322493\n",
            "0.6693766937669376\n",
            "0.005420054200542005\n",
            "0.29775280898876405\n",
            "0.6966292134831461\n",
            "0.0056179775280898875\n",
            "0.0\n",
            "0.5\n",
            "0.5\n"
          ]
        }
      ]
    },
    {
      "cell_type": "code",
      "source": [
        "print((i_i+i_d+i_c)/a[\"I\"])"
      ],
      "metadata": {
        "colab": {
          "base_uri": "https://localhost:8080/"
        },
        "id": "BDjheZe9BNSh",
        "outputId": "ed88ad9b-165a-4a8a-87e3-313805e48f1b"
      },
      "execution_count": 93,
      "outputs": [
        {
          "output_type": "stream",
          "name": "stdout",
          "text": [
            "0.997289972899729\n"
          ]
        }
      ]
    },
    {
      "cell_type": "code",
      "source": [
        "print((d_d+d_i+d_c)/a[\"D\"])"
      ],
      "metadata": {
        "colab": {
          "base_uri": "https://localhost:8080/"
        },
        "id": "sS_wOE2WBTde",
        "outputId": "576fc5e2-7708-45c0-e802-ccacce66a264"
      },
      "execution_count": 94,
      "outputs": [
        {
          "output_type": "stream",
          "name": "stdout",
          "text": [
            "1.0\n"
          ]
        }
      ]
    },
    {
      "cell_type": "code",
      "source": [
        "print((c_c+c_i+c_d)/a[\"C\"])"
      ],
      "metadata": {
        "colab": {
          "base_uri": "https://localhost:8080/"
        },
        "id": "NhG44G33G5YU",
        "outputId": "dbe36812-f725-4e98-8fe6-55b22aa27338"
      },
      "execution_count": 95,
      "outputs": [
        {
          "output_type": "stream",
          "name": "stdout",
          "text": [
            "1.0\n"
          ]
        }
      ]
    },
    {
      "cell_type": "markdown",
      "source": [
        "\n",
        "#4) \"60 tane cümle\" sparse matrix "
      ],
      "metadata": {
        "id": "pFA3hWyYkcqv"
      }
    },
    {
      "cell_type": "code",
      "source": [
        "my_string = '''\n",
        "\n",
        "Gregor Samsa bir sabah huzursuz düşlerinden uyandığında kendini yatağında kocaman bir böceğe dönüşmüş buldu. Panzer gibi sert sırtının üzerinde yatıyordu ve başını biraz kaldırdığında tepesinde, yorganın neredeyse kaymak üzere olduğu kubbe gibi yuvarlak, kahverengi, yay biçiminde sert çizgilerle boğum boğum olmuş karnını gördü. Geniş gövdesine oranla pek cılız görünen bir sürü bacağı gözlerinin önünde çaresizce çırpınıyordu. \"Bana ne oldu?\" diye geçirdi içinden. Düş değildi gördüğü. Biraz küçük ancak içinde bir insanın yaşayabileceği, duvarları tanıdık gelen odası hiçbir şey olmamış gibi duruyordu. Kumaş parçalarından oluşan koleksiyonun yayılı olduğu -Samsa bir pazarlamacıydı- masanın üzerinde, kısa bir süre önce resimli bir dergiden kesip hoş, altın yaldızlı bir çerçeveye koyduğu resim asılıydı. Resimde kürk şapkalı ve kürk atkılı bir kadın dimdik oturmuş, kollarını dirseklerine kadar saran kalın kürk manşonunu kendisine bakana doğru kaldırmıştı. Gregor'un bakışları bu kez pencereye yöneldi ve dışarıdaki kasvetli, kapalı hava -pencerenin çinko pervazına vuran yağmur damlalarının sesi duyuluyordu- onu hepten hüzünlendirmişti. \"Biraz daha uyusam ve tüm bu saçmalıkları unutsam nasıl olur acaba,\" diye geçirdi içinden, fakat bu kesinlikle olanaksızdı, çünkü sağ tarafına yatıp uyumaya alışkındı, oysa şimdiki haliyle sağına dönemiyordu. Sağa dönmek için ne kadar uğraşırsa uğraşsın, her defasında sırtının üzerine gerisin geri yuvarlanıyordu. Aynı şeyi yüzlerce kez denedi, çırpınan bacaklarını görmemek için gözlerini kapattı ve ancak sağ tarafında daha önce hiç farkına varmadığı hafif, garip bir ağrı duymaya başladığında açtı. \"Ah Tanrım,\" dedi içinden, \"nasıl da güç bir meslek seçmişim kendime! Hemen her gün yoldayım. Bütün bunlar bürodaki asıl işlerden daha yorucu, üstelik bunlar yetmiyormuş gibi bir de yolculuğun çilesi, aktarma trenlerinin stresi, düzensiz, kötü yemekler, sürekli değişen, hiç kalıcı ve samimi olmayan insan ilişkileri. Şeytan görsün hepsinin yüzünü!\" Derken yukarıda, karnının üzerinde hafif bir kaşıntı hissetti; başını daha iyi kaldırabilmek için sırtüstü yavaşça yatağın başına doğru kaydı; ne olduklarını anlayamadığı küçük beyaz noktalarla dolu kaşınan yeri gördü; bir ayağıyla o yere dokunmak istediyse de ayağını hemen geri çekti; çünkü dokunur dokunmaz her yanını titreme sarmıştı. Tekrar eski yerine kaydı. \"Şu sabahları erken kalkmak yok mu,\" diye geçirdi içinden, \"insanı tamamen aptallaştırıyor. Oysa insan uykusunu alabilmeli. Diğer pazarlamacılar harem kadınları gibi yaşıyorlar. Örneğin ben öğleden önceleri istenilen sözleşmeleri hazırlamak için kafeteryaya gittiğimde o beyefendiler henüz kalkmış oluyorlar. Bunu benim patronuma yapsam anında kapının dışında bulurum kendimi (Ama kim bilir, belki de benim için hiç fena olmaz). Annem ve babam için kendimi tutmak zorunda olmasam, çoktan istifa ederdim; patronumun önüne dikilir, içimde ne varsa dökerdim. Kürsüsünden yere düşerdi herhalde! Zaten çok garip bir şey, zeminden yükseltilmiş kürsü gibi bir masaya kurulup çalışanlarla öyle tepeden bakarak konuşmak, üstelik ağır işittiği için kürsüye iyice yaklaşmak zorunda kalmak. Neyse ki ümidimi tamamen kaybetmiş değilim, anne ve babamın ona olan borcunu kapatacak parayı biriktirdim mi -bu da en fazla beş ya da altı yıl daha sürer-, hemen istifa edeceğim. İşte o zaman büyük bir olay olacak. Ama şimdi yataktan çıkmalıyım, trenim saat beşte kalkacak.\" Derken komodinin üzerindeki çalar saate baktı. \"Yüce Tanrım!\" dedi. Saat altı buçuktu ve yelkovan sessizce ilerliyordu, hatta buçuğu bile geçmişti, altı kırk beş olmak üzereydi. Saat çalmamış mıydı? Yataktan bakıldığında saati gerektiği şekilde dörde kurduğu görülüyordu; kuşkusuz çalınıştı da. Fakat saatin mobilyaları bile titreten sesini duymayıp uyuyakalmış olması mümkün müydü? Gerçi pek rahat uyumamıştı ama belli ki derin uyumuştu. Peki şimdi ne yapacaktı? Bir sonraki tren saat yedideydi; ona yetişmek için deliler gibi acele etmesi gerekiyordu, koleksiyon henüz paketlenmemişti; kendini de pek zinde ve canlı hissetmiyordu. Ve trene yetişse bile, patronunun hışmından kurtulması mümkün olmayacaktı, çünkü onu beş trenine bekleyen büro hizmetlisi, treni kaçırdığını çoktan patrona bildirmiş olmalıydı. O, patronun bir piyonuydu, kişiliksiz ve akılsız biriydi. Peki ya hasta olduğunu bildirse? Fakat bu kendisi için utanç verici olurdu ve kuşku yaratırdı, çünkü Gregor beş yıllık iş yaşamında bir kez olsun hastalanmamıştı. Kuşkusuz o zaman patronu sigorta doktoruyla çıkagelir, anne ve babasını tembel oğullarından dolayı suçlar ve tüm insanların aslında sağlıklı olduğunu, sadece işten kaytarmak isteyenlerin hastalandığını iddia eden sigorta doktorunun sözlerini tekrarlayarak yapılan hiçbir itirazı dinlemezdi. Peki Gregor'un şu anki durumunda haklı da sayılmaz mıydı? Çünkü Gregor uzun süre uyumaktan kaynaklanan keyfi uyku sersemliğinin dışında kendini gayet iyi hissediyordu. Henüz yataktan çıkmaya karar verememiş bir halde tüm bunları aceleyle aklından geçiriyorken -tam o sırada saat altı kırk beşi gösteriyordu-, yatağının başucundaki kapıya dikkatlice vuruldu. \"Gregor,\" diye seslendi -annesiydi-, \"saat yediye çeyrek var. Gitmeyecek miydin?\" O kadife ses! Gregor yanıt veren sesini duyunca korktu, gerçi kendi eski sesiydi, ancak buna adeta alttan gelen, bastırılması mümkün olmayan acı bir ıslık karışıyordu ve bu ıslık, sözcüklerin anlamını ilk anda koruyor, fakat karşı tarafın kulağına gittiğinde duyanın, doğru mu işittim diyeceği kadar bozuyordu. Gregor ayrıntılı cevap vermek ve her şeyi açıklamak istedi, fakat içinde bulunduğu durum nedeniyle şunu demekle yetindi: \"Evet evet, teşekkürler anne, kalkıyorum işte.\" Ahşap kapı nedeniyle Gregor'un sesindeki değişiklik dışarıdan fark edilmemişti herhalde, çünkü annesi uzaklaşmıştı. Fakat bu kısa konuşma ailenin diğer üyelerinin dikkatini çekmiş, Gregor'un beklenenin aksine hala evde olduğunu fark etmelerine neden olmuştu ve aradan pek bir süre geçmeden babası bitişikteki kapıyı tıklattı, hafif fakat yumruklarıyla. \"Gregor Gregor,\" diye seslendi babası, \"neyin var?\" Ve kısa bir süre sonra daha derin bir ses tonuyla tekrar uyardı: \"Gregor! Gregor!\" Diğer bitişikteki kapıyı da kız kardeşi vurmaya başladı: \"Gregor? İyi değil misin? Bir şeye ihtiyacın var mı?\" Gregor her iki yana da cevap verdi. \"Hazırlandım bile\" ve bunu söylerken telaffuzuna olabildiğince dikkat ederek, sözcükler arasında uzun süre susarak sesindeki başkalığı belli etmemeye çalıştı. Babası da kahvaltısına döndü, kız kardeşi ise fısıldamaya devam etti: \"Gregor, yalvarırım aç kapıyı.\" Gregor ise kapıyı açmayı aklından bile geçirmiyordu, aksine seyahatte olduğu zamanlar yaptığı gibi evde de tüm kapıları geceleyin kilitleme alışkanlığını övüyordu. Önce sakin sakin ve rahatsız edilmeden kalkmak ve giyinmek istiyordu ve her şeyden önce de kahvaltı yapmak; ancak ondan sonra ne yapacağını düşünecekti, çünkü yatakta düşünmeye devam ederek akılcı bir çözüme ulaşamayacağını kendisi de fark etmişti. Çok defa yatakta ters yarmaktan ağrılar hissettiğini, ancak ayağa kalktığında bunun sadece bir kuruntu olduğunu yaşadığını anımsadı ve şimdi de bu kuruntulardan nasıl kurtulacağını merak ediyordu. Sesindeki değişikliğin meslek hastalığı olan sert bir soğuk algınlığının belirtisi olduğundan en ufak bir kuşku duymuyordu. Yorganı üzerinden atmak çok kolay oldu; birazcık kendini şişirmesi yetti bile, kendiliğinden kayıverdi. Fakat ondan sonrası bedeni çok geniş olduğu için zordu. Ayağa kalkabilmek için ellere ve kollara ihtiyacı vardı; onun ise sürekli o yana bu yana sallanan ve üstelik kontrol edemediği bir sürü bacağı vardı. Bacaklarından birini bükmeye kalktığında bacak önce dümdüz geriliyordu; o bacağı bükmeyi başardığında ise diğer tüm bacakları iplerini koparmışçasına müthiş ve acı içinde bir telaşla hareket ediyorlardı. \"Yeter ki yatakta hiçbir şey yapmadan kalmayayım,\" dedi Gregor içinden. Önce bedeninin alt kısmını yataktan çıkarmaya çalıştı, fakat o ana kadar henüz görmediği ve nasıl olduğunu bilmediği bedeninin alt kısmı çok güç hareket ediyordu; öyle yavaş gidiyordu ki sonunda çıldırmış bir şekilde bütün gücüyle hiçbir şeye aldırış etmeden kendini öne doğru atıverdi, yanlış yönü seçtiğinden yatağın ayakucundaki demire şiddetli bir şekilde çarptı, duyduğu yakıcı ağrı, bedeninin alt kısmının o an belki de en nazik yer olduğunu gösterdi. Bu nedenle önce bedeninin üst kısmını yataktan çıkarmaya çalıştı ve başını dikkatle yatağın kenarına doğru çevirdi. Bunu kolayca başardı da ve o kadar geniş ve ağır olmasına rağmen bedeni yavaş yavaş başının yönünde dönebildi. Fakat sonunda başını yataktan kurtarıp serbest bıraktığında bu şekilde ilerlemeye devam etmekten korktu, çünkü böyle devam ederek yataktan çıkmaya kalktığında başını yaralamaması bir mucize olurdu. Ve bilincini özellikle şimdi hiçbir şekilde kaybetmemeliydi; en iyisi yatakta kalmalıydı. Ama o kadar çabadan sonra daha önce olduğu gibi sızlanarak yine yatakta kalakaldığında ve ayaklarının daha da kızgın bir şekilde birbirine çarptığını, başına buyruk hareket ettiğini gördüğünde ve onları sakinleştirmenin, kontrol altına almanın olanaksız olduğunu anladığında, yatakta kalmaya devam edemeyeceğini, yataktan çıkması için küçücük bir umut ışığı bile olsa, bunu göze almanın en akıllıca şey olduğunu geçirdi aklından. Fakat aynı zamanda sakin, olabildiğince sakin düşünmenin çaresizce karar vermekten çok daha iyi olduğunu arada bir düşünmeyi de ihmal etmiyordu. Böyle anlarda gözlerini dikkatle pencereye çeviriyordu, ancak ne yazık ki dar sokağın karşı tarafını da kaplayan sabah sisinin görünümü, güven ve neşe uyandırmaktan uzaktı. \"Yedi oldu bile\" diye düşündü saatin yeniden vurduğunu gördüğünde, \"yedi oldu bile ve hala bu kadar sis var.\" Ve kısa bir süre sakin ve zayıf bir şekilde nefes alarak öylece kaldı, sanki o her yanı kaplayan sessizliğin gerçeği geri getirmesini ve her şeyin normale dönmesini bekler gibiydi. Sonra ise kendine şöyle dedi: \"saat yediyi çeyrek geçmeden tamamen yataktan çıkmış olmalıyım. Zaten o zamana kadar bürodan biri beni sormaya gelir, çünkü büro saat yedide açılıyor.\" Ve bu arada bedeninin tümünü aynı anda yataktan aşağı sarkıtmaya çalışıyordu. Bu şekilde kendini bıraktığı takdirde düşerken başını iyice kaldıracağından muhtemelen yaralanmayacaktı. Sırtı sertleşmişe benziyordu; halının üzerine düştüğünde sırtına bir şey olmayacaktı. Onu en çok kaygılandıran şey ise, düşerken çıkacak büyük gürültü ve bu gürültünün kapalı kapıların ardında korku değilse de endişe yaratacağı düşüncesiydi. Fakat bunu göze almak gerekiyordu.\n",
        "\n",
        "'''"
      ],
      "metadata": {
        "id": "7pwqp2wpG83d"
      },
      "execution_count": 152,
      "outputs": []
    },
    {
      "cell_type": "code",
      "source": [
        "my_string = my_string.lower()"
      ],
      "metadata": {
        "id": "iEhSZOG7T_xi"
      },
      "execution_count": 153,
      "outputs": []
    },
    {
      "cell_type": "code",
      "source": [
        "len(my_string.split(\". \"))"
      ],
      "metadata": {
        "colab": {
          "base_uri": "https://localhost:8080/"
        },
        "id": "AiUsLT-JIutY",
        "outputId": "5402bb48-ba2a-489c-e214-8cfee1b8c571"
      },
      "execution_count": 154,
      "outputs": [
        {
          "output_type": "execute_result",
          "data": {
            "text/plain": [
              "67"
            ]
          },
          "metadata": {},
          "execution_count": 154
        }
      ]
    },
    {
      "cell_type": "code",
      "source": [
        "!pip install nltk"
      ],
      "metadata": {
        "id": "JGt88UcWI0Ys"
      },
      "execution_count": null,
      "outputs": []
    },
    {
      "cell_type": "code",
      "source": [
        "import nltk\n",
        "import string"
      ],
      "metadata": {
        "id": "q-hoNvhcNe9b"
      },
      "execution_count": 156,
      "outputs": []
    },
    {
      "cell_type": "code",
      "source": [
        "a = nltk.word_tokenize(my_string)"
      ],
      "metadata": {
        "id": "AkUQ1A-xNtxk"
      },
      "execution_count": 157,
      "outputs": []
    },
    {
      "cell_type": "code",
      "source": [
        "b = list()\n",
        "for i in a:\n",
        "  if i not in string.punctuation:\n",
        "    b.append(i)\n",
        "  else:\n",
        "    pass\n",
        "a = b"
      ],
      "metadata": {
        "id": "5I2KAZgIN5GN"
      },
      "execution_count": 158,
      "outputs": []
    },
    {
      "cell_type": "code",
      "source": [
        "b = list()\n",
        "for i in a:\n",
        "  if (i == \"``\") or (i.startswith(\"''\")):\n",
        "    pass\n",
        "  elif i.startswith(\"-\"):\n",
        "    b.append(i[1:])\n",
        "  else:\n",
        "    b.append(i)\n",
        "a = b"
      ],
      "metadata": {
        "id": "m0Cqdk_lQ-vv"
      },
      "execution_count": 159,
      "outputs": []
    },
    {
      "cell_type": "code",
      "source": [
        "arr = np.unique(np.array(a))"
      ],
      "metadata": {
        "id": "6H51aR2zOMfK"
      },
      "execution_count": 160,
      "outputs": []
    },
    {
      "cell_type": "code",
      "source": [
        "my_df = pd.DataFrame(data=arr,columns=[\"words\"])\n",
        "my_df2 = pd.DataFrame(columns=arr)\n",
        "my_df = my_df.set_index(\"words\")\n",
        "my_df = pd.concat([my_df,my_df2])\n",
        "my_df = my_df.replace(np.nan,0)"
      ],
      "metadata": {
        "id": "QdsWupkoVgmx"
      },
      "execution_count": 313,
      "outputs": []
    },
    {
      "cell_type": "code",
      "source": [
        "my_df"
      ],
      "metadata": {
        "colab": {
          "base_uri": "https://localhost:8080/",
          "height": 424
        },
        "id": "YQVJWIu4Xzjc",
        "outputId": "ee08aafa-cc75-46c3-a779-b223ad52c9c1"
      },
      "execution_count": 314,
      "outputs": [
        {
          "output_type": "execute_result",
          "data": {
            "text/plain": [
              "           acaba  acele  aceleyle  acı  adeta  ah  ahşap  ailenin  aklından  \\\n",
              "acaba          0      0         0    0      0   0      0        0         0   \n",
              "acele          0      0         0    0      0   0      0        0         0   \n",
              "aceleyle       0      0         0    0      0   0      0        0         0   \n",
              "acı            0      0         0    0      0   0      0        0         0   \n",
              "adeta          0      0         0    0      0   0      0        0         0   \n",
              "...          ...    ...       ...  ...    ...  ..    ...      ...       ...   \n",
              "şimdiki        0      0         0    0      0   0      0        0         0   \n",
              "şişirmesi      0      0         0    0      0   0      0        0         0   \n",
              "şu             0      0         0    0      0   0      0        0         0   \n",
              "şunu           0      0         0    0      0   0      0        0         0   \n",
              "şöyle          0      0         0    0      0   0      0        0         0   \n",
              "\n",
              "           aksine  ...  şeyi  şeyin  şeytan  şiddetli  şimdi  şimdiki  \\\n",
              "acaba           0  ...     0      0       0         0      0        0   \n",
              "acele           0  ...     0      0       0         0      0        0   \n",
              "aceleyle        0  ...     0      0       0         0      0        0   \n",
              "acı             0  ...     0      0       0         0      0        0   \n",
              "adeta           0  ...     0      0       0         0      0        0   \n",
              "...           ...  ...   ...    ...     ...       ...    ...      ...   \n",
              "şimdiki         0  ...     0      0       0         0      0        0   \n",
              "şişirmesi       0  ...     0      0       0         0      0        0   \n",
              "şu              0  ...     0      0       0         0      0        0   \n",
              "şunu            0  ...     0      0       0         0      0        0   \n",
              "şöyle           0  ...     0      0       0         0      0        0   \n",
              "\n",
              "           şişirmesi  şu  şunu  şöyle  \n",
              "acaba              0   0     0      0  \n",
              "acele              0   0     0      0  \n",
              "aceleyle           0   0     0      0  \n",
              "acı                0   0     0      0  \n",
              "adeta              0   0     0      0  \n",
              "...              ...  ..   ...    ...  \n",
              "şimdiki            0   0     0      0  \n",
              "şişirmesi          0   0     0      0  \n",
              "şu                 0   0     0      0  \n",
              "şunu               0   0     0      0  \n",
              "şöyle              0   0     0      0  \n",
              "\n",
              "[882 rows x 882 columns]"
            ],
            "text/html": [
              "\n",
              "  <div id=\"df-aa362d71-9014-40a6-94ec-03cf7a370558\">\n",
              "    <div class=\"colab-df-container\">\n",
              "      <div>\n",
              "<style scoped>\n",
              "    .dataframe tbody tr th:only-of-type {\n",
              "        vertical-align: middle;\n",
              "    }\n",
              "\n",
              "    .dataframe tbody tr th {\n",
              "        vertical-align: top;\n",
              "    }\n",
              "\n",
              "    .dataframe thead th {\n",
              "        text-align: right;\n",
              "    }\n",
              "</style>\n",
              "<table border=\"1\" class=\"dataframe\">\n",
              "  <thead>\n",
              "    <tr style=\"text-align: right;\">\n",
              "      <th></th>\n",
              "      <th>acaba</th>\n",
              "      <th>acele</th>\n",
              "      <th>aceleyle</th>\n",
              "      <th>acı</th>\n",
              "      <th>adeta</th>\n",
              "      <th>ah</th>\n",
              "      <th>ahşap</th>\n",
              "      <th>ailenin</th>\n",
              "      <th>aklından</th>\n",
              "      <th>aksine</th>\n",
              "      <th>...</th>\n",
              "      <th>şeyi</th>\n",
              "      <th>şeyin</th>\n",
              "      <th>şeytan</th>\n",
              "      <th>şiddetli</th>\n",
              "      <th>şimdi</th>\n",
              "      <th>şimdiki</th>\n",
              "      <th>şişirmesi</th>\n",
              "      <th>şu</th>\n",
              "      <th>şunu</th>\n",
              "      <th>şöyle</th>\n",
              "    </tr>\n",
              "  </thead>\n",
              "  <tbody>\n",
              "    <tr>\n",
              "      <th>acaba</th>\n",
              "      <td>0</td>\n",
              "      <td>0</td>\n",
              "      <td>0</td>\n",
              "      <td>0</td>\n",
              "      <td>0</td>\n",
              "      <td>0</td>\n",
              "      <td>0</td>\n",
              "      <td>0</td>\n",
              "      <td>0</td>\n",
              "      <td>0</td>\n",
              "      <td>...</td>\n",
              "      <td>0</td>\n",
              "      <td>0</td>\n",
              "      <td>0</td>\n",
              "      <td>0</td>\n",
              "      <td>0</td>\n",
              "      <td>0</td>\n",
              "      <td>0</td>\n",
              "      <td>0</td>\n",
              "      <td>0</td>\n",
              "      <td>0</td>\n",
              "    </tr>\n",
              "    <tr>\n",
              "      <th>acele</th>\n",
              "      <td>0</td>\n",
              "      <td>0</td>\n",
              "      <td>0</td>\n",
              "      <td>0</td>\n",
              "      <td>0</td>\n",
              "      <td>0</td>\n",
              "      <td>0</td>\n",
              "      <td>0</td>\n",
              "      <td>0</td>\n",
              "      <td>0</td>\n",
              "      <td>...</td>\n",
              "      <td>0</td>\n",
              "      <td>0</td>\n",
              "      <td>0</td>\n",
              "      <td>0</td>\n",
              "      <td>0</td>\n",
              "      <td>0</td>\n",
              "      <td>0</td>\n",
              "      <td>0</td>\n",
              "      <td>0</td>\n",
              "      <td>0</td>\n",
              "    </tr>\n",
              "    <tr>\n",
              "      <th>aceleyle</th>\n",
              "      <td>0</td>\n",
              "      <td>0</td>\n",
              "      <td>0</td>\n",
              "      <td>0</td>\n",
              "      <td>0</td>\n",
              "      <td>0</td>\n",
              "      <td>0</td>\n",
              "      <td>0</td>\n",
              "      <td>0</td>\n",
              "      <td>0</td>\n",
              "      <td>...</td>\n",
              "      <td>0</td>\n",
              "      <td>0</td>\n",
              "      <td>0</td>\n",
              "      <td>0</td>\n",
              "      <td>0</td>\n",
              "      <td>0</td>\n",
              "      <td>0</td>\n",
              "      <td>0</td>\n",
              "      <td>0</td>\n",
              "      <td>0</td>\n",
              "    </tr>\n",
              "    <tr>\n",
              "      <th>acı</th>\n",
              "      <td>0</td>\n",
              "      <td>0</td>\n",
              "      <td>0</td>\n",
              "      <td>0</td>\n",
              "      <td>0</td>\n",
              "      <td>0</td>\n",
              "      <td>0</td>\n",
              "      <td>0</td>\n",
              "      <td>0</td>\n",
              "      <td>0</td>\n",
              "      <td>...</td>\n",
              "      <td>0</td>\n",
              "      <td>0</td>\n",
              "      <td>0</td>\n",
              "      <td>0</td>\n",
              "      <td>0</td>\n",
              "      <td>0</td>\n",
              "      <td>0</td>\n",
              "      <td>0</td>\n",
              "      <td>0</td>\n",
              "      <td>0</td>\n",
              "    </tr>\n",
              "    <tr>\n",
              "      <th>adeta</th>\n",
              "      <td>0</td>\n",
              "      <td>0</td>\n",
              "      <td>0</td>\n",
              "      <td>0</td>\n",
              "      <td>0</td>\n",
              "      <td>0</td>\n",
              "      <td>0</td>\n",
              "      <td>0</td>\n",
              "      <td>0</td>\n",
              "      <td>0</td>\n",
              "      <td>...</td>\n",
              "      <td>0</td>\n",
              "      <td>0</td>\n",
              "      <td>0</td>\n",
              "      <td>0</td>\n",
              "      <td>0</td>\n",
              "      <td>0</td>\n",
              "      <td>0</td>\n",
              "      <td>0</td>\n",
              "      <td>0</td>\n",
              "      <td>0</td>\n",
              "    </tr>\n",
              "    <tr>\n",
              "      <th>...</th>\n",
              "      <td>...</td>\n",
              "      <td>...</td>\n",
              "      <td>...</td>\n",
              "      <td>...</td>\n",
              "      <td>...</td>\n",
              "      <td>...</td>\n",
              "      <td>...</td>\n",
              "      <td>...</td>\n",
              "      <td>...</td>\n",
              "      <td>...</td>\n",
              "      <td>...</td>\n",
              "      <td>...</td>\n",
              "      <td>...</td>\n",
              "      <td>...</td>\n",
              "      <td>...</td>\n",
              "      <td>...</td>\n",
              "      <td>...</td>\n",
              "      <td>...</td>\n",
              "      <td>...</td>\n",
              "      <td>...</td>\n",
              "      <td>...</td>\n",
              "    </tr>\n",
              "    <tr>\n",
              "      <th>şimdiki</th>\n",
              "      <td>0</td>\n",
              "      <td>0</td>\n",
              "      <td>0</td>\n",
              "      <td>0</td>\n",
              "      <td>0</td>\n",
              "      <td>0</td>\n",
              "      <td>0</td>\n",
              "      <td>0</td>\n",
              "      <td>0</td>\n",
              "      <td>0</td>\n",
              "      <td>...</td>\n",
              "      <td>0</td>\n",
              "      <td>0</td>\n",
              "      <td>0</td>\n",
              "      <td>0</td>\n",
              "      <td>0</td>\n",
              "      <td>0</td>\n",
              "      <td>0</td>\n",
              "      <td>0</td>\n",
              "      <td>0</td>\n",
              "      <td>0</td>\n",
              "    </tr>\n",
              "    <tr>\n",
              "      <th>şişirmesi</th>\n",
              "      <td>0</td>\n",
              "      <td>0</td>\n",
              "      <td>0</td>\n",
              "      <td>0</td>\n",
              "      <td>0</td>\n",
              "      <td>0</td>\n",
              "      <td>0</td>\n",
              "      <td>0</td>\n",
              "      <td>0</td>\n",
              "      <td>0</td>\n",
              "      <td>...</td>\n",
              "      <td>0</td>\n",
              "      <td>0</td>\n",
              "      <td>0</td>\n",
              "      <td>0</td>\n",
              "      <td>0</td>\n",
              "      <td>0</td>\n",
              "      <td>0</td>\n",
              "      <td>0</td>\n",
              "      <td>0</td>\n",
              "      <td>0</td>\n",
              "    </tr>\n",
              "    <tr>\n",
              "      <th>şu</th>\n",
              "      <td>0</td>\n",
              "      <td>0</td>\n",
              "      <td>0</td>\n",
              "      <td>0</td>\n",
              "      <td>0</td>\n",
              "      <td>0</td>\n",
              "      <td>0</td>\n",
              "      <td>0</td>\n",
              "      <td>0</td>\n",
              "      <td>0</td>\n",
              "      <td>...</td>\n",
              "      <td>0</td>\n",
              "      <td>0</td>\n",
              "      <td>0</td>\n",
              "      <td>0</td>\n",
              "      <td>0</td>\n",
              "      <td>0</td>\n",
              "      <td>0</td>\n",
              "      <td>0</td>\n",
              "      <td>0</td>\n",
              "      <td>0</td>\n",
              "    </tr>\n",
              "    <tr>\n",
              "      <th>şunu</th>\n",
              "      <td>0</td>\n",
              "      <td>0</td>\n",
              "      <td>0</td>\n",
              "      <td>0</td>\n",
              "      <td>0</td>\n",
              "      <td>0</td>\n",
              "      <td>0</td>\n",
              "      <td>0</td>\n",
              "      <td>0</td>\n",
              "      <td>0</td>\n",
              "      <td>...</td>\n",
              "      <td>0</td>\n",
              "      <td>0</td>\n",
              "      <td>0</td>\n",
              "      <td>0</td>\n",
              "      <td>0</td>\n",
              "      <td>0</td>\n",
              "      <td>0</td>\n",
              "      <td>0</td>\n",
              "      <td>0</td>\n",
              "      <td>0</td>\n",
              "    </tr>\n",
              "    <tr>\n",
              "      <th>şöyle</th>\n",
              "      <td>0</td>\n",
              "      <td>0</td>\n",
              "      <td>0</td>\n",
              "      <td>0</td>\n",
              "      <td>0</td>\n",
              "      <td>0</td>\n",
              "      <td>0</td>\n",
              "      <td>0</td>\n",
              "      <td>0</td>\n",
              "      <td>0</td>\n",
              "      <td>...</td>\n",
              "      <td>0</td>\n",
              "      <td>0</td>\n",
              "      <td>0</td>\n",
              "      <td>0</td>\n",
              "      <td>0</td>\n",
              "      <td>0</td>\n",
              "      <td>0</td>\n",
              "      <td>0</td>\n",
              "      <td>0</td>\n",
              "      <td>0</td>\n",
              "    </tr>\n",
              "  </tbody>\n",
              "</table>\n",
              "<p>882 rows × 882 columns</p>\n",
              "</div>\n",
              "      <button class=\"colab-df-convert\" onclick=\"convertToInteractive('df-aa362d71-9014-40a6-94ec-03cf7a370558')\"\n",
              "              title=\"Convert this dataframe to an interactive table.\"\n",
              "              style=\"display:none;\">\n",
              "        \n",
              "  <svg xmlns=\"http://www.w3.org/2000/svg\" height=\"24px\"viewBox=\"0 0 24 24\"\n",
              "       width=\"24px\">\n",
              "    <path d=\"M0 0h24v24H0V0z\" fill=\"none\"/>\n",
              "    <path d=\"M18.56 5.44l.94 2.06.94-2.06 2.06-.94-2.06-.94-.94-2.06-.94 2.06-2.06.94zm-11 1L8.5 8.5l.94-2.06 2.06-.94-2.06-.94L8.5 2.5l-.94 2.06-2.06.94zm10 10l.94 2.06.94-2.06 2.06-.94-2.06-.94-.94-2.06-.94 2.06-2.06.94z\"/><path d=\"M17.41 7.96l-1.37-1.37c-.4-.4-.92-.59-1.43-.59-.52 0-1.04.2-1.43.59L10.3 9.45l-7.72 7.72c-.78.78-.78 2.05 0 2.83L4 21.41c.39.39.9.59 1.41.59.51 0 1.02-.2 1.41-.59l7.78-7.78 2.81-2.81c.8-.78.8-2.07 0-2.86zM5.41 20L4 18.59l7.72-7.72 1.47 1.35L5.41 20z\"/>\n",
              "  </svg>\n",
              "      </button>\n",
              "      \n",
              "  <style>\n",
              "    .colab-df-container {\n",
              "      display:flex;\n",
              "      flex-wrap:wrap;\n",
              "      gap: 12px;\n",
              "    }\n",
              "\n",
              "    .colab-df-convert {\n",
              "      background-color: #E8F0FE;\n",
              "      border: none;\n",
              "      border-radius: 50%;\n",
              "      cursor: pointer;\n",
              "      display: none;\n",
              "      fill: #1967D2;\n",
              "      height: 32px;\n",
              "      padding: 0 0 0 0;\n",
              "      width: 32px;\n",
              "    }\n",
              "\n",
              "    .colab-df-convert:hover {\n",
              "      background-color: #E2EBFA;\n",
              "      box-shadow: 0px 1px 2px rgba(60, 64, 67, 0.3), 0px 1px 3px 1px rgba(60, 64, 67, 0.15);\n",
              "      fill: #174EA6;\n",
              "    }\n",
              "\n",
              "    [theme=dark] .colab-df-convert {\n",
              "      background-color: #3B4455;\n",
              "      fill: #D2E3FC;\n",
              "    }\n",
              "\n",
              "    [theme=dark] .colab-df-convert:hover {\n",
              "      background-color: #434B5C;\n",
              "      box-shadow: 0px 1px 3px 1px rgba(0, 0, 0, 0.15);\n",
              "      filter: drop-shadow(0px 1px 2px rgba(0, 0, 0, 0.3));\n",
              "      fill: #FFFFFF;\n",
              "    }\n",
              "  </style>\n",
              "\n",
              "      <script>\n",
              "        const buttonEl =\n",
              "          document.querySelector('#df-aa362d71-9014-40a6-94ec-03cf7a370558 button.colab-df-convert');\n",
              "        buttonEl.style.display =\n",
              "          google.colab.kernel.accessAllowed ? 'block' : 'none';\n",
              "\n",
              "        async function convertToInteractive(key) {\n",
              "          const element = document.querySelector('#df-aa362d71-9014-40a6-94ec-03cf7a370558');\n",
              "          const dataTable =\n",
              "            await google.colab.kernel.invokeFunction('convertToInteractive',\n",
              "                                                     [key], {});\n",
              "          if (!dataTable) return;\n",
              "\n",
              "          const docLinkHtml = 'Like what you see? Visit the ' +\n",
              "            '<a target=\"_blank\" href=https://colab.research.google.com/notebooks/data_table.ipynb>data table notebook</a>'\n",
              "            + ' to learn more about interactive tables.';\n",
              "          element.innerHTML = '';\n",
              "          dataTable['output_type'] = 'display_data';\n",
              "          await google.colab.output.renderOutput(dataTable, element);\n",
              "          const docLink = document.createElement('div');\n",
              "          docLink.innerHTML = docLinkHtml;\n",
              "          element.appendChild(docLink);\n",
              "        }\n",
              "      </script>\n",
              "    </div>\n",
              "  </div>\n",
              "  "
            ]
          },
          "metadata": {},
          "execution_count": 314
        }
      ]
    },
    {
      "cell_type": "code",
      "source": [
        "for i,j in zip(range(len(a)), range(1,len(a))):\n",
        "  try:\n",
        "    my_df.loc[a[i],a[j]] += 1\n",
        "  except:\n",
        "    pass"
      ],
      "metadata": {
        "id": "klQbrJweX8hz"
      },
      "execution_count": 315,
      "outputs": []
    },
    {
      "cell_type": "code",
      "source": [
        "print(my_df.isna().sum().sort_values(ascending=False))"
      ],
      "metadata": {
        "colab": {
          "base_uri": "https://localhost:8080/"
        },
        "id": "5owcfaVvgeln",
        "outputId": "f900776c-5ad3-4ea4-f72e-485f25786f52"
      },
      "execution_count": 317,
      "outputs": [
        {
          "output_type": "stream",
          "name": "stdout",
          "text": [
            "acaba          0\n",
            "saat           0\n",
            "peki           0\n",
            "pencerenin     0\n",
            "pencereye      0\n",
            "              ..\n",
            "görmediği      0\n",
            "görmemek       0\n",
            "görsün         0\n",
            "görülüyordu    0\n",
            "şöyle          0\n",
            "Length: 882, dtype: int64\n"
          ]
        }
      ]
    },
    {
      "cell_type": "code",
      "source": [
        "my_df.loc[my_df[\"şey\"] == my_df[\"şey\"].max()][[\"şey\"]]"
      ],
      "metadata": {
        "colab": {
          "base_uri": "https://localhost:8080/",
          "height": 112
        },
        "id": "rDYGp71GYzIa",
        "outputId": "72cc14ba-1054-4789-ca46-619c77a61179"
      },
      "execution_count": 318,
      "outputs": [
        {
          "output_type": "execute_result",
          "data": {
            "text/plain": [
              "        şey\n",
              "bir       2\n",
              "hiçbir    2"
            ],
            "text/html": [
              "\n",
              "  <div id=\"df-1d5a7a99-2f49-4b38-a06b-14c89dedb47e\">\n",
              "    <div class=\"colab-df-container\">\n",
              "      <div>\n",
              "<style scoped>\n",
              "    .dataframe tbody tr th:only-of-type {\n",
              "        vertical-align: middle;\n",
              "    }\n",
              "\n",
              "    .dataframe tbody tr th {\n",
              "        vertical-align: top;\n",
              "    }\n",
              "\n",
              "    .dataframe thead th {\n",
              "        text-align: right;\n",
              "    }\n",
              "</style>\n",
              "<table border=\"1\" class=\"dataframe\">\n",
              "  <thead>\n",
              "    <tr style=\"text-align: right;\">\n",
              "      <th></th>\n",
              "      <th>şey</th>\n",
              "    </tr>\n",
              "  </thead>\n",
              "  <tbody>\n",
              "    <tr>\n",
              "      <th>bir</th>\n",
              "      <td>2</td>\n",
              "    </tr>\n",
              "    <tr>\n",
              "      <th>hiçbir</th>\n",
              "      <td>2</td>\n",
              "    </tr>\n",
              "  </tbody>\n",
              "</table>\n",
              "</div>\n",
              "      <button class=\"colab-df-convert\" onclick=\"convertToInteractive('df-1d5a7a99-2f49-4b38-a06b-14c89dedb47e')\"\n",
              "              title=\"Convert this dataframe to an interactive table.\"\n",
              "              style=\"display:none;\">\n",
              "        \n",
              "  <svg xmlns=\"http://www.w3.org/2000/svg\" height=\"24px\"viewBox=\"0 0 24 24\"\n",
              "       width=\"24px\">\n",
              "    <path d=\"M0 0h24v24H0V0z\" fill=\"none\"/>\n",
              "    <path d=\"M18.56 5.44l.94 2.06.94-2.06 2.06-.94-2.06-.94-.94-2.06-.94 2.06-2.06.94zm-11 1L8.5 8.5l.94-2.06 2.06-.94-2.06-.94L8.5 2.5l-.94 2.06-2.06.94zm10 10l.94 2.06.94-2.06 2.06-.94-2.06-.94-.94-2.06-.94 2.06-2.06.94z\"/><path d=\"M17.41 7.96l-1.37-1.37c-.4-.4-.92-.59-1.43-.59-.52 0-1.04.2-1.43.59L10.3 9.45l-7.72 7.72c-.78.78-.78 2.05 0 2.83L4 21.41c.39.39.9.59 1.41.59.51 0 1.02-.2 1.41-.59l7.78-7.78 2.81-2.81c.8-.78.8-2.07 0-2.86zM5.41 20L4 18.59l7.72-7.72 1.47 1.35L5.41 20z\"/>\n",
              "  </svg>\n",
              "      </button>\n",
              "      \n",
              "  <style>\n",
              "    .colab-df-container {\n",
              "      display:flex;\n",
              "      flex-wrap:wrap;\n",
              "      gap: 12px;\n",
              "    }\n",
              "\n",
              "    .colab-df-convert {\n",
              "      background-color: #E8F0FE;\n",
              "      border: none;\n",
              "      border-radius: 50%;\n",
              "      cursor: pointer;\n",
              "      display: none;\n",
              "      fill: #1967D2;\n",
              "      height: 32px;\n",
              "      padding: 0 0 0 0;\n",
              "      width: 32px;\n",
              "    }\n",
              "\n",
              "    .colab-df-convert:hover {\n",
              "      background-color: #E2EBFA;\n",
              "      box-shadow: 0px 1px 2px rgba(60, 64, 67, 0.3), 0px 1px 3px 1px rgba(60, 64, 67, 0.15);\n",
              "      fill: #174EA6;\n",
              "    }\n",
              "\n",
              "    [theme=dark] .colab-df-convert {\n",
              "      background-color: #3B4455;\n",
              "      fill: #D2E3FC;\n",
              "    }\n",
              "\n",
              "    [theme=dark] .colab-df-convert:hover {\n",
              "      background-color: #434B5C;\n",
              "      box-shadow: 0px 1px 3px 1px rgba(0, 0, 0, 0.15);\n",
              "      filter: drop-shadow(0px 1px 2px rgba(0, 0, 0, 0.3));\n",
              "      fill: #FFFFFF;\n",
              "    }\n",
              "  </style>\n",
              "\n",
              "      <script>\n",
              "        const buttonEl =\n",
              "          document.querySelector('#df-1d5a7a99-2f49-4b38-a06b-14c89dedb47e button.colab-df-convert');\n",
              "        buttonEl.style.display =\n",
              "          google.colab.kernel.accessAllowed ? 'block' : 'none';\n",
              "\n",
              "        async function convertToInteractive(key) {\n",
              "          const element = document.querySelector('#df-1d5a7a99-2f49-4b38-a06b-14c89dedb47e');\n",
              "          const dataTable =\n",
              "            await google.colab.kernel.invokeFunction('convertToInteractive',\n",
              "                                                     [key], {});\n",
              "          if (!dataTable) return;\n",
              "\n",
              "          const docLinkHtml = 'Like what you see? Visit the ' +\n",
              "            '<a target=\"_blank\" href=https://colab.research.google.com/notebooks/data_table.ipynb>data table notebook</a>'\n",
              "            + ' to learn more about interactive tables.';\n",
              "          element.innerHTML = '';\n",
              "          dataTable['output_type'] = 'display_data';\n",
              "          await google.colab.output.renderOutput(dataTable, element);\n",
              "          const docLink = document.createElement('div');\n",
              "          docLink.innerHTML = docLinkHtml;\n",
              "          element.appendChild(docLink);\n",
              "        }\n",
              "      </script>\n",
              "    </div>\n",
              "  </div>\n",
              "  "
            ]
          },
          "metadata": {},
          "execution_count": 318
        }
      ]
    },
    {
      "cell_type": "code",
      "source": [
        "scaler = list()\n",
        "for i in range(my_df.shape[0]):\n",
        "  scaler.append(my_df.iloc[i,:].sum())\n",
        "my_df = my_df.div(scaler,axis=0)"
      ],
      "metadata": {
        "id": "5G9QtWHJY0Aj"
      },
      "execution_count": 320,
      "outputs": []
    },
    {
      "cell_type": "code",
      "source": [
        "for i in range(10):\n",
        "  print(f\"For Row {i}: \" ,my_df.iloc[i,:].sum())"
      ],
      "metadata": {
        "colab": {
          "base_uri": "https://localhost:8080/"
        },
        "id": "RQtx-4EVcZfg",
        "outputId": "c8fbef95-177d-42b4-bd80-1af70d68a3db"
      },
      "execution_count": 326,
      "outputs": [
        {
          "output_type": "stream",
          "name": "stdout",
          "text": [
            "For Row 0:  1.0\n",
            "For Row 1:  1.0\n",
            "For Row 2:  1.0\n",
            "For Row 3:  1.0\n",
            "For Row 4:  1.0\n",
            "For Row 5:  1.0\n",
            "For Row 6:  1.0\n",
            "For Row 7:  1.0\n",
            "For Row 8:  1.0\n",
            "For Row 9:  1.0\n"
          ]
        }
      ]
    }
  ]
}
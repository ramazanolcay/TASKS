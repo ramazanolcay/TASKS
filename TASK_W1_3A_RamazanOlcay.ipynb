{
  "nbformat": 4,
  "nbformat_minor": 0,
  "metadata": {
    "colab": {
      "provenance": [],
      "collapsed_sections": []
    },
    "kernelspec": {
      "name": "python3",
      "display_name": "Python 3"
    },
    "language_info": {
      "name": "python"
    }
  },
  "cells": [
    {
      "cell_type": "code",
      "execution_count": null,
      "metadata": {
        "id": "1Kpc_dh-SuRq"
      },
      "outputs": [],
      "source": [
        "import numpy as np"
      ]
    },
    {
      "cell_type": "code",
      "source": [
        "\n",
        "x = np.zeros((8,6), dtype=int)\n",
        "x"
      ],
      "metadata": {
        "colab": {
          "base_uri": "https://localhost:8080/"
        },
        "id": "RO2_ZrAjSzN_",
        "outputId": "03c3ddae-29d5-4bd1-b93b-2015bde9d7d1"
      },
      "execution_count": null,
      "outputs": [
        {
          "output_type": "execute_result",
          "data": {
            "text/plain": [
              "array([[0, 0, 0, 0, 0, 0],\n",
              "       [0, 0, 0, 0, 0, 0],\n",
              "       [0, 0, 0, 0, 0, 0],\n",
              "       [0, 0, 0, 0, 0, 0],\n",
              "       [0, 0, 0, 0, 0, 0],\n",
              "       [0, 0, 0, 0, 0, 0],\n",
              "       [0, 0, 0, 0, 0, 0],\n",
              "       [0, 0, 0, 0, 0, 0]])"
            ]
          },
          "metadata": {},
          "execution_count": 45
        }
      ]
    },
    {
      "cell_type": "code",
      "source": [
        "for j in range(8):\n",
        "  for i in range(6):\n",
        "\n",
        "    def checker(x,num):\n",
        "      return (np.any(x[j] == num))\n",
        "\n",
        "    num = np.random.randint(1,50)\n",
        "    while checker(x,num) == True:\n",
        "      num = np.random.randint(1,50)\n",
        "      checker(x,num)\n",
        "    x[j,i] = num\n",
        "\n",
        "x"
      ],
      "metadata": {
        "id": "Lb97FpuQTXVF",
        "colab": {
          "base_uri": "https://localhost:8080/"
        },
        "outputId": "f96243cc-69ff-4f9d-b154-6592f6480182"
      },
      "execution_count": null,
      "outputs": [
        {
          "output_type": "execute_result",
          "data": {
            "text/plain": [
              "array([[45,  7,  1, 17, 47, 30],\n",
              "       [ 3, 32,  2,  5, 38, 21],\n",
              "       [30, 26, 31, 48,  9, 40],\n",
              "       [32,  6, 19, 48, 16, 13],\n",
              "       [42, 17, 43, 25, 24, 46],\n",
              "       [13, 12, 17, 11, 28, 38],\n",
              "       [11, 45, 26, 42, 15, 20],\n",
              "       [44, 24,  7, 22, 27, 37]])"
            ]
          },
          "metadata": {},
          "execution_count": 46
        }
      ]
    },
    {
      "cell_type": "code",
      "source": [
        "x = np.transpose(x)\n",
        "x"
      ],
      "metadata": {
        "colab": {
          "base_uri": "https://localhost:8080/"
        },
        "id": "-_KIA2FGY076",
        "outputId": "32915212-473d-4f57-f87a-f5a02c76ded1"
      },
      "execution_count": null,
      "outputs": [
        {
          "output_type": "execute_result",
          "data": {
            "text/plain": [
              "array([[45,  3, 30, 32, 42, 13, 11, 44],\n",
              "       [ 7, 32, 26,  6, 17, 12, 45, 24],\n",
              "       [ 1,  2, 31, 19, 43, 17, 26,  7],\n",
              "       [17,  5, 48, 48, 25, 11, 42, 22],\n",
              "       [47, 38,  9, 16, 24, 28, 15, 27],\n",
              "       [30, 21, 40, 13, 46, 38, 20, 37]])"
            ]
          },
          "metadata": {},
          "execution_count": 47
        }
      ]
    }
  ]
}
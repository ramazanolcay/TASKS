{
  "nbformat": 4,
  "nbformat_minor": 0,
  "metadata": {
    "colab": {
      "provenance": []
    },
    "kernelspec": {
      "name": "python3",
      "display_name": "Python 3"
    },
    "language_info": {
      "name": "python"
    },
    "gpuClass": "standard"
  },
  "cells": [
    {
      "cell_type": "code",
      "execution_count": 1,
      "metadata": {
        "id": "9gpy5SgGS8Kf"
      },
      "outputs": [],
      "source": [
        "import numpy as np\n",
        "import pandas as pd"
      ]
    },
    {
      "cell_type": "code",
      "source": [
        "data = pd.read_excel(\"Temporary_data3_Left_Right_Copy.xlsx\")"
      ],
      "metadata": {
        "id": "MzcArfuZXgzZ"
      },
      "execution_count": 2,
      "outputs": []
    },
    {
      "cell_type": "code",
      "source": [
        "X = data.drop(columns=\"CDRGLOB\")\n",
        "y = data[\"CDRGLOB\"]"
      ],
      "metadata": {
        "id": "OUBp2fFOYkU5"
      },
      "execution_count": 3,
      "outputs": []
    },
    {
      "cell_type": "code",
      "source": [
        "from sklearn.model_selection import train_test_split\n",
        "\n",
        "X_train, X_test, y_train, y_test =train_test_split(X, y, test_size=0.25, random_state=42)"
      ],
      "metadata": {
        "id": "qiWG539EXZEL"
      },
      "execution_count": 4,
      "outputs": []
    },
    {
      "cell_type": "code",
      "source": [
        "from sklearn.svm import SVC\n",
        "from sklearn.model_selection import GridSearchCV"
      ],
      "metadata": {
        "id": "jmGbobRxRPqI"
      },
      "execution_count": 14,
      "outputs": []
    },
    {
      "cell_type": "code",
      "source": [
        "\n",
        "#svc = SVC(random_state=0)\n",
        "\n",
        "#param_grid = {\n",
        "              #'kernel': [\"linear\", \"rbf\"],\n",
        "              #'gamma': [\"scale\", \"auto\"]\n",
        "              #}\n",
        "\n",
        "#grid = GridSearchCV(estimator=svc, param_grid=param_grid)"
      ],
      "metadata": {
        "id": "8Z3F42001inW"
      },
      "execution_count": null,
      "outputs": []
    },
    {
      "cell_type": "code",
      "source": [
        "#grid.fit(X_train, y_train);"
      ],
      "metadata": {
        "id": "4Th-wB6b9gO4"
      },
      "execution_count": null,
      "outputs": []
    },
    {
      "cell_type": "code",
      "source": [
        "#my_params = grid.best_params_\n",
        "#my_params"
      ],
      "metadata": {
        "id": "PmOb00Q2BjHw",
        "colab": {
          "base_uri": "https://localhost:8080/"
        },
        "outputId": "a958644e-4f84-4d6c-ed4b-286622104d0d"
      },
      "execution_count": null,
      "outputs": [
        {
          "output_type": "execute_result",
          "data": {
            "text/plain": [
              "{'gamma': 'scale', 'kernel': 'linear'}"
            ]
          },
          "metadata": {},
          "execution_count": 8
        }
      ]
    },
    {
      "cell_type": "code",
      "source": [
        "my_C = np.linspace(0.5,20, num=4)"
      ],
      "metadata": {
        "id": "pAykdvjG2r7p"
      },
      "execution_count": 6,
      "outputs": []
    },
    {
      "cell_type": "code",
      "source": [
        "svc = SVC(random_state=0, kernel =\"linear\", gamma=\"scale\")\n",
        "\n",
        "param_grid = {'C': my_C,\n",
        "              }\n",
        "grid = GridSearchCV(estimator=svc, param_grid=param_grid)"
      ],
      "metadata": {
        "id": "9i-WKrNjCgq2"
      },
      "execution_count": 7,
      "outputs": []
    },
    {
      "cell_type": "code",
      "source": [
        "grid.fit(X_train, y_train);"
      ],
      "metadata": {
        "id": "oE5Vp2pGDEeH"
      },
      "execution_count": 8,
      "outputs": []
    },
    {
      "cell_type": "code",
      "source": [
        "grid.best_params_"
      ],
      "metadata": {
        "id": "I1eb4OzrDZek",
        "colab": {
          "base_uri": "https://localhost:8080/"
        },
        "outputId": "d445ccc3-8c75-4c19-a483-0fde6c1b64ca"
      },
      "execution_count": 11,
      "outputs": [
        {
          "output_type": "execute_result",
          "data": {
            "text/plain": [
              "{'C': 7.0}"
            ]
          },
          "metadata": {},
          "execution_count": 11
        }
      ]
    },
    {
      "cell_type": "code",
      "source": [
        "svc = SVC(random_state=0, kernel =\"linear\", gamma=\"scale\", C = 7.0)\n",
        "my_predictions_SVC = svc.fit(X_train,y_train).predict(X_test)"
      ],
      "metadata": {
        "id": "MSRSCN-yDhGZ"
      },
      "execution_count": 15,
      "outputs": []
    },
    {
      "cell_type": "code",
      "source": [
        "from sklearn.metrics import classification_report,confusion_matrix\n",
        "target_names = ['CDRGLOB 0', 'CDRGLOB 1', 'CDRGLOB 2', 'CDRGLOB 3']"
      ],
      "metadata": {
        "id": "Ce0oh3PaTffH"
      },
      "execution_count": 16,
      "outputs": []
    },
    {
      "cell_type": "code",
      "source": [
        "cr_svc = classification_report(y_test, my_predictions_SVC, target_names=target_names)\n",
        "print(cr_svc)"
      ],
      "metadata": {
        "id": "2JK9yrkoDMQi",
        "colab": {
          "base_uri": "https://localhost:8080/"
        },
        "outputId": "74339e35-87dd-46f2-bdf4-1fafeb7f8d21"
      },
      "execution_count": 17,
      "outputs": [
        {
          "output_type": "stream",
          "name": "stdout",
          "text": [
            "              precision    recall  f1-score   support\n",
            "\n",
            "   CDRGLOB 0       0.86      0.78      0.82       184\n",
            "   CDRGLOB 1       0.58      0.67      0.62       108\n",
            "   CDRGLOB 2       0.47      0.41      0.44        39\n",
            "   CDRGLOB 3       0.23      0.38      0.29         8\n",
            "\n",
            "    accuracy                           0.69       339\n",
            "   macro avg       0.53      0.56      0.54       339\n",
            "weighted avg       0.71      0.69      0.70       339\n",
            "\n"
          ]
        }
      ]
    },
    {
      "cell_type": "code",
      "source": [
        "conf_svc = confusion_matrix(y_test, my_predictions_SVC)\n",
        "print(conf_svc)"
      ],
      "metadata": {
        "id": "YXEZI1NNLRfo",
        "colab": {
          "base_uri": "https://localhost:8080/"
        },
        "outputId": "a879f202-045f-4557-9570-84984de7b247"
      },
      "execution_count": 18,
      "outputs": [
        {
          "output_type": "stream",
          "name": "stdout",
          "text": [
            "[[144  40   0   0]\n",
            " [ 21  72  14   1]\n",
            " [  2  12  16   9]\n",
            " [  0   1   4   3]]\n"
          ]
        }
      ]
    },
    {
      "cell_type": "code",
      "source": [
        "from sklearn.tree import DecisionTreeClassifier\n",
        "\n",
        "dtc = DecisionTreeClassifier(random_state=0)"
      ],
      "metadata": {
        "id": "xshzpyLSEwsh"
      },
      "execution_count": 19,
      "outputs": []
    },
    {
      "cell_type": "code",
      "source": [
        "param_grid_dtc = {'criterion': [\"gini\", \"entropy\"],\n",
        "              'max_features': [\"auto\", \"log2\", None],\n",
        "              'class_weight': [\"balanced\",None],\n",
        "              'splitter': [\"best\", \"random\"]\n",
        "              }\n",
        "\n",
        "grid_dtc = GridSearchCV(estimator=dtc, param_grid=param_grid_dtc)"
      ],
      "metadata": {
        "id": "BImxK46GFNYR"
      },
      "execution_count": 20,
      "outputs": []
    },
    {
      "cell_type": "code",
      "source": [
        "grid_dtc.fit(X_train, y_train);"
      ],
      "metadata": {
        "id": "6-v515IZHKky"
      },
      "execution_count": 21,
      "outputs": []
    },
    {
      "cell_type": "code",
      "source": [
        "grid_dtc.best_params_"
      ],
      "metadata": {
        "id": "oJcGPA-XHSz6",
        "colab": {
          "base_uri": "https://localhost:8080/"
        },
        "outputId": "68e8d69f-802e-486e-d1d3-6a1169a2db89"
      },
      "execution_count": 22,
      "outputs": [
        {
          "output_type": "execute_result",
          "data": {
            "text/plain": [
              "{'class_weight': None,\n",
              " 'criterion': 'entropy',\n",
              " 'max_features': None,\n",
              " 'splitter': 'best'}"
            ]
          },
          "metadata": {},
          "execution_count": 22
        }
      ]
    },
    {
      "cell_type": "code",
      "source": [
        "DTC = grid_dtc.best_estimator_\n",
        "my_predictions_DTC = DTC.fit(X_train,y_train).predict(X_test)"
      ],
      "metadata": {
        "id": "J84YWOC7HXLT"
      },
      "execution_count": 23,
      "outputs": []
    },
    {
      "cell_type": "code",
      "source": [
        "cr_dtc = classification_report(y_test, my_predictions_DTC, target_names=target_names)\n",
        "print(cr_dtc)"
      ],
      "metadata": {
        "id": "zK7HlEL8LcPX",
        "colab": {
          "base_uri": "https://localhost:8080/"
        },
        "outputId": "2fe9ad52-f05e-4f1f-fc17-16d6eacf0fd1"
      },
      "execution_count": 24,
      "outputs": [
        {
          "output_type": "stream",
          "name": "stdout",
          "text": [
            "              precision    recall  f1-score   support\n",
            "\n",
            "   CDRGLOB 0       0.84      0.76      0.79       184\n",
            "   CDRGLOB 1       0.49      0.54      0.51       108\n",
            "   CDRGLOB 2       0.41      0.46      0.43        39\n",
            "   CDRGLOB 3       0.36      0.50      0.42         8\n",
            "\n",
            "    accuracy                           0.65       339\n",
            "   macro avg       0.53      0.56      0.54       339\n",
            "weighted avg       0.67      0.65      0.65       339\n",
            "\n"
          ]
        }
      ]
    },
    {
      "cell_type": "code",
      "source": [
        "conf_dtc = confusion_matrix(y_test, my_predictions_DTC)\n",
        "conf_dtc"
      ],
      "metadata": {
        "id": "GsyCiwn4Loi7",
        "colab": {
          "base_uri": "https://localhost:8080/"
        },
        "outputId": "9badef76-8225-4216-ea21-b304c138dedc"
      },
      "execution_count": 25,
      "outputs": [
        {
          "output_type": "execute_result",
          "data": {
            "text/plain": [
              "array([[139,  44,   1,   0],\n",
              "       [ 26,  58,  22,   2],\n",
              "       [  1,  15,  18,   5],\n",
              "       [  0,   1,   3,   4]])"
            ]
          },
          "metadata": {},
          "execution_count": 25
        }
      ]
    },
    {
      "cell_type": "code",
      "source": [
        "from sklearn.ensemble import RandomForestClassifier\n",
        "rfc = RandomForestClassifier(random_state=0)"
      ],
      "metadata": {
        "id": "CcdjeLOBJHLX"
      },
      "execution_count": 26,
      "outputs": []
    },
    {
      "cell_type": "code",
      "source": [
        "param_grid_rfc = {'criterion': [\"gini\", \"entropy\", \"log_loss\"],\n",
        "              'max_features': [\"sqrt\", \"log2\", None],\n",
        "              'class_weight': [\"balanced\",None],\n",
        "              'oob_score': [True, False]\n",
        "              }\n",
        "grid_rfc = GridSearchCV(estimator=rfc, param_grid=param_grid_rfc)"
      ],
      "metadata": {
        "id": "La53cgNFJcEb"
      },
      "execution_count": 27,
      "outputs": []
    },
    {
      "cell_type": "code",
      "source": [
        "grid_rfc.fit(X_train, y_train);"
      ],
      "metadata": {
        "id": "lrqCVMYWLHAU",
        "colab": {
          "base_uri": "https://localhost:8080/"
        },
        "outputId": "51616d5d-5f3e-489e-ec26-8f56b8d7f5e3"
      },
      "execution_count": 28,
      "outputs": [
        {
          "output_type": "stream",
          "name": "stderr",
          "text": [
            "/usr/local/lib/python3.7/dist-packages/sklearn/model_selection/_validation.py:372: FitFailedWarning: \n",
            "60 fits failed out of a total of 180.\n",
            "The score on these train-test partitions for these parameters will be set to nan.\n",
            "If these failures are not expected, you can try to debug them by setting error_score='raise'.\n",
            "\n",
            "Below are more details about the failures:\n",
            "--------------------------------------------------------------------------------\n",
            "60 fits failed with the following error:\n",
            "Traceback (most recent call last):\n",
            "  File \"/usr/local/lib/python3.7/dist-packages/sklearn/model_selection/_validation.py\", line 680, in _fit_and_score\n",
            "    estimator.fit(X_train, y_train, **fit_params)\n",
            "  File \"/usr/local/lib/python3.7/dist-packages/sklearn/ensemble/_forest.py\", line 467, in fit\n",
            "    for i, t in enumerate(trees)\n",
            "  File \"/usr/local/lib/python3.7/dist-packages/joblib/parallel.py\", line 1085, in __call__\n",
            "    if self.dispatch_one_batch(iterator):\n",
            "  File \"/usr/local/lib/python3.7/dist-packages/joblib/parallel.py\", line 901, in dispatch_one_batch\n",
            "    self._dispatch(tasks)\n",
            "  File \"/usr/local/lib/python3.7/dist-packages/joblib/parallel.py\", line 819, in _dispatch\n",
            "    job = self._backend.apply_async(batch, callback=cb)\n",
            "  File \"/usr/local/lib/python3.7/dist-packages/joblib/_parallel_backends.py\", line 208, in apply_async\n",
            "    result = ImmediateResult(func)\n",
            "  File \"/usr/local/lib/python3.7/dist-packages/joblib/_parallel_backends.py\", line 597, in __init__\n",
            "    self.results = batch()\n",
            "  File \"/usr/local/lib/python3.7/dist-packages/joblib/parallel.py\", line 289, in __call__\n",
            "    for func, args, kwargs in self.items]\n",
            "  File \"/usr/local/lib/python3.7/dist-packages/joblib/parallel.py\", line 289, in <listcomp>\n",
            "    for func, args, kwargs in self.items]\n",
            "  File \"/usr/local/lib/python3.7/dist-packages/sklearn/utils/fixes.py\", line 216, in __call__\n",
            "    return self.function(*args, **kwargs)\n",
            "  File \"/usr/local/lib/python3.7/dist-packages/sklearn/ensemble/_forest.py\", line 185, in _parallel_build_trees\n",
            "    tree.fit(X, y, sample_weight=curr_sample_weight, check_input=False)\n",
            "  File \"/usr/local/lib/python3.7/dist-packages/sklearn/tree/_classes.py\", line 942, in fit\n",
            "    X_idx_sorted=X_idx_sorted,\n",
            "  File \"/usr/local/lib/python3.7/dist-packages/sklearn/tree/_classes.py\", line 352, in fit\n",
            "    criterion = CRITERIA_CLF[self.criterion](\n",
            "KeyError: 'log_loss'\n",
            "\n",
            "  warnings.warn(some_fits_failed_message, FitFailedWarning)\n",
            "/usr/local/lib/python3.7/dist-packages/sklearn/model_selection/_search.py:972: UserWarning: One or more of the test scores are non-finite: [0.65517241 0.65517241 0.63054187 0.63054187 0.69261084 0.69261084\n",
            " 0.66896552 0.66896552 0.64039409 0.64039409 0.71527094 0.71527094\n",
            "        nan        nan        nan        nan        nan        nan\n",
            " 0.66896552 0.66896552 0.65024631 0.65024631 0.69753695 0.69753695\n",
            " 0.65123153 0.65123153 0.64926108 0.64926108 0.69064039 0.69064039\n",
            "        nan        nan        nan        nan        nan        nan]\n",
            "  category=UserWarning,\n"
          ]
        }
      ]
    },
    {
      "cell_type": "code",
      "source": [
        "grid_rfc.best_params_"
      ],
      "metadata": {
        "id": "LrFBpoW_LyyW",
        "colab": {
          "base_uri": "https://localhost:8080/"
        },
        "outputId": "2bc1fb0d-0312-42a7-ee36-ffd97024356a"
      },
      "execution_count": 29,
      "outputs": [
        {
          "output_type": "execute_result",
          "data": {
            "text/plain": [
              "{'class_weight': 'balanced',\n",
              " 'criterion': 'entropy',\n",
              " 'max_features': None,\n",
              " 'oob_score': True}"
            ]
          },
          "metadata": {},
          "execution_count": 29
        }
      ]
    },
    {
      "cell_type": "code",
      "source": [
        "RFC = grid_rfc.best_estimator_\n",
        "my_predictions_RFC = RFC.fit(X_train,y_train).predict(X_test)"
      ],
      "metadata": {
        "id": "-fQOXDN-L2xc"
      },
      "execution_count": 30,
      "outputs": []
    },
    {
      "cell_type": "code",
      "source": [
        "cr_rfc = classification_report(y_test, my_predictions_RFC, target_names=target_names)\n",
        "print(\"Random Forest Report\")\n",
        "print(cr_rfc)\n",
        "\n",
        "print(\"Decision Tree Report\")\n",
        "print(cr_dtc)\n",
        "\n",
        "print(\"Support Vector Machine Report\")\n",
        "print(cr_svc)"
      ],
      "metadata": {
        "id": "bwKyvMi8L8-C",
        "colab": {
          "base_uri": "https://localhost:8080/"
        },
        "outputId": "fd458782-4e5d-46a7-f156-ce6573be6184"
      },
      "execution_count": 33,
      "outputs": [
        {
          "output_type": "stream",
          "name": "stdout",
          "text": [
            "Random Forest Report\n",
            "              precision    recall  f1-score   support\n",
            "\n",
            "   CDRGLOB 0       0.87      0.85      0.86       184\n",
            "   CDRGLOB 1       0.63      0.73      0.68       108\n",
            "   CDRGLOB 2       0.56      0.38      0.45        39\n",
            "   CDRGLOB 3       0.38      0.38      0.38         8\n",
            "\n",
            "    accuracy                           0.75       339\n",
            "   macro avg       0.61      0.58      0.59       339\n",
            "weighted avg       0.75      0.75      0.74       339\n",
            "\n",
            "Decision Tree Report\n",
            "              precision    recall  f1-score   support\n",
            "\n",
            "   CDRGLOB 0       0.84      0.76      0.79       184\n",
            "   CDRGLOB 1       0.49      0.54      0.51       108\n",
            "   CDRGLOB 2       0.41      0.46      0.43        39\n",
            "   CDRGLOB 3       0.36      0.50      0.42         8\n",
            "\n",
            "    accuracy                           0.65       339\n",
            "   macro avg       0.53      0.56      0.54       339\n",
            "weighted avg       0.67      0.65      0.65       339\n",
            "\n",
            "Support Vector Machine Report\n",
            "              precision    recall  f1-score   support\n",
            "\n",
            "   CDRGLOB 0       0.86      0.78      0.82       184\n",
            "   CDRGLOB 1       0.58      0.67      0.62       108\n",
            "   CDRGLOB 2       0.47      0.41      0.44        39\n",
            "   CDRGLOB 3       0.23      0.38      0.29         8\n",
            "\n",
            "    accuracy                           0.69       339\n",
            "   macro avg       0.53      0.56      0.54       339\n",
            "weighted avg       0.71      0.69      0.70       339\n",
            "\n"
          ]
        }
      ]
    },
    {
      "cell_type": "code",
      "source": [
        "conf_rfc = confusion_matrix(y_test, my_predictions_RFC)\n",
        "print(\"Random Forest Confusion Matrix\")\n",
        "print(conf_rfc)\n",
        "\n",
        "print(\"Decision Tree Confusion Matrix\")\n",
        "print(conf_dtc)\n",
        "\n",
        "print(\"Support Vector Machine Confusion Matrix\")\n",
        "print(conf_svc)"
      ],
      "metadata": {
        "id": "-jXzPhWhMAb5",
        "colab": {
          "base_uri": "https://localhost:8080/"
        },
        "outputId": "ec4fedbf-d10b-4f81-a4f9-8d5f03591526"
      },
      "execution_count": 34,
      "outputs": [
        {
          "output_type": "stream",
          "name": "stdout",
          "text": [
            "Random Forest Confusion Matrix\n",
            "[[156  28   0   0]\n",
            " [ 22  79   7   0]\n",
            " [  1  18  15   5]\n",
            " [  0   0   5   3]]\n",
            "Decision Tree Confusion Matrix\n",
            "[[139  44   1   0]\n",
            " [ 26  58  22   2]\n",
            " [  1  15  18   5]\n",
            " [  0   1   3   4]]\n",
            "Support Vector Machine Confusion Matrix\n",
            "[[144  40   0   0]\n",
            " [ 21  72  14   1]\n",
            " [  2  12  16   9]\n",
            " [  0   1   4   3]]\n"
          ]
        }
      ]
    },
    {
      "cell_type": "markdown",
      "source": [
        "Decision  Tree algoritması CDRGLOB=3 için diğerlerinden daha iyi sonuç çıkarsa da ilgili sınıfa ait veri sayısı oldukça az olduğu için diğerlerinin bu noktada daha düşük çıkması gayet olasıdır. Veri sayısının çok olduğu CDRGLOB 0 ve 1 için ise random forest algoritmasının farkı oldukça vardır. Genele bakarsak random forest en iyi sonuçları çıkarmıştır."
      ],
      "metadata": {
        "id": "_ZB7XrVd2jGT"
      }
    }
  ]
}
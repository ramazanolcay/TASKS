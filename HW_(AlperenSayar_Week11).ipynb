{
  "nbformat": 4,
  "nbformat_minor": 0,
  "metadata": {
    "colab": {
      "provenance": []
    },
    "kernelspec": {
      "name": "python3",
      "display_name": "Python 3"
    },
    "language_info": {
      "name": "python"
    }
  },
  "cells": [
    {
      "cell_type": "markdown",
      "source": [
        "     Ödev1) Boş Copy Nedir? \".Copy\" Nedir, yazdıktan sonra neleri değiştirir, neleri değiştirmez ?\n",
        "    DeepCopy Nedir? Shallow Copy Nedir? Bunlar oluşturduğumuz df'de neleri değiştirir?\n"
      ],
      "metadata": {
        "id": "Z_xJ6FHpwgbS"
      }
    },
    {
      "cell_type": "markdown",
      "source": [
        "Boş copy: Herhangi bir kopyalama işlemini \"=\" ibaresi üstünden yaparak gerçekleştirmektir. Referans tipli bir kopyalama olup kopyalanan her iki değişkenin de bellekte tutulduğu id aynıdır. Örnek vermek gerekirse:"
      ],
      "metadata": {
        "id": "N-xeaIXFwj3h"
      }
    },
    {
      "cell_type": "code",
      "source": [
        "import pandas as pd\n",
        "A = [[0,1,2,3],[4,5,6,7]]\n",
        "A = pd.DataFrame(data=A)\n",
        "B = A\n",
        "print(B)\n",
        "print(\"A ID: \",id(A))\n",
        "print(\"B ID: \",id(B))\n",
        "print(\"A ve B ID birbirine eşit midir: \", (id(A) == id(B)))"
      ],
      "metadata": {
        "colab": {
          "base_uri": "https://localhost:8080/"
        },
        "id": "L2xmx_KIxAhZ",
        "outputId": "2749661f-d266-4224-9f94-3a0b90426c54"
      },
      "execution_count": null,
      "outputs": [
        {
          "output_type": "stream",
          "name": "stdout",
          "text": [
            "   0  1  2  3\n",
            "0  0  1  2  3\n",
            "1  4  5  6  7\n",
            "A ID:  140249672195152\n",
            "B ID:  140249672195152\n",
            "A ve B ID birbirine eşit midir:  True\n"
          ]
        }
      ]
    },
    {
      "cell_type": "markdown",
      "source": [
        "\".copy\" veya Shallow Copy: Herhangi bir öğeyi olduğu gibi kopyalamaktır. Kopyalanan öğelerin Id değerleri farklı olsa da elemanlarınınki aynıdır. Örnek vermek gerekirse:"
      ],
      "metadata": {
        "id": "fA2KAJRCxQMp"
      }
    },
    {
      "cell_type": "code",
      "source": [
        "import copy\n",
        "B = copy.copy(A)\n",
        "\n",
        "print(B)\n",
        "print(\"A ID: \",id(A))\n",
        "print(\"B ID: \",id(B))\n",
        "print(\"A ve B ID birbirine eşit midir: \", (id(A) == id(B)))\n",
        "print(\"A listesi ilk eleman ID: \",id(A.iloc[0,0]))\n",
        "print(\"B listesi ilk eleman ID: \",id(B.iloc[0,0]))\n",
        "print(\"A listesi ilk elemanı ve B listesi ilk elemanı ID birbirine eşit midir: \", ((id(A.iloc[0,0])) == id(B.iloc[0,0])))"
      ],
      "metadata": {
        "colab": {
          "base_uri": "https://localhost:8080/"
        },
        "id": "iNok7PBuxgqp",
        "outputId": "50f59de2-6dc3-410d-a933-1604f6c55ee1"
      },
      "execution_count": null,
      "outputs": [
        {
          "output_type": "stream",
          "name": "stdout",
          "text": [
            "   0  1  2  3\n",
            "0  0  1  2  3\n",
            "1  4  5  6  7\n",
            "A ID:  140249672195152\n",
            "B ID:  140249675537488\n",
            "A ve B ID birbirine eşit midir:  False\n",
            "A listesi ilk eleman ID:  140249672657392\n",
            "B listesi ilk eleman ID:  140249672657200\n",
            "A listesi ilk elemanı ve B listesi ilk elemanı ID birbirine eşit midir:  True\n"
          ]
        }
      ]
    },
    {
      "cell_type": "markdown",
      "source": [
        "DeepCopy: Hem değişken hem de değişken öğeleri için yeni bir bellek bölgesi açarak kopyalama işlemi gerçekleştirir. Örnek vermek gerekirse:"
      ],
      "metadata": {
        "id": "vRD3vktexkmB"
      }
    },
    {
      "cell_type": "code",
      "source": [
        "import copy\n",
        "\n",
        "B = copy.deepcopy(A)\n",
        "\n",
        "print(B)\n",
        "print(\"A ID: \",id(A))\n",
        "print(\"B ID: \",id(B))\n",
        "print(\"A ve B ID birbirine eşit midir: \", (id(A) == id(B)))\n",
        "print(\"A listesi ilk eleman ID: \",id(A.iloc[0,0]))\n",
        "print(\"B listesi ilk eleman ID: \",id(B.iloc[0,0]))\n",
        "print(\"A listesi ilk elemanı ve B listesi ilk elemanı ID birbirine eşit midir: \", (float(id(A.iloc[0,0])) == float(id(B.iloc[0,0]))))"
      ],
      "metadata": {
        "colab": {
          "base_uri": "https://localhost:8080/"
        },
        "id": "ORzmFb15_Kgt",
        "outputId": "adbf5aed-71da-4859-d73a-eba83870b547"
      },
      "execution_count": null,
      "outputs": [
        {
          "output_type": "stream",
          "name": "stdout",
          "text": [
            "   0  1  2  3\n",
            "0  0  1  2  3\n",
            "1  4  5  6  7\n",
            "A ID:  140249672195152\n",
            "B ID:  140249671047184\n",
            "A ve B ID birbirine eşit midir:  False\n",
            "A listesi ilk eleman ID:  140249672656144\n",
            "B listesi ilk eleman ID:  140249672658768\n",
            "A listesi ilk elemanı ve B listesi ilk elemanı ID birbirine eşit midir:  False\n"
          ]
        }
      ]
    },
    {
      "cell_type": "markdown",
      "source": [
        "Shallow copy: \".copy\" ile aynı şeydir."
      ],
      "metadata": {
        "id": "NlsvNFYoDQ0k"
      }
    },
    {
      "cell_type": "markdown",
      "source": [
        "    Ödev2) e-01 yerine 0.78'i nasıl görebiliriz?"
      ],
      "metadata": {
        "id": "Y9pvAL6zDZ5c"
      }
    },
    {
      "cell_type": "code",
      "source": [
        "c = 5.0 *(-1/1000000000000)\n",
        "print(c)\n",
        "print(f\"{c:.12f}\")\n",
        "\n",
        "# :.nf şeklinde bir yazım ile ilgili durum düzeltilebilir. n burada virgülden sonra kaç basamak gösterileceğidir."
      ],
      "metadata": {
        "colab": {
          "base_uri": "https://localhost:8080/"
        },
        "id": "HaIkK4l0Do0l",
        "outputId": "c620f010-85fd-41cc-f6d4-a2d1f469f191"
      },
      "execution_count": null,
      "outputs": [
        {
          "output_type": "stream",
          "name": "stdout",
          "text": [
            "-5e-12\n",
            "-0.000000000005\n"
          ]
        }
      ]
    },
    {
      "cell_type": "markdown",
      "source": [
        "    Ödev3) \"np.Log()\" doğal logoritma dediğimiz şekilde mi gelir yoksa log 2 tabanında mı gelir?"
      ],
      "metadata": {
        "id": "T-EWiZM_GI9_"
      }
    },
    {
      "cell_type": "code",
      "source": [
        "# np.log(): logaritma e tabanında bir dönüşüm yapar. Örneğin:\n",
        "\n",
        "import numpy as np\n",
        "\n",
        "e = np.e\n",
        "\n",
        "print(\"e sayısının np.log ile dönüşümünden çıkan sonuç:  \",np.log(e))\n",
        "print(\"e^5 sayısının np.log ile dönüşümünden çıkan sonuç:  \",np.log(e**5))\n",
        "print(\"e^e sayısının np.log ile dönüşümünden çıkan sonuç:  \",np.log(e**e))\n",
        "print(\"15 sayısının np.log ile dönüşümünden çıkan sonuç: \",np.log(15))"
      ],
      "metadata": {
        "colab": {
          "base_uri": "https://localhost:8080/"
        },
        "id": "HetPEZ0FGThN",
        "outputId": "79cc3651-7e41-411c-bc7b-d00911b32034"
      },
      "execution_count": null,
      "outputs": [
        {
          "output_type": "stream",
          "name": "stdout",
          "text": [
            "e sayısının np.log ile dönüşümünden çıkan sonuç:   1.0\n",
            "e^5 sayısının np.log ile dönüşümünden çıkan sonuç:   5.0\n",
            "e^e sayısının np.log ile dönüşümünden çıkan sonuç:   2.718281828459045\n",
            "15 sayısının np.log ile dönüşümünden çıkan sonuç:  2.70805020110221\n"
          ]
        }
      ]
    },
    {
      "cell_type": "markdown",
      "source": [
        "    Ödev4) Yeo-Johnson çok büyük değerlerde uygulanamıyor mu? Neden Income değerlerindeki \"10\" olan değerimizi arttırdığımızda(1000 yaptığımızda) çıktımızda bozulmalar oluyor?"
      ],
      "metadata": {
        "id": "CpKxPE2tHODs"
      }
    },
    {
      "cell_type": "markdown",
      "source": [
        "    Bulamadım"
      ],
      "metadata": {
        "id": "wMWa74Df-sQn"
      }
    }
  ]
}
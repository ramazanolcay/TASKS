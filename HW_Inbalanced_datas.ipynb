{
  "nbformat": 4,
  "nbformat_minor": 0,
  "metadata": {
    "colab": {
      "provenance": []
    },
    "kernelspec": {
      "name": "python3",
      "display_name": "Python 3"
    },
    "language_info": {
      "name": "python"
    }
  },
  "cells": [
    {
      "cell_type": "markdown",
      "source": [
        "1 random over sampler\n",
        "\n",
        "2 Smote\n",
        "\n",
        "3 Under Sampler\n",
        "\n",
        "4 tomek links\n",
        "\n",
        "5 weights\n",
        "\"balance\n",
        "\n",
        "6 stratify\n",
        "\n",
        "\n",
        "5 ile alakasız üsttekiler ama bak nedir diye\n",
        "\n",
        "hem stratify ile hem onsuz dene bak sonuçlara"
      ],
      "metadata": {
        "id": "GWBvllPaclQC"
      }
    },
    {
      "cell_type": "code",
      "execution_count": 53,
      "metadata": {
        "id": "x-QQicXy9vFU"
      },
      "outputs": [],
      "source": [
        "import pandas as pd\n",
        "import numpy as np\n",
        "import matplotlib.pyplot as plt\n",
        "from nltk.corpus import stopwords\n",
        "import string\n",
        "import nltk\n",
        "import matplotlib"
      ]
    },
    {
      "cell_type": "code",
      "source": [
        "df = pd.read_csv(\"spam.csv\",encoding=\"ISO-8859-1\")  "
      ],
      "metadata": {
        "id": "ERBZRGWABb0G"
      },
      "execution_count": 3,
      "outputs": []
    },
    {
      "cell_type": "code",
      "source": [
        "df.head()"
      ],
      "metadata": {
        "colab": {
          "base_uri": "https://localhost:8080/",
          "height": 206
        },
        "id": "7KQq3ZYnB0C1",
        "outputId": "1993696d-2a2a-4be6-c984-12a123d8c9c3"
      },
      "execution_count": 4,
      "outputs": [
        {
          "output_type": "execute_result",
          "data": {
            "text/plain": [
              "     v1                                                 v2 Unnamed: 2  \\\n",
              "0   ham  Go until jurong point, crazy.. Available only ...        NaN   \n",
              "1   ham                      Ok lar... Joking wif u oni...        NaN   \n",
              "2  spam  Free entry in 2 a wkly comp to win FA Cup fina...        NaN   \n",
              "3   ham  U dun say so early hor... U c already then say...        NaN   \n",
              "4   ham  Nah I don't think he goes to usf, he lives aro...        NaN   \n",
              "\n",
              "  Unnamed: 3 Unnamed: 4  \n",
              "0        NaN        NaN  \n",
              "1        NaN        NaN  \n",
              "2        NaN        NaN  \n",
              "3        NaN        NaN  \n",
              "4        NaN        NaN  "
            ],
            "text/html": [
              "\n",
              "  <div id=\"df-b22a5d16-3dc7-43d0-8bf9-8e5684f37ce9\">\n",
              "    <div class=\"colab-df-container\">\n",
              "      <div>\n",
              "<style scoped>\n",
              "    .dataframe tbody tr th:only-of-type {\n",
              "        vertical-align: middle;\n",
              "    }\n",
              "\n",
              "    .dataframe tbody tr th {\n",
              "        vertical-align: top;\n",
              "    }\n",
              "\n",
              "    .dataframe thead th {\n",
              "        text-align: right;\n",
              "    }\n",
              "</style>\n",
              "<table border=\"1\" class=\"dataframe\">\n",
              "  <thead>\n",
              "    <tr style=\"text-align: right;\">\n",
              "      <th></th>\n",
              "      <th>v1</th>\n",
              "      <th>v2</th>\n",
              "      <th>Unnamed: 2</th>\n",
              "      <th>Unnamed: 3</th>\n",
              "      <th>Unnamed: 4</th>\n",
              "    </tr>\n",
              "  </thead>\n",
              "  <tbody>\n",
              "    <tr>\n",
              "      <th>0</th>\n",
              "      <td>ham</td>\n",
              "      <td>Go until jurong point, crazy.. Available only ...</td>\n",
              "      <td>NaN</td>\n",
              "      <td>NaN</td>\n",
              "      <td>NaN</td>\n",
              "    </tr>\n",
              "    <tr>\n",
              "      <th>1</th>\n",
              "      <td>ham</td>\n",
              "      <td>Ok lar... Joking wif u oni...</td>\n",
              "      <td>NaN</td>\n",
              "      <td>NaN</td>\n",
              "      <td>NaN</td>\n",
              "    </tr>\n",
              "    <tr>\n",
              "      <th>2</th>\n",
              "      <td>spam</td>\n",
              "      <td>Free entry in 2 a wkly comp to win FA Cup fina...</td>\n",
              "      <td>NaN</td>\n",
              "      <td>NaN</td>\n",
              "      <td>NaN</td>\n",
              "    </tr>\n",
              "    <tr>\n",
              "      <th>3</th>\n",
              "      <td>ham</td>\n",
              "      <td>U dun say so early hor... U c already then say...</td>\n",
              "      <td>NaN</td>\n",
              "      <td>NaN</td>\n",
              "      <td>NaN</td>\n",
              "    </tr>\n",
              "    <tr>\n",
              "      <th>4</th>\n",
              "      <td>ham</td>\n",
              "      <td>Nah I don't think he goes to usf, he lives aro...</td>\n",
              "      <td>NaN</td>\n",
              "      <td>NaN</td>\n",
              "      <td>NaN</td>\n",
              "    </tr>\n",
              "  </tbody>\n",
              "</table>\n",
              "</div>\n",
              "      <button class=\"colab-df-convert\" onclick=\"convertToInteractive('df-b22a5d16-3dc7-43d0-8bf9-8e5684f37ce9')\"\n",
              "              title=\"Convert this dataframe to an interactive table.\"\n",
              "              style=\"display:none;\">\n",
              "        \n",
              "  <svg xmlns=\"http://www.w3.org/2000/svg\" height=\"24px\"viewBox=\"0 0 24 24\"\n",
              "       width=\"24px\">\n",
              "    <path d=\"M0 0h24v24H0V0z\" fill=\"none\"/>\n",
              "    <path d=\"M18.56 5.44l.94 2.06.94-2.06 2.06-.94-2.06-.94-.94-2.06-.94 2.06-2.06.94zm-11 1L8.5 8.5l.94-2.06 2.06-.94-2.06-.94L8.5 2.5l-.94 2.06-2.06.94zm10 10l.94 2.06.94-2.06 2.06-.94-2.06-.94-.94-2.06-.94 2.06-2.06.94z\"/><path d=\"M17.41 7.96l-1.37-1.37c-.4-.4-.92-.59-1.43-.59-.52 0-1.04.2-1.43.59L10.3 9.45l-7.72 7.72c-.78.78-.78 2.05 0 2.83L4 21.41c.39.39.9.59 1.41.59.51 0 1.02-.2 1.41-.59l7.78-7.78 2.81-2.81c.8-.78.8-2.07 0-2.86zM5.41 20L4 18.59l7.72-7.72 1.47 1.35L5.41 20z\"/>\n",
              "  </svg>\n",
              "      </button>\n",
              "      \n",
              "  <style>\n",
              "    .colab-df-container {\n",
              "      display:flex;\n",
              "      flex-wrap:wrap;\n",
              "      gap: 12px;\n",
              "    }\n",
              "\n",
              "    .colab-df-convert {\n",
              "      background-color: #E8F0FE;\n",
              "      border: none;\n",
              "      border-radius: 50%;\n",
              "      cursor: pointer;\n",
              "      display: none;\n",
              "      fill: #1967D2;\n",
              "      height: 32px;\n",
              "      padding: 0 0 0 0;\n",
              "      width: 32px;\n",
              "    }\n",
              "\n",
              "    .colab-df-convert:hover {\n",
              "      background-color: #E2EBFA;\n",
              "      box-shadow: 0px 1px 2px rgba(60, 64, 67, 0.3), 0px 1px 3px 1px rgba(60, 64, 67, 0.15);\n",
              "      fill: #174EA6;\n",
              "    }\n",
              "\n",
              "    [theme=dark] .colab-df-convert {\n",
              "      background-color: #3B4455;\n",
              "      fill: #D2E3FC;\n",
              "    }\n",
              "\n",
              "    [theme=dark] .colab-df-convert:hover {\n",
              "      background-color: #434B5C;\n",
              "      box-shadow: 0px 1px 3px 1px rgba(0, 0, 0, 0.15);\n",
              "      filter: drop-shadow(0px 1px 2px rgba(0, 0, 0, 0.3));\n",
              "      fill: #FFFFFF;\n",
              "    }\n",
              "  </style>\n",
              "\n",
              "      <script>\n",
              "        const buttonEl =\n",
              "          document.querySelector('#df-b22a5d16-3dc7-43d0-8bf9-8e5684f37ce9 button.colab-df-convert');\n",
              "        buttonEl.style.display =\n",
              "          google.colab.kernel.accessAllowed ? 'block' : 'none';\n",
              "\n",
              "        async function convertToInteractive(key) {\n",
              "          const element = document.querySelector('#df-b22a5d16-3dc7-43d0-8bf9-8e5684f37ce9');\n",
              "          const dataTable =\n",
              "            await google.colab.kernel.invokeFunction('convertToInteractive',\n",
              "                                                     [key], {});\n",
              "          if (!dataTable) return;\n",
              "\n",
              "          const docLinkHtml = 'Like what you see? Visit the ' +\n",
              "            '<a target=\"_blank\" href=https://colab.research.google.com/notebooks/data_table.ipynb>data table notebook</a>'\n",
              "            + ' to learn more about interactive tables.';\n",
              "          element.innerHTML = '';\n",
              "          dataTable['output_type'] = 'display_data';\n",
              "          await google.colab.output.renderOutput(dataTable, element);\n",
              "          const docLink = document.createElement('div');\n",
              "          docLink.innerHTML = docLinkHtml;\n",
              "          element.appendChild(docLink);\n",
              "        }\n",
              "      </script>\n",
              "    </div>\n",
              "  </div>\n",
              "  "
            ]
          },
          "metadata": {},
          "execution_count": 4
        }
      ]
    },
    {
      "cell_type": "code",
      "source": [
        "df.isnull().sum()"
      ],
      "metadata": {
        "colab": {
          "base_uri": "https://localhost:8080/"
        },
        "id": "Tey4lP1uB2R1",
        "outputId": "83b69213-151c-4b7b-f3ad-f6e0d74976cc"
      },
      "execution_count": 5,
      "outputs": [
        {
          "output_type": "execute_result",
          "data": {
            "text/plain": [
              "v1               0\n",
              "v2               0\n",
              "Unnamed: 2    5522\n",
              "Unnamed: 3    5560\n",
              "Unnamed: 4    5566\n",
              "dtype: int64"
            ]
          },
          "metadata": {},
          "execution_count": 5
        }
      ]
    },
    {
      "cell_type": "code",
      "source": [
        "df.drop(columns=[\"Unnamed: 2\",\"Unnamed: 3\",\"Unnamed: 4\"],inplace = True)\n",
        "df.columns = [\"target\",\"text\"]\n",
        "df[\"target\"] =df[\"target\"].replace([\"ham\"],0)\n",
        "df[\"target\"] =df[\"target\"].replace([\"spam\"],1)"
      ],
      "metadata": {
        "id": "hQ6XWOE9B6rg"
      },
      "execution_count": 6,
      "outputs": []
    },
    {
      "cell_type": "code",
      "source": [
        "df.duplicated().sum()"
      ],
      "metadata": {
        "colab": {
          "base_uri": "https://localhost:8080/"
        },
        "id": "ycUMGbINB-n2",
        "outputId": "3d08039f-99ce-471a-bd67-2479fee08947"
      },
      "execution_count": 7,
      "outputs": [
        {
          "output_type": "execute_result",
          "data": {
            "text/plain": [
              "403"
            ]
          },
          "metadata": {},
          "execution_count": 7
        }
      ]
    },
    {
      "cell_type": "code",
      "source": [
        "df.head()"
      ],
      "metadata": {
        "colab": {
          "base_uri": "https://localhost:8080/",
          "height": 206
        },
        "id": "7AewWIxZCAPy",
        "outputId": "7ddbbe21-d7ed-40a3-e341-c606b1ec65a4"
      },
      "execution_count": 8,
      "outputs": [
        {
          "output_type": "execute_result",
          "data": {
            "text/plain": [
              "   target                                               text\n",
              "0       0  Go until jurong point, crazy.. Available only ...\n",
              "1       0                      Ok lar... Joking wif u oni...\n",
              "2       1  Free entry in 2 a wkly comp to win FA Cup fina...\n",
              "3       0  U dun say so early hor... U c already then say...\n",
              "4       0  Nah I don't think he goes to usf, he lives aro..."
            ],
            "text/html": [
              "\n",
              "  <div id=\"df-036c976f-d3eb-427e-939a-7f83077fc32e\">\n",
              "    <div class=\"colab-df-container\">\n",
              "      <div>\n",
              "<style scoped>\n",
              "    .dataframe tbody tr th:only-of-type {\n",
              "        vertical-align: middle;\n",
              "    }\n",
              "\n",
              "    .dataframe tbody tr th {\n",
              "        vertical-align: top;\n",
              "    }\n",
              "\n",
              "    .dataframe thead th {\n",
              "        text-align: right;\n",
              "    }\n",
              "</style>\n",
              "<table border=\"1\" class=\"dataframe\">\n",
              "  <thead>\n",
              "    <tr style=\"text-align: right;\">\n",
              "      <th></th>\n",
              "      <th>target</th>\n",
              "      <th>text</th>\n",
              "    </tr>\n",
              "  </thead>\n",
              "  <tbody>\n",
              "    <tr>\n",
              "      <th>0</th>\n",
              "      <td>0</td>\n",
              "      <td>Go until jurong point, crazy.. Available only ...</td>\n",
              "    </tr>\n",
              "    <tr>\n",
              "      <th>1</th>\n",
              "      <td>0</td>\n",
              "      <td>Ok lar... Joking wif u oni...</td>\n",
              "    </tr>\n",
              "    <tr>\n",
              "      <th>2</th>\n",
              "      <td>1</td>\n",
              "      <td>Free entry in 2 a wkly comp to win FA Cup fina...</td>\n",
              "    </tr>\n",
              "    <tr>\n",
              "      <th>3</th>\n",
              "      <td>0</td>\n",
              "      <td>U dun say so early hor... U c already then say...</td>\n",
              "    </tr>\n",
              "    <tr>\n",
              "      <th>4</th>\n",
              "      <td>0</td>\n",
              "      <td>Nah I don't think he goes to usf, he lives aro...</td>\n",
              "    </tr>\n",
              "  </tbody>\n",
              "</table>\n",
              "</div>\n",
              "      <button class=\"colab-df-convert\" onclick=\"convertToInteractive('df-036c976f-d3eb-427e-939a-7f83077fc32e')\"\n",
              "              title=\"Convert this dataframe to an interactive table.\"\n",
              "              style=\"display:none;\">\n",
              "        \n",
              "  <svg xmlns=\"http://www.w3.org/2000/svg\" height=\"24px\"viewBox=\"0 0 24 24\"\n",
              "       width=\"24px\">\n",
              "    <path d=\"M0 0h24v24H0V0z\" fill=\"none\"/>\n",
              "    <path d=\"M18.56 5.44l.94 2.06.94-2.06 2.06-.94-2.06-.94-.94-2.06-.94 2.06-2.06.94zm-11 1L8.5 8.5l.94-2.06 2.06-.94-2.06-.94L8.5 2.5l-.94 2.06-2.06.94zm10 10l.94 2.06.94-2.06 2.06-.94-2.06-.94-.94-2.06-.94 2.06-2.06.94z\"/><path d=\"M17.41 7.96l-1.37-1.37c-.4-.4-.92-.59-1.43-.59-.52 0-1.04.2-1.43.59L10.3 9.45l-7.72 7.72c-.78.78-.78 2.05 0 2.83L4 21.41c.39.39.9.59 1.41.59.51 0 1.02-.2 1.41-.59l7.78-7.78 2.81-2.81c.8-.78.8-2.07 0-2.86zM5.41 20L4 18.59l7.72-7.72 1.47 1.35L5.41 20z\"/>\n",
              "  </svg>\n",
              "      </button>\n",
              "      \n",
              "  <style>\n",
              "    .colab-df-container {\n",
              "      display:flex;\n",
              "      flex-wrap:wrap;\n",
              "      gap: 12px;\n",
              "    }\n",
              "\n",
              "    .colab-df-convert {\n",
              "      background-color: #E8F0FE;\n",
              "      border: none;\n",
              "      border-radius: 50%;\n",
              "      cursor: pointer;\n",
              "      display: none;\n",
              "      fill: #1967D2;\n",
              "      height: 32px;\n",
              "      padding: 0 0 0 0;\n",
              "      width: 32px;\n",
              "    }\n",
              "\n",
              "    .colab-df-convert:hover {\n",
              "      background-color: #E2EBFA;\n",
              "      box-shadow: 0px 1px 2px rgba(60, 64, 67, 0.3), 0px 1px 3px 1px rgba(60, 64, 67, 0.15);\n",
              "      fill: #174EA6;\n",
              "    }\n",
              "\n",
              "    [theme=dark] .colab-df-convert {\n",
              "      background-color: #3B4455;\n",
              "      fill: #D2E3FC;\n",
              "    }\n",
              "\n",
              "    [theme=dark] .colab-df-convert:hover {\n",
              "      background-color: #434B5C;\n",
              "      box-shadow: 0px 1px 3px 1px rgba(0, 0, 0, 0.15);\n",
              "      filter: drop-shadow(0px 1px 2px rgba(0, 0, 0, 0.3));\n",
              "      fill: #FFFFFF;\n",
              "    }\n",
              "  </style>\n",
              "\n",
              "      <script>\n",
              "        const buttonEl =\n",
              "          document.querySelector('#df-036c976f-d3eb-427e-939a-7f83077fc32e button.colab-df-convert');\n",
              "        buttonEl.style.display =\n",
              "          google.colab.kernel.accessAllowed ? 'block' : 'none';\n",
              "\n",
              "        async function convertToInteractive(key) {\n",
              "          const element = document.querySelector('#df-036c976f-d3eb-427e-939a-7f83077fc32e');\n",
              "          const dataTable =\n",
              "            await google.colab.kernel.invokeFunction('convertToInteractive',\n",
              "                                                     [key], {});\n",
              "          if (!dataTable) return;\n",
              "\n",
              "          const docLinkHtml = 'Like what you see? Visit the ' +\n",
              "            '<a target=\"_blank\" href=https://colab.research.google.com/notebooks/data_table.ipynb>data table notebook</a>'\n",
              "            + ' to learn more about interactive tables.';\n",
              "          element.innerHTML = '';\n",
              "          dataTable['output_type'] = 'display_data';\n",
              "          await google.colab.output.renderOutput(dataTable, element);\n",
              "          const docLink = document.createElement('div');\n",
              "          docLink.innerHTML = docLinkHtml;\n",
              "          element.appendChild(docLink);\n",
              "        }\n",
              "      </script>\n",
              "    </div>\n",
              "  </div>\n",
              "  "
            ]
          },
          "metadata": {},
          "execution_count": 8
        }
      ]
    },
    {
      "cell_type": "code",
      "source": [
        "df[\"target\"].value_counts()"
      ],
      "metadata": {
        "colab": {
          "base_uri": "https://localhost:8080/"
        },
        "id": "6ySBj1kYCCE0",
        "outputId": "1440573d-fa58-4bf0-ac37-d5757535d13c"
      },
      "execution_count": 9,
      "outputs": [
        {
          "output_type": "execute_result",
          "data": {
            "text/plain": [
              "0    4825\n",
              "1     747\n",
              "Name: target, dtype: int64"
            ]
          },
          "metadata": {},
          "execution_count": 9
        }
      ]
    },
    {
      "cell_type": "code",
      "source": [
        "plt.pie(df[\"target\"].value_counts(),labels=[\"ham\",\"spam\"],autopct = \"%0.2f\");"
      ],
      "metadata": {
        "colab": {
          "base_uri": "https://localhost:8080/",
          "height": 248
        },
        "id": "y-p3SQ2bCEP5",
        "outputId": "1650b6db-7a52-4ef1-ad59-329d1896bf3f"
      },
      "execution_count": 11,
      "outputs": [
        {
          "output_type": "display_data",
          "data": {
            "text/plain": [
              "<Figure size 432x288 with 1 Axes>"
            ],
            "image/png": "[encoded data removed]"
          },
          "metadata": {}
        }
      ]
    },
    {
      "cell_type": "code",
      "source": [
        "nltk.download(\"punkt\")\n",
        "nltk.download(\"stopwords\")"
      ],
      "metadata": {
        "colab": {
          "base_uri": "https://localhost:8080/"
        },
        "id": "cBSiATpkCJdt",
        "outputId": "538f1f53-0ce7-4817-be49-95604d07db5b"
      },
      "execution_count": 13,
      "outputs": [
        {
          "output_type": "stream",
          "name": "stderr",
          "text": [
            "[nltk_data] Downloading package punkt to /root/nltk_data...\n",
            "[nltk_data]   Unzipping tokenizers/punkt.zip.\n",
            "[nltk_data] Downloading package stopwords to /root/nltk_data...\n",
            "[nltk_data]   Unzipping corpora/stopwords.zip.\n"
          ]
        },
        {
          "output_type": "execute_result",
          "data": {
            "text/plain": [
              "True"
            ]
          },
          "metadata": {},
          "execution_count": 13
        }
      ]
    },
    {
      "cell_type": "code",
      "source": [
        "from nltk.stem.porter import PorterStemmer\n",
        "ps = PorterStemmer()\n",
        "def transform_text(text):\n",
        "    text = text.lower()\n",
        "    text = nltk.word_tokenize(text)\n",
        "    \n",
        "    y = [] \n",
        "    for i in text:\n",
        "        if i.isalnum():\n",
        "            y.append(i)\n",
        "           \n",
        "    \n",
        "    text = y[:]\n",
        "  \n",
        "    y.clear()\n",
        "\n",
        "    for i in text:\n",
        "        if i not in stopwords.words(\"english\") and i not in string.punctuation:\n",
        "            y.append(i)\n",
        "            \n",
        "    text = y[:]\n",
        "    y.clear()\n",
        "    \n",
        "    for i in text:\n",
        "        y.append(ps.stem(i))\n",
        "        \n",
        "    return \" \".join(y)"
      ],
      "metadata": {
        "id": "8-p6XxhTCTC2"
      },
      "execution_count": 14,
      "outputs": []
    },
    {
      "cell_type": "code",
      "source": [
        "transform_text(df[\"text\"][0])"
      ],
      "metadata": {
        "colab": {
          "base_uri": "https://localhost:8080/",
          "height": 36
        },
        "id": "1wASNUZRCcLv",
        "outputId": "2d672427-7a8a-4dff-f9e0-ab97040748c7"
      },
      "execution_count": 15,
      "outputs": [
        {
          "output_type": "execute_result",
          "data": {
            "text/plain": [
              "'go jurong point crazi avail bugi n great world la e buffet cine got amor wat'"
            ],
            "application/vnd.google.colaboratory.intrinsic+json": {
              "type": "string"
            }
          },
          "metadata": {},
          "execution_count": 15
        }
      ]
    },
    {
      "cell_type": "code",
      "source": [
        "df[\"transformed_text\"]=df[\"text\"].apply(transform_text)"
      ],
      "metadata": {
        "id": "3mgDnCb_DkKM"
      },
      "execution_count": 21,
      "outputs": []
    },
    {
      "cell_type": "code",
      "source": [
        "from sklearn.feature_extraction.text import CountVectorizer,TfidfVectorizer\n",
        "cv = CountVectorizer()\n",
        "tfidf = TfidfVectorizer(max_features=3000)"
      ],
      "metadata": {
        "id": "_SBd7mLvDwzx"
      },
      "execution_count": 22,
      "outputs": []
    },
    {
      "cell_type": "code",
      "source": [
        "X = tfidf.fit_transform(df[\"transformed_text\"]).toarray()"
      ],
      "metadata": {
        "id": "JVPtoyg8D2wt"
      },
      "execution_count": 23,
      "outputs": []
    },
    {
      "cell_type": "code",
      "source": [
        "y= df[\"target\"].values"
      ],
      "metadata": {
        "id": "hyZsVvAxD6oE"
      },
      "execution_count": 24,
      "outputs": []
    },
    {
      "cell_type": "code",
      "source": [
        "from imblearn.over_sampling import RandomOverSampler, SMOTE\n",
        "ros = RandomOverSampler(random_state=42)\n",
        "sm = SMOTE(random_state=42)"
      ],
      "metadata": {
        "id": "p1RBd1fKDDCN"
      },
      "execution_count": 33,
      "outputs": []
    },
    {
      "cell_type": "code",
      "source": [
        "X_ros, y_ros = ros.fit_resample(X, y)"
      ],
      "metadata": {
        "id": "zhI_iWaDCfbR"
      },
      "execution_count": 30,
      "outputs": []
    },
    {
      "cell_type": "code",
      "source": [
        "X_sm , y_sm = sm.fit_resample(X, y)"
      ],
      "metadata": {
        "id": "RBfjLuF_ECqC"
      },
      "execution_count": 34,
      "outputs": []
    },
    {
      "cell_type": "code",
      "source": [
        "from imblearn.under_sampling import RandomUnderSampler, TomekLinks\n",
        "rus = RandomUnderSampler(random_state=42)\n",
        "tmklks = TomekLinks(sampling_strategy=\"auto\")"
      ],
      "metadata": {
        "id": "9iyqqwliEsoN"
      },
      "execution_count": 50,
      "outputs": []
    },
    {
      "cell_type": "code",
      "source": [
        "X_rus , y_rus = rus.fit_resample(X, y)"
      ],
      "metadata": {
        "id": "rYEFcNHDExxO"
      },
      "execution_count": 36,
      "outputs": []
    },
    {
      "cell_type": "code",
      "source": [
        "X_tmk , y_tmk = tmklks.fit_resample(X, y)"
      ],
      "metadata": {
        "id": "QfxQk-brE130"
      },
      "execution_count": 84,
      "outputs": []
    },
    {
      "cell_type": "code",
      "source": [
        "targets = [y, y_ros, y_sm, y_rus, y_tmk]\n",
        "trains = [X, X_ros, X_sm, X_rus, X_tmk]"
      ],
      "metadata": {
        "id": "xWmOX6T6PQNG"
      },
      "execution_count": 85,
      "outputs": []
    },
    {
      "cell_type": "code",
      "source": [
        "my_dict = {\n",
        "    \n",
        "    \"TomekLinks_Length\": [len(y_tmk)],\n",
        "    \"RandomUnderSampler_Length\": [len(y_rus)],\n",
        "    \"Actual_Length\": [len(y)],\n",
        "    \"RandomOverSampler_Length\": [len(y_ros)],\n",
        "    \"SMOTE_Length\": [len(y_sm)],\n",
        "\n",
        "}"
      ],
      "metadata": {
        "id": "WHbYu0lTIV1V"
      },
      "execution_count": 78,
      "outputs": []
    },
    {
      "cell_type": "code",
      "source": [
        "my_dict_df = pd.DataFrame.from_dict(data=my_dict, orient=\"index\")"
      ],
      "metadata": {
        "id": "LXP0HS_NFQNM"
      },
      "execution_count": 81,
      "outputs": []
    },
    {
      "cell_type": "code",
      "source": [
        "my_dict_df"
      ],
      "metadata": {
        "colab": {
          "base_uri": "https://localhost:8080/",
          "height": 206
        },
        "id": "hU0_NBVjJSJi",
        "outputId": "b5513bb1-eb84-43a4-b42d-cb9bcaa04b7c"
      },
      "execution_count": 82,
      "outputs": [
        {
          "output_type": "execute_result",
          "data": {
            "text/plain": [
              "                              0\n",
              "TomekLinks_Length          5569\n",
              "RandomUnderSampler_Length  1494\n",
              "Actual_Length              5572\n",
              "RandomOverSampler_Length   9650\n",
              "SMOTE_Length               9650"
            ],
            "text/html": [
              "\n",
              "  <div id=\"df-9694db9a-b042-4999-b1e7-134ca66db810\">\n",
              "    <div class=\"colab-df-container\">\n",
              "      <div>\n",
              "<style scoped>\n",
              "    .dataframe tbody tr th:only-of-type {\n",
              "        vertical-align: middle;\n",
              "    }\n",
              "\n",
              "    .dataframe tbody tr th {\n",
              "        vertical-align: top;\n",
              "    }\n",
              "\n",
              "    .dataframe thead th {\n",
              "        text-align: right;\n",
              "    }\n",
              "</style>\n",
              "<table border=\"1\" class=\"dataframe\">\n",
              "  <thead>\n",
              "    <tr style=\"text-align: right;\">\n",
              "      <th></th>\n",
              "      <th>0</th>\n",
              "    </tr>\n",
              "  </thead>\n",
              "  <tbody>\n",
              "    <tr>\n",
              "      <th>TomekLinks_Length</th>\n",
              "      <td>5569</td>\n",
              "    </tr>\n",
              "    <tr>\n",
              "      <th>RandomUnderSampler_Length</th>\n",
              "      <td>1494</td>\n",
              "    </tr>\n",
              "    <tr>\n",
              "      <th>Actual_Length</th>\n",
              "      <td>5572</td>\n",
              "    </tr>\n",
              "    <tr>\n",
              "      <th>RandomOverSampler_Length</th>\n",
              "      <td>9650</td>\n",
              "    </tr>\n",
              "    <tr>\n",
              "      <th>SMOTE_Length</th>\n",
              "      <td>9650</td>\n",
              "    </tr>\n",
              "  </tbody>\n",
              "</table>\n",
              "</div>\n",
              "      <button class=\"colab-df-convert\" onclick=\"convertToInteractive('df-9694db9a-b042-4999-b1e7-134ca66db810')\"\n",
              "              title=\"Convert this dataframe to an interactive table.\"\n",
              "              style=\"display:none;\">\n",
              "        \n",
              "  <svg xmlns=\"http://www.w3.org/2000/svg\" height=\"24px\"viewBox=\"0 0 24 24\"\n",
              "       width=\"24px\">\n",
              "    <path d=\"M0 0h24v24H0V0z\" fill=\"none\"/>\n",
              "    <path d=\"M18.56 5.44l.94 2.06.94-2.06 2.06-.94-2.06-.94-.94-2.06-.94 2.06-2.06.94zm-11 1L8.5 8.5l.94-2.06 2.06-.94-2.06-.94L8.5 2.5l-.94 2.06-2.06.94zm10 10l.94 2.06.94-2.06 2.06-.94-2.06-.94-.94-2.06-.94 2.06-2.06.94z\"/><path d=\"M17.41 7.96l-1.37-1.37c-.4-.4-.92-.59-1.43-.59-.52 0-1.04.2-1.43.59L10.3 9.45l-7.72 7.72c-.78.78-.78 2.05 0 2.83L4 21.41c.39.39.9.59 1.41.59.51 0 1.02-.2 1.41-.59l7.78-7.78 2.81-2.81c.8-.78.8-2.07 0-2.86zM5.41 20L4 18.59l7.72-7.72 1.47 1.35L5.41 20z\"/>\n",
              "  </svg>\n",
              "      </button>\n",
              "      \n",
              "  <style>\n",
              "    .colab-df-container {\n",
              "      display:flex;\n",
              "      flex-wrap:wrap;\n",
              "      gap: 12px;\n",
              "    }\n",
              "\n",
              "    .colab-df-convert {\n",
              "      background-color: #E8F0FE;\n",
              "      border: none;\n",
              "      border-radius: 50%;\n",
              "      cursor: pointer;\n",
              "      display: none;\n",
              "      fill: #1967D2;\n",
              "      height: 32px;\n",
              "      padding: 0 0 0 0;\n",
              "      width: 32px;\n",
              "    }\n",
              "\n",
              "    .colab-df-convert:hover {\n",
              "      background-color: #E2EBFA;\n",
              "      box-shadow: 0px 1px 2px rgba(60, 64, 67, 0.3), 0px 1px 3px 1px rgba(60, 64, 67, 0.15);\n",
              "      fill: #174EA6;\n",
              "    }\n",
              "\n",
              "    [theme=dark] .colab-df-convert {\n",
              "      background-color: #3B4455;\n",
              "      fill: #D2E3FC;\n",
              "    }\n",
              "\n",
              "    [theme=dark] .colab-df-convert:hover {\n",
              "      background-color: #434B5C;\n",
              "      box-shadow: 0px 1px 3px 1px rgba(0, 0, 0, 0.15);\n",
              "      filter: drop-shadow(0px 1px 2px rgba(0, 0, 0, 0.3));\n",
              "      fill: #FFFFFF;\n",
              "    }\n",
              "  </style>\n",
              "\n",
              "      <script>\n",
              "        const buttonEl =\n",
              "          document.querySelector('#df-9694db9a-b042-4999-b1e7-134ca66db810 button.colab-df-convert');\n",
              "        buttonEl.style.display =\n",
              "          google.colab.kernel.accessAllowed ? 'block' : 'none';\n",
              "\n",
              "        async function convertToInteractive(key) {\n",
              "          const element = document.querySelector('#df-9694db9a-b042-4999-b1e7-134ca66db810');\n",
              "          const dataTable =\n",
              "            await google.colab.kernel.invokeFunction('convertToInteractive',\n",
              "                                                     [key], {});\n",
              "          if (!dataTable) return;\n",
              "\n",
              "          const docLinkHtml = 'Like what you see? Visit the ' +\n",
              "            '<a target=\"_blank\" href=https://colab.research.google.com/notebooks/data_table.ipynb>data table notebook</a>'\n",
              "            + ' to learn more about interactive tables.';\n",
              "          element.innerHTML = '';\n",
              "          dataTable['output_type'] = 'display_data';\n",
              "          await google.colab.output.renderOutput(dataTable, element);\n",
              "          const docLink = document.createElement('div');\n",
              "          docLink.innerHTML = docLinkHtml;\n",
              "          element.appendChild(docLink);\n",
              "        }\n",
              "      </script>\n",
              "    </div>\n",
              "  </div>\n",
              "  "
            ]
          },
          "metadata": {},
          "execution_count": 82
        }
      ]
    },
    {
      "cell_type": "markdown",
      "source": [
        "    Weights (balance) nedir"
      ],
      "metadata": {
        "id": "e_mXQo1gLnRO"
      }
    },
    {
      "cell_type": "markdown",
      "source": [
        "Çoğu ML algoritaması sınıfların çarpık dağılması ile kullanışlı değildir. Ancak, sınıfların çarpık dağılımını hesaba katmak için mevcut eğitim algoritmasını değiştirebiliriz. Bu, hem çoğunluk hem de azınlık sınıflarına farklı ağırlıklar vererek başarılabilir. Ağırlıklardaki fark, eğitim aşamasında sınıfların sınıflandırılmasını etkileyecektir. Tüm amaç, azınlık sınıfı tarafından yapılan yanlış sınıflandırmayı, daha yüksek bir sınıf ağırlığı belirleyerek ve aynı zamanda çoğunluk sınıfı için ağırlığı azaltarak cezalandırmaktır."
      ],
      "metadata": {
        "id": "DGR1HDdqLuh8"
      }
    },
    {
      "cell_type": "code",
      "source": [
        "from sklearn.linear_model import LogisticRegression\n",
        "from sklearn.svm import SVC\n",
        "from sklearn.tree import DecisionTreeClassifier\n",
        "from sklearn.neighbors import KNeighborsClassifier\n",
        "from sklearn.ensemble import RandomForestClassifier\n",
        "from sklearn.ensemble import AdaBoostClassifier\n",
        "from sklearn.ensemble import BaggingClassifier\n",
        "from sklearn.ensemble import ExtraTreesClassifier\n",
        "from sklearn.ensemble import GradientBoostingClassifier\n",
        "from xgboost import XGBClassifier"
      ],
      "metadata": {
        "id": "ENOD0MTxP4Yv"
      },
      "execution_count": 86,
      "outputs": []
    },
    {
      "cell_type": "code",
      "source": [
        "svc = SVC()\n",
        "knn = KNeighborsClassifier()\n",
        "dt = DecisionTreeClassifier()\n",
        "lr = LogisticRegression()\n",
        "rf = RandomForestClassifier()\n",
        "adb = AdaBoostClassifier()\n",
        "bc = BaggingClassifier()\n",
        "etc = ExtraTreesClassifier()\n",
        "gb = GradientBoostingClassifier()\n",
        "xgb = XGBClassifier()"
      ],
      "metadata": {
        "id": "eytTf4lRP8mc"
      },
      "execution_count": 87,
      "outputs": []
    },
    {
      "cell_type": "code",
      "source": [
        "clfs = {\n",
        "    \"KNN\":knn,\n",
        "    \"DT\":dt,\n",
        "    \"LR\":lr,\n",
        "    \"RF\":rf,\n",
        "    \"AB\":adb,\n",
        "    \"BG\":bc,\n",
        "    \"EXT\":etc,\n",
        "    \"GB\":gb,\n",
        "    \"XGB\":xgb\n",
        "}"
      ],
      "metadata": {
        "id": "fjZzCFgyQS-1"
      },
      "execution_count": 88,
      "outputs": []
    },
    {
      "cell_type": "code",
      "source": [
        "from sklearn.model_selection import train_test_split\n",
        "from sklearn.metrics import accuracy_score\n",
        "my_list=list()\n",
        "\n",
        "for i, j in zip(trains,targets):\n",
        "  x_train,x_test,y_train,y_test = train_test_split(i,j,test_size=0.2,random_state=42)\n",
        "  my_dict2 = dict()\n",
        "  for key,values in clfs.items():\n",
        "    values.fit(x_train,y_train)\n",
        "    y_pred = values.predict(x_test)\n",
        "    my_dict2[key] = accuracy_score(y_test,y_pred)\n",
        "  my_list.append(my_dict2)\n"
      ],
      "metadata": {
        "id": "eaHXV7z_KsgE"
      },
      "execution_count": 95,
      "outputs": []
    },
    {
      "cell_type": "code",
      "source": [
        "my_list2=list()\n",
        "\n",
        "for i, j in zip(trains,targets):\n",
        "  x_train,x_test,y_train,y_test = train_test_split(i,j,test_size=0.2,random_state=42,stratify=j)\n",
        "  my_dict2 = dict()\n",
        "  for key,values in clfs.items():\n",
        "    values.fit(x_train,y_train)\n",
        "    y_pred = values.predict(x_test)\n",
        "    my_dict2[key] = accuracy_score(y_test,y_pred)\n",
        "  my_list2.append(my_dict2)"
      ],
      "metadata": {
        "id": "h6GANRHxT3lX"
      },
      "execution_count": 96,
      "outputs": []
    },
    {
      "cell_type": "code",
      "source": [
        "my_samp_list = [\n",
        "    \n",
        "    \"TomekLinks_Length\",\n",
        "    \"RandomUnderSampler_Length\",\n",
        "    \"Actual_Length\",\n",
        "    \"RandomOverSampler_Length\",\n",
        "    \"SMOTE_Length\"\n",
        "]"
      ],
      "metadata": {
        "id": "lvltv-p2ZGpT"
      },
      "execution_count": 105,
      "outputs": []
    },
    {
      "cell_type": "code",
      "source": [
        "# Without Stratify accuracy scores"
      ],
      "metadata": {
        "id": "rBw2OE89cHcT"
      },
      "execution_count": null,
      "outputs": []
    },
    {
      "cell_type": "code",
      "source": [
        "my_list_dff = pd.DataFrame(data=my_list,columns=clfs.keys())\n",
        "my_list_dff[\"Inbalance_methods\"] = my_samp_list\n",
        "my_list_dff.set_index(\"Inbalance_methods\",inplace=True)\n",
        "my_list_dff"
      ],
      "metadata": {
        "colab": {
          "base_uri": "https://localhost:8080/",
          "height": 237
        },
        "id": "lXVLAk59XokH",
        "outputId": "cb5b4905-9b68-4daf-dad3-a66376e05066"
      },
      "execution_count": 106,
      "outputs": [
        {
          "output_type": "execute_result",
          "data": {
            "text/plain": [
              "                                KNN        DT        LR        RF        AB  \\\n",
              "Inbalance_methods                                                             \n",
              "TomekLinks_Length          0.920179  0.963229  0.946188  0.978475  0.966816   \n",
              "RandomUnderSampler_Length  0.979793  0.973575  0.983420  0.995855  0.951295   \n",
              "Actual_Length              0.662176  0.960622  0.951813  0.990674  0.965803   \n",
              "RandomOverSampler_Length   0.672241  0.929766  0.933110  0.943144  0.903010   \n",
              "SMOTE_Length               0.915619  0.961400  0.958707  0.975763  0.969479   \n",
              "\n",
              "                                 BG       EXT        GB       XGB  \n",
              "Inbalance_methods                                                  \n",
              "TomekLinks_Length          0.965022  0.978475  0.966816  0.956054  \n",
              "RandomUnderSampler_Length  0.972539  0.998964  0.943005  0.935233  \n",
              "Actual_Length              0.965285  0.993264  0.953886  0.956995  \n",
              "RandomOverSampler_Length   0.923077  0.959866  0.923077  0.906355  \n",
              "SMOTE_Length               0.965889  0.978456  0.964991  0.959605  "
            ],
            "text/html": [
              "\n",
              "  <div id=\"df-9d804824-f691-4280-8ba6-e7ba6bfde466\">\n",
              "    <div class=\"colab-df-container\">\n",
              "      <div>\n",
              "<style scoped>\n",
              "    .dataframe tbody tr th:only-of-type {\n",
              "        vertical-align: middle;\n",
              "    }\n",
              "\n",
              "    .dataframe tbody tr th {\n",
              "        vertical-align: top;\n",
              "    }\n",
              "\n",
              "    .dataframe thead th {\n",
              "        text-align: right;\n",
              "    }\n",
              "</style>\n",
              "<table border=\"1\" class=\"dataframe\">\n",
              "  <thead>\n",
              "    <tr style=\"text-align: right;\">\n",
              "      <th></th>\n",
              "      <th>KNN</th>\n",
              "      <th>DT</th>\n",
              "      <th>LR</th>\n",
              "      <th>RF</th>\n",
              "      <th>AB</th>\n",
              "      <th>BG</th>\n",
              "      <th>EXT</th>\n",
              "      <th>GB</th>\n",
              "      <th>XGB</th>\n",
              "    </tr>\n",
              "    <tr>\n",
              "      <th>Inbalance_methods</th>\n",
              "      <th></th>\n",
              "      <th></th>\n",
              "      <th></th>\n",
              "      <th></th>\n",
              "      <th></th>\n",
              "      <th></th>\n",
              "      <th></th>\n",
              "      <th></th>\n",
              "      <th></th>\n",
              "    </tr>\n",
              "  </thead>\n",
              "  <tbody>\n",
              "    <tr>\n",
              "      <th>TomekLinks_Length</th>\n",
              "      <td>0.920179</td>\n",
              "      <td>0.963229</td>\n",
              "      <td>0.946188</td>\n",
              "      <td>0.978475</td>\n",
              "      <td>0.966816</td>\n",
              "      <td>0.965022</td>\n",
              "      <td>0.978475</td>\n",
              "      <td>0.966816</td>\n",
              "      <td>0.956054</td>\n",
              "    </tr>\n",
              "    <tr>\n",
              "      <th>RandomUnderSampler_Length</th>\n",
              "      <td>0.979793</td>\n",
              "      <td>0.973575</td>\n",
              "      <td>0.983420</td>\n",
              "      <td>0.995855</td>\n",
              "      <td>0.951295</td>\n",
              "      <td>0.972539</td>\n",
              "      <td>0.998964</td>\n",
              "      <td>0.943005</td>\n",
              "      <td>0.935233</td>\n",
              "    </tr>\n",
              "    <tr>\n",
              "      <th>Actual_Length</th>\n",
              "      <td>0.662176</td>\n",
              "      <td>0.960622</td>\n",
              "      <td>0.951813</td>\n",
              "      <td>0.990674</td>\n",
              "      <td>0.965803</td>\n",
              "      <td>0.965285</td>\n",
              "      <td>0.993264</td>\n",
              "      <td>0.953886</td>\n",
              "      <td>0.956995</td>\n",
              "    </tr>\n",
              "    <tr>\n",
              "      <th>RandomOverSampler_Length</th>\n",
              "      <td>0.672241</td>\n",
              "      <td>0.929766</td>\n",
              "      <td>0.933110</td>\n",
              "      <td>0.943144</td>\n",
              "      <td>0.903010</td>\n",
              "      <td>0.923077</td>\n",
              "      <td>0.959866</td>\n",
              "      <td>0.923077</td>\n",
              "      <td>0.906355</td>\n",
              "    </tr>\n",
              "    <tr>\n",
              "      <th>SMOTE_Length</th>\n",
              "      <td>0.915619</td>\n",
              "      <td>0.961400</td>\n",
              "      <td>0.958707</td>\n",
              "      <td>0.975763</td>\n",
              "      <td>0.969479</td>\n",
              "      <td>0.965889</td>\n",
              "      <td>0.978456</td>\n",
              "      <td>0.964991</td>\n",
              "      <td>0.959605</td>\n",
              "    </tr>\n",
              "  </tbody>\n",
              "</table>\n",
              "</div>\n",
              "      <button class=\"colab-df-convert\" onclick=\"convertToInteractive('df-9d804824-f691-4280-8ba6-e7ba6bfde466')\"\n",
              "              title=\"Convert this dataframe to an interactive table.\"\n",
              "              style=\"display:none;\">\n",
              "        \n",
              "  <svg xmlns=\"http://www.w3.org/2000/svg\" height=\"24px\"viewBox=\"0 0 24 24\"\n",
              "       width=\"24px\">\n",
              "    <path d=\"M0 0h24v24H0V0z\" fill=\"none\"/>\n",
              "    <path d=\"M18.56 5.44l.94 2.06.94-2.06 2.06-.94-2.06-.94-.94-2.06-.94 2.06-2.06.94zm-11 1L8.5 8.5l.94-2.06 2.06-.94-2.06-.94L8.5 2.5l-.94 2.06-2.06.94zm10 10l.94 2.06.94-2.06 2.06-.94-2.06-.94-.94-2.06-.94 2.06-2.06.94z\"/><path d=\"M17.41 7.96l-1.37-1.37c-.4-.4-.92-.59-1.43-.59-.52 0-1.04.2-1.43.59L10.3 9.45l-7.72 7.72c-.78.78-.78 2.05 0 2.83L4 21.41c.39.39.9.59 1.41.59.51 0 1.02-.2 1.41-.59l7.78-7.78 2.81-2.81c.8-.78.8-2.07 0-2.86zM5.41 20L4 18.59l7.72-7.72 1.47 1.35L5.41 20z\"/>\n",
              "  </svg>\n",
              "      </button>\n",
              "      \n",
              "  <style>\n",
              "    .colab-df-container {\n",
              "      display:flex;\n",
              "      flex-wrap:wrap;\n",
              "      gap: 12px;\n",
              "    }\n",
              "\n",
              "    .colab-df-convert {\n",
              "      background-color: #E8F0FE;\n",
              "      border: none;\n",
              "      border-radius: 50%;\n",
              "      cursor: pointer;\n",
              "      display: none;\n",
              "      fill: #1967D2;\n",
              "      height: 32px;\n",
              "      padding: 0 0 0 0;\n",
              "      width: 32px;\n",
              "    }\n",
              "\n",
              "    .colab-df-convert:hover {\n",
              "      background-color: #E2EBFA;\n",
              "      box-shadow: 0px 1px 2px rgba(60, 64, 67, 0.3), 0px 1px 3px 1px rgba(60, 64, 67, 0.15);\n",
              "      fill: #174EA6;\n",
              "    }\n",
              "\n",
              "    [theme=dark] .colab-df-convert {\n",
              "      background-color: #3B4455;\n",
              "      fill: #D2E3FC;\n",
              "    }\n",
              "\n",
              "    [theme=dark] .colab-df-convert:hover {\n",
              "      background-color: #434B5C;\n",
              "      box-shadow: 0px 1px 3px 1px rgba(0, 0, 0, 0.15);\n",
              "      filter: drop-shadow(0px 1px 2px rgba(0, 0, 0, 0.3));\n",
              "      fill: #FFFFFF;\n",
              "    }\n",
              "  </style>\n",
              "\n",
              "      <script>\n",
              "        const buttonEl =\n",
              "          document.querySelector('#df-9d804824-f691-4280-8ba6-e7ba6bfde466 button.colab-df-convert');\n",
              "        buttonEl.style.display =\n",
              "          google.colab.kernel.accessAllowed ? 'block' : 'none';\n",
              "\n",
              "        async function convertToInteractive(key) {\n",
              "          const element = document.querySelector('#df-9d804824-f691-4280-8ba6-e7ba6bfde466');\n",
              "          const dataTable =\n",
              "            await google.colab.kernel.invokeFunction('convertToInteractive',\n",
              "                                                     [key], {});\n",
              "          if (!dataTable) return;\n",
              "\n",
              "          const docLinkHtml = 'Like what you see? Visit the ' +\n",
              "            '<a target=\"_blank\" href=https://colab.research.google.com/notebooks/data_table.ipynb>data table notebook</a>'\n",
              "            + ' to learn more about interactive tables.';\n",
              "          element.innerHTML = '';\n",
              "          dataTable['output_type'] = 'display_data';\n",
              "          await google.colab.output.renderOutput(dataTable, element);\n",
              "          const docLink = document.createElement('div');\n",
              "          docLink.innerHTML = docLinkHtml;\n",
              "          element.appendChild(docLink);\n",
              "        }\n",
              "      </script>\n",
              "    </div>\n",
              "  </div>\n",
              "  "
            ]
          },
          "metadata": {},
          "execution_count": 106
        }
      ]
    },
    {
      "cell_type": "code",
      "source": [
        "# With stratify accuracy scores"
      ],
      "metadata": {
        "id": "UhQoY6x6cM6v"
      },
      "execution_count": null,
      "outputs": []
    },
    {
      "cell_type": "code",
      "source": [
        "my_list_dff2 = pd.DataFrame(data=my_list2,columns=clfs.keys())\n",
        "my_list_dff2[\"Inbalance_methods\"] = my_samp_list\n",
        "my_list_dff2.set_index(\"Inbalance_methods\",inplace=True)\n",
        "my_list_dff2"
      ],
      "metadata": {
        "colab": {
          "base_uri": "https://localhost:8080/",
          "height": 237
        },
        "id": "imoyEHtSXqEb",
        "outputId": "9b026f22-b371-4493-8f6d-103ce2c825c4"
      },
      "execution_count": 107,
      "outputs": [
        {
          "output_type": "execute_result",
          "data": {
            "text/plain": [
              "                                KNN        DT        LR        RF        AB  \\\n",
              "Inbalance_methods                                                             \n",
              "TomekLinks_Length          0.917489  0.948879  0.961435  0.977578  0.962332   \n",
              "RandomUnderSampler_Length  0.990674  0.980311  0.988601  0.997409  0.949223   \n",
              "Actual_Length              0.670466  0.969430  0.951295  0.990674  0.956995   \n",
              "RandomOverSampler_Length   0.765886  0.909699  0.929766  0.946488  0.896321   \n",
              "SMOTE_Length               0.920108  0.948833  0.961400  0.977558  0.965889   \n",
              "\n",
              "                                 BG       EXT        GB       XGB  \n",
              "Inbalance_methods                                                  \n",
              "TomekLinks_Length          0.965919  0.979372  0.963229  0.955157  \n",
              "RandomUnderSampler_Length  0.979793  0.997927  0.946632  0.925907  \n",
              "Actual_Length              0.973057  0.991192  0.953368  0.956995  \n",
              "RandomOverSampler_Length   0.936455  0.956522  0.906355  0.909699  \n",
              "SMOTE_Length               0.958707  0.976661  0.966786  0.961400  "
            ],
            "text/html": [
              "\n",
              "  <div id=\"df-994fb63c-a136-44d8-8613-b4cfcbda6264\">\n",
              "    <div class=\"colab-df-container\">\n",
              "      <div>\n",
              "<style scoped>\n",
              "    .dataframe tbody tr th:only-of-type {\n",
              "        vertical-align: middle;\n",
              "    }\n",
              "\n",
              "    .dataframe tbody tr th {\n",
              "        vertical-align: top;\n",
              "    }\n",
              "\n",
              "    .dataframe thead th {\n",
              "        text-align: right;\n",
              "    }\n",
              "</style>\n",
              "<table border=\"1\" class=\"dataframe\">\n",
              "  <thead>\n",
              "    <tr style=\"text-align: right;\">\n",
              "      <th></th>\n",
              "      <th>KNN</th>\n",
              "      <th>DT</th>\n",
              "      <th>LR</th>\n",
              "      <th>RF</th>\n",
              "      <th>AB</th>\n",
              "      <th>BG</th>\n",
              "      <th>EXT</th>\n",
              "      <th>GB</th>\n",
              "      <th>XGB</th>\n",
              "    </tr>\n",
              "    <tr>\n",
              "      <th>Inbalance_methods</th>\n",
              "      <th></th>\n",
              "      <th></th>\n",
              "      <th></th>\n",
              "      <th></th>\n",
              "      <th></th>\n",
              "      <th></th>\n",
              "      <th></th>\n",
              "      <th></th>\n",
              "      <th></th>\n",
              "    </tr>\n",
              "  </thead>\n",
              "  <tbody>\n",
              "    <tr>\n",
              "      <th>TomekLinks_Length</th>\n",
              "      <td>0.917489</td>\n",
              "      <td>0.948879</td>\n",
              "      <td>0.961435</td>\n",
              "      <td>0.977578</td>\n",
              "      <td>0.962332</td>\n",
              "      <td>0.965919</td>\n",
              "      <td>0.979372</td>\n",
              "      <td>0.963229</td>\n",
              "      <td>0.955157</td>\n",
              "    </tr>\n",
              "    <tr>\n",
              "      <th>RandomUnderSampler_Length</th>\n",
              "      <td>0.990674</td>\n",
              "      <td>0.980311</td>\n",
              "      <td>0.988601</td>\n",
              "      <td>0.997409</td>\n",
              "      <td>0.949223</td>\n",
              "      <td>0.979793</td>\n",
              "      <td>0.997927</td>\n",
              "      <td>0.946632</td>\n",
              "      <td>0.925907</td>\n",
              "    </tr>\n",
              "    <tr>\n",
              "      <th>Actual_Length</th>\n",
              "      <td>0.670466</td>\n",
              "      <td>0.969430</td>\n",
              "      <td>0.951295</td>\n",
              "      <td>0.990674</td>\n",
              "      <td>0.956995</td>\n",
              "      <td>0.973057</td>\n",
              "      <td>0.991192</td>\n",
              "      <td>0.953368</td>\n",
              "      <td>0.956995</td>\n",
              "    </tr>\n",
              "    <tr>\n",
              "      <th>RandomOverSampler_Length</th>\n",
              "      <td>0.765886</td>\n",
              "      <td>0.909699</td>\n",
              "      <td>0.929766</td>\n",
              "      <td>0.946488</td>\n",
              "      <td>0.896321</td>\n",
              "      <td>0.936455</td>\n",
              "      <td>0.956522</td>\n",
              "      <td>0.906355</td>\n",
              "      <td>0.909699</td>\n",
              "    </tr>\n",
              "    <tr>\n",
              "      <th>SMOTE_Length</th>\n",
              "      <td>0.920108</td>\n",
              "      <td>0.948833</td>\n",
              "      <td>0.961400</td>\n",
              "      <td>0.977558</td>\n",
              "      <td>0.965889</td>\n",
              "      <td>0.958707</td>\n",
              "      <td>0.976661</td>\n",
              "      <td>0.966786</td>\n",
              "      <td>0.961400</td>\n",
              "    </tr>\n",
              "  </tbody>\n",
              "</table>\n",
              "</div>\n",
              "      <button class=\"colab-df-convert\" onclick=\"convertToInteractive('df-994fb63c-a136-44d8-8613-b4cfcbda6264')\"\n",
              "              title=\"Convert this dataframe to an interactive table.\"\n",
              "              style=\"display:none;\">\n",
              "        \n",
              "  <svg xmlns=\"http://www.w3.org/2000/svg\" height=\"24px\"viewBox=\"0 0 24 24\"\n",
              "       width=\"24px\">\n",
              "    <path d=\"M0 0h24v24H0V0z\" fill=\"none\"/>\n",
              "    <path d=\"M18.56 5.44l.94 2.06.94-2.06 2.06-.94-2.06-.94-.94-2.06-.94 2.06-2.06.94zm-11 1L8.5 8.5l.94-2.06 2.06-.94-2.06-.94L8.5 2.5l-.94 2.06-2.06.94zm10 10l.94 2.06.94-2.06 2.06-.94-2.06-.94-.94-2.06-.94 2.06-2.06.94z\"/><path d=\"M17.41 7.96l-1.37-1.37c-.4-.4-.92-.59-1.43-.59-.52 0-1.04.2-1.43.59L10.3 9.45l-7.72 7.72c-.78.78-.78 2.05 0 2.83L4 21.41c.39.39.9.59 1.41.59.51 0 1.02-.2 1.41-.59l7.78-7.78 2.81-2.81c.8-.78.8-2.07 0-2.86zM5.41 20L4 18.59l7.72-7.72 1.47 1.35L5.41 20z\"/>\n",
              "  </svg>\n",
              "      </button>\n",
              "      \n",
              "  <style>\n",
              "    .colab-df-container {\n",
              "      display:flex;\n",
              "      flex-wrap:wrap;\n",
              "      gap: 12px;\n",
              "    }\n",
              "\n",
              "    .colab-df-convert {\n",
              "      background-color: #E8F0FE;\n",
              "      border: none;\n",
              "      border-radius: 50%;\n",
              "      cursor: pointer;\n",
              "      display: none;\n",
              "      fill: #1967D2;\n",
              "      height: 32px;\n",
              "      padding: 0 0 0 0;\n",
              "      width: 32px;\n",
              "    }\n",
              "\n",
              "    .colab-df-convert:hover {\n",
              "      background-color: #E2EBFA;\n",
              "      box-shadow: 0px 1px 2px rgba(60, 64, 67, 0.3), 0px 1px 3px 1px rgba(60, 64, 67, 0.15);\n",
              "      fill: #174EA6;\n",
              "    }\n",
              "\n",
              "    [theme=dark] .colab-df-convert {\n",
              "      background-color: #3B4455;\n",
              "      fill: #D2E3FC;\n",
              "    }\n",
              "\n",
              "    [theme=dark] .colab-df-convert:hover {\n",
              "      background-color: #434B5C;\n",
              "      box-shadow: 0px 1px 3px 1px rgba(0, 0, 0, 0.15);\n",
              "      filter: drop-shadow(0px 1px 2px rgba(0, 0, 0, 0.3));\n",
              "      fill: #FFFFFF;\n",
              "    }\n",
              "  </style>\n",
              "\n",
              "      <script>\n",
              "        const buttonEl =\n",
              "          document.querySelector('#df-994fb63c-a136-44d8-8613-b4cfcbda6264 button.colab-df-convert');\n",
              "        buttonEl.style.display =\n",
              "          google.colab.kernel.accessAllowed ? 'block' : 'none';\n",
              "\n",
              "        async function convertToInteractive(key) {\n",
              "          const element = document.querySelector('#df-994fb63c-a136-44d8-8613-b4cfcbda6264');\n",
              "          const dataTable =\n",
              "            await google.colab.kernel.invokeFunction('convertToInteractive',\n",
              "                                                     [key], {});\n",
              "          if (!dataTable) return;\n",
              "\n",
              "          const docLinkHtml = 'Like what you see? Visit the ' +\n",
              "            '<a target=\"_blank\" href=https://colab.research.google.com/notebooks/data_table.ipynb>data table notebook</a>'\n",
              "            + ' to learn more about interactive tables.';\n",
              "          element.innerHTML = '';\n",
              "          dataTable['output_type'] = 'display_data';\n",
              "          await google.colab.output.renderOutput(dataTable, element);\n",
              "          const docLink = document.createElement('div');\n",
              "          docLink.innerHTML = docLinkHtml;\n",
              "          element.appendChild(docLink);\n",
              "        }\n",
              "      </script>\n",
              "    </div>\n",
              "  </div>\n",
              "  "
            ]
          },
          "metadata": {},
          "execution_count": 107
        }
      ]
    },
    {
      "cell_type": "code",
      "source": [
        "#Differences"
      ],
      "metadata": {
        "id": "PNtP2wLCcQOP"
      },
      "execution_count": null,
      "outputs": []
    },
    {
      "cell_type": "code",
      "source": [
        "diff_df = my_list_dff2 - my_list_dff\n",
        "diff_df"
      ],
      "metadata": {
        "colab": {
          "base_uri": "https://localhost:8080/",
          "height": 237
        },
        "id": "r3WZoT9AXvx1",
        "outputId": "c4b3a52b-bcdd-4327-ae42-e8f1155dddc9"
      },
      "execution_count": 109,
      "outputs": [
        {
          "output_type": "execute_result",
          "data": {
            "text/plain": [
              "                                KNN        DT        LR        RF        AB  \\\n",
              "Inbalance_methods                                                             \n",
              "TomekLinks_Length         -0.002691 -0.014350  0.015247 -0.000897 -0.004484   \n",
              "RandomUnderSampler_Length  0.010881  0.006736  0.005181  0.001554 -0.002073   \n",
              "Actual_Length              0.008290  0.008808 -0.000518  0.000000 -0.008808   \n",
              "RandomOverSampler_Length   0.093645 -0.020067 -0.003344  0.003344 -0.006689   \n",
              "SMOTE_Length               0.004488 -0.012567  0.002693  0.001795 -0.003591   \n",
              "\n",
              "                                 BG       EXT        GB       XGB  \n",
              "Inbalance_methods                                                  \n",
              "TomekLinks_Length          0.000897  0.000897 -0.003587 -0.000897  \n",
              "RandomUnderSampler_Length  0.007254 -0.001036  0.003627 -0.009326  \n",
              "Actual_Length              0.007772 -0.002073 -0.000518  0.000000  \n",
              "RandomOverSampler_Length   0.013378 -0.003344 -0.016722  0.003344  \n",
              "SMOTE_Length              -0.007181 -0.001795  0.001795  0.001795  "
            ],
            "text/html": [
              "\n",
              "  <div id=\"df-cc44931b-8815-4d88-b3e4-8f82080ba77c\">\n",
              "    <div class=\"colab-df-container\">\n",
              "      <div>\n",
              "<style scoped>\n",
              "    .dataframe tbody tr th:only-of-type {\n",
              "        vertical-align: middle;\n",
              "    }\n",
              "\n",
              "    .dataframe tbody tr th {\n",
              "        vertical-align: top;\n",
              "    }\n",
              "\n",
              "    .dataframe thead th {\n",
              "        text-align: right;\n",
              "    }\n",
              "</style>\n",
              "<table border=\"1\" class=\"dataframe\">\n",
              "  <thead>\n",
              "    <tr style=\"text-align: right;\">\n",
              "      <th></th>\n",
              "      <th>KNN</th>\n",
              "      <th>DT</th>\n",
              "      <th>LR</th>\n",
              "      <th>RF</th>\n",
              "      <th>AB</th>\n",
              "      <th>BG</th>\n",
              "      <th>EXT</th>\n",
              "      <th>GB</th>\n",
              "      <th>XGB</th>\n",
              "    </tr>\n",
              "    <tr>\n",
              "      <th>Inbalance_methods</th>\n",
              "      <th></th>\n",
              "      <th></th>\n",
              "      <th></th>\n",
              "      <th></th>\n",
              "      <th></th>\n",
              "      <th></th>\n",
              "      <th></th>\n",
              "      <th></th>\n",
              "      <th></th>\n",
              "    </tr>\n",
              "  </thead>\n",
              "  <tbody>\n",
              "    <tr>\n",
              "      <th>TomekLinks_Length</th>\n",
              "      <td>-0.002691</td>\n",
              "      <td>-0.014350</td>\n",
              "      <td>0.015247</td>\n",
              "      <td>-0.000897</td>\n",
              "      <td>-0.004484</td>\n",
              "      <td>0.000897</td>\n",
              "      <td>0.000897</td>\n",
              "      <td>-0.003587</td>\n",
              "      <td>-0.000897</td>\n",
              "    </tr>\n",
              "    <tr>\n",
              "      <th>RandomUnderSampler_Length</th>\n",
              "      <td>0.010881</td>\n",
              "      <td>0.006736</td>\n",
              "      <td>0.005181</td>\n",
              "      <td>0.001554</td>\n",
              "      <td>-0.002073</td>\n",
              "      <td>0.007254</td>\n",
              "      <td>-0.001036</td>\n",
              "      <td>0.003627</td>\n",
              "      <td>-0.009326</td>\n",
              "    </tr>\n",
              "    <tr>\n",
              "      <th>Actual_Length</th>\n",
              "      <td>0.008290</td>\n",
              "      <td>0.008808</td>\n",
              "      <td>-0.000518</td>\n",
              "      <td>0.000000</td>\n",
              "      <td>-0.008808</td>\n",
              "      <td>0.007772</td>\n",
              "      <td>-0.002073</td>\n",
              "      <td>-0.000518</td>\n",
              "      <td>0.000000</td>\n",
              "    </tr>\n",
              "    <tr>\n",
              "      <th>RandomOverSampler_Length</th>\n",
              "      <td>0.093645</td>\n",
              "      <td>-0.020067</td>\n",
              "      <td>-0.003344</td>\n",
              "      <td>0.003344</td>\n",
              "      <td>-0.006689</td>\n",
              "      <td>0.013378</td>\n",
              "      <td>-0.003344</td>\n",
              "      <td>-0.016722</td>\n",
              "      <td>0.003344</td>\n",
              "    </tr>\n",
              "    <tr>\n",
              "      <th>SMOTE_Length</th>\n",
              "      <td>0.004488</td>\n",
              "      <td>-0.012567</td>\n",
              "      <td>0.002693</td>\n",
              "      <td>0.001795</td>\n",
              "      <td>-0.003591</td>\n",
              "      <td>-0.007181</td>\n",
              "      <td>-0.001795</td>\n",
              "      <td>0.001795</td>\n",
              "      <td>0.001795</td>\n",
              "    </tr>\n",
              "  </tbody>\n",
              "</table>\n",
              "</div>\n",
              "      <button class=\"colab-df-convert\" onclick=\"convertToInteractive('df-cc44931b-8815-4d88-b3e4-8f82080ba77c')\"\n",
              "              title=\"Convert this dataframe to an interactive table.\"\n",
              "              style=\"display:none;\">\n",
              "        \n",
              "  <svg xmlns=\"http://www.w3.org/2000/svg\" height=\"24px\"viewBox=\"0 0 24 24\"\n",
              "       width=\"24px\">\n",
              "    <path d=\"M0 0h24v24H0V0z\" fill=\"none\"/>\n",
              "    <path d=\"M18.56 5.44l.94 2.06.94-2.06 2.06-.94-2.06-.94-.94-2.06-.94 2.06-2.06.94zm-11 1L8.5 8.5l.94-2.06 2.06-.94-2.06-.94L8.5 2.5l-.94 2.06-2.06.94zm10 10l.94 2.06.94-2.06 2.06-.94-2.06-.94-.94-2.06-.94 2.06-2.06.94z\"/><path d=\"M17.41 7.96l-1.37-1.37c-.4-.4-.92-.59-1.43-.59-.52 0-1.04.2-1.43.59L10.3 9.45l-7.72 7.72c-.78.78-.78 2.05 0 2.83L4 21.41c.39.39.9.59 1.41.59.51 0 1.02-.2 1.41-.59l7.78-7.78 2.81-2.81c.8-.78.8-2.07 0-2.86zM5.41 20L4 18.59l7.72-7.72 1.47 1.35L5.41 20z\"/>\n",
              "  </svg>\n",
              "      </button>\n",
              "      \n",
              "  <style>\n",
              "    .colab-df-container {\n",
              "      display:flex;\n",
              "      flex-wrap:wrap;\n",
              "      gap: 12px;\n",
              "    }\n",
              "\n",
              "    .colab-df-convert {\n",
              "      background-color: #E8F0FE;\n",
              "      border: none;\n",
              "      border-radius: 50%;\n",
              "      cursor: pointer;\n",
              "      display: none;\n",
              "      fill: #1967D2;\n",
              "      height: 32px;\n",
              "      padding: 0 0 0 0;\n",
              "      width: 32px;\n",
              "    }\n",
              "\n",
              "    .colab-df-convert:hover {\n",
              "      background-color: #E2EBFA;\n",
              "      box-shadow: 0px 1px 2px rgba(60, 64, 67, 0.3), 0px 1px 3px 1px rgba(60, 64, 67, 0.15);\n",
              "      fill: #174EA6;\n",
              "    }\n",
              "\n",
              "    [theme=dark] .colab-df-convert {\n",
              "      background-color: #3B4455;\n",
              "      fill: #D2E3FC;\n",
              "    }\n",
              "\n",
              "    [theme=dark] .colab-df-convert:hover {\n",
              "      background-color: #434B5C;\n",
              "      box-shadow: 0px 1px 3px 1px rgba(0, 0, 0, 0.15);\n",
              "      filter: drop-shadow(0px 1px 2px rgba(0, 0, 0, 0.3));\n",
              "      fill: #FFFFFF;\n",
              "    }\n",
              "  </style>\n",
              "\n",
              "      <script>\n",
              "        const buttonEl =\n",
              "          document.querySelector('#df-cc44931b-8815-4d88-b3e4-8f82080ba77c button.colab-df-convert');\n",
              "        buttonEl.style.display =\n",
              "          google.colab.kernel.accessAllowed ? 'block' : 'none';\n",
              "\n",
              "        async function convertToInteractive(key) {\n",
              "          const element = document.querySelector('#df-cc44931b-8815-4d88-b3e4-8f82080ba77c');\n",
              "          const dataTable =\n",
              "            await google.colab.kernel.invokeFunction('convertToInteractive',\n",
              "                                                     [key], {});\n",
              "          if (!dataTable) return;\n",
              "\n",
              "          const docLinkHtml = 'Like what you see? Visit the ' +\n",
              "            '<a target=\"_blank\" href=https://colab.research.google.com/notebooks/data_table.ipynb>data table notebook</a>'\n",
              "            + ' to learn more about interactive tables.';\n",
              "          element.innerHTML = '';\n",
              "          dataTable['output_type'] = 'display_data';\n",
              "          await google.colab.output.renderOutput(dataTable, element);\n",
              "          const docLink = document.createElement('div');\n",
              "          docLink.innerHTML = docLinkHtml;\n",
              "          element.appendChild(docLink);\n",
              "        }\n",
              "      </script>\n",
              "    </div>\n",
              "  </div>\n",
              "  "
            ]
          },
          "metadata": {},
          "execution_count": 109
        }
      ]
    }
  ]
}